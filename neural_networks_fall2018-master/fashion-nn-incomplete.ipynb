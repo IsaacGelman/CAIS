{
 "cells": [
  {
   "cell_type": "markdown",
   "metadata": {},
   "source": [
    "# Coding Portion: Fashion Item Classification\n",
    "\n",
    "* Dataset used: **Fashion MNIST** (28 x 28 grayscale images of fashion items)\n",
    "* Dataset size: 60,000 training samples, 10,000 test samples\n",
    "* Dataset source: https://github.com/zalandoresearch/fashion-mnist\n",
    "\n",
    "#### Classification Labels:\n",
    "Label | Description\n",
    ":--- | ---\n",
    "0 | T-shirt/top\n",
    "1 | Trouser\n",
    "2 | Pullover\n",
    "3 | Dress\n",
    "4 | Coat\n",
    "5 | Sandal\n",
    "6 | Shirt\n",
    "7 | Sneaker\n",
    "8 | Bag\n",
    "9 | Ankle boot"
   ]
  },
  {
   "cell_type": "markdown",
   "metadata": {},
   "source": [
    "### Step 1: Load in the Data"
   ]
  },
  {
   "cell_type": "code",
   "execution_count": 11,
   "metadata": {},
   "outputs": [],
   "source": [
    "# Import Fashion-MNIST dataset from 'fashion' folder\n",
    "\n",
    "from fashion import mnist_reader\n",
    "X_train, y_train = mnist_reader.load_mnist('fashion', kind='train')\n",
    "X_test, y_test = mnist_reader.load_mnist('fashion', kind='t10k')"
   ]
  },
  {
   "cell_type": "code",
   "execution_count": 3,
   "metadata": {},
   "outputs": [
    {
     "name": "stdout",
     "output_type": "stream",
     "text": [
      "Inputs shape is (60000, 784)\n",
      "Input type is <class 'numpy.ndarray'>\n",
      "Labels:\n",
      "[9 0 0 ... 3 0 5]\n",
      "Labels shape is(60000,)\n",
      "Labels type is <class 'numpy.ndarray'>\n"
     ]
    }
   ],
   "source": [
    "# Data exploration\n",
    "\n",
    "print(\"Inputs shape is \" + str(X_train.shape)) # 60,000 flattened image vectors (784 pixels long)\n",
    "print(\"Input type is \" + str(type(X_train)))\n",
    "print(\"Labels:\")\n",
    "print(y_train)\n",
    "print(\"Labels shape is\" + str(y_train.shape)) # 60,000 labels\n",
    "print(\"Labels type is \" + str(type(y_train)))"
   ]
  },
  {
   "cell_type": "code",
   "execution_count": 4,
   "metadata": {},
   "outputs": [],
   "source": [
    "# Convert numerical label to item description\n",
    "\n",
    "def to_description(label):\n",
    "    if label == 0: return \"T-shirt/top\"\n",
    "    elif label == 1: return \"Trouser\"\n",
    "    elif label == 2: return \"Pullover\"\n",
    "    elif label == 3: return \"Dress\"\n",
    "    elif label == 4: return \"Coat\"\n",
    "    elif label == 5: return \"Sandal\"\n",
    "    elif label == 6: return \"Shirt\"\n",
    "    elif label == 7: return \"Sneaker\"\n",
    "    elif label == 8: return \"Bag\"\n",
    "    elif label == 9: return \"Ankle boot\"\n",
    "    else: return \"Label not found\""
   ]
  },
  {
   "cell_type": "code",
   "execution_count": 6,
   "metadata": {},
   "outputs": [
    {
     "name": "stdout",
     "output_type": "stream",
     "text": [
      "Label:  9\n",
      "Description:  Ankle boot\n"
     ]
    },
    {
     "data": {
      "image/png": "[encoded data removed]",
      "text/plain": [
       "<Figure size 432x288 with 1 Axes>"
      ]
     },
     "metadata": {
      "needs_background": "light"
     },
     "output_type": "display_data"
    }
   ],
   "source": [
    "# Visualize the training examples\n",
    "\n",
    "import matplotlib.pyplot as plt\n",
    "import numpy as np\n",
    "\n",
    "def visualize_sample(sample_num):\n",
    "    flattened_vector = X_train[sample_num] # retrieve flattened vector\n",
    "    image_2d = np.reshape(flattened_vector, (28, 28)) # reshape to 28 x 28 grayscale image array\n",
    "    plt.imshow(image_2d, cmap = plt.get_cmap('gray')) # feed image into matplotlib\n",
    "    print(\"Label: \", y_train[sample_num]) # print actual label\n",
    "    print(\"Description: \", to_description(y_train[sample_num])) # print description\n",
    "    plt.show()\n",
    "    \n",
    "    \n",
    "visualize_sample(0)"
   ]
  },
  {
   "cell_type": "markdown",
   "metadata": {},
   "source": [
    "### Step 2: Data Pre-Processing\n",
    "1. Normalize the feature vectors/pixel values\n",
    "2. Categorize the outputs"
   ]
  },
  {
   "cell_type": "code",
   "execution_count": 12,
   "metadata": {},
   "outputs": [],
   "source": [
    "# Normalize the X_train and X_test dataset pixel values to between 0-1\n",
    "\n",
    "# TODO: fill this in\n",
    "    # Hint: maximum pixel value is still 255\n",
    "X_train = X_train / 255.\n",
    "X_test = X_test / 255."
   ]
  },
  {
   "cell_type": "code",
   "execution_count": 15,
   "metadata": {},
   "outputs": [
    {
     "name": "stdout",
     "output_type": "stream",
     "text": [
      "[[0. 0. 0. 0. 0. 0. 0. 0. 0. 1.]\n",
      " [0. 0. 1. 0. 0. 0. 0. 0. 0. 0.]\n",
      " [0. 1. 0. 0. 0. 0. 0. 0. 0. 0.]\n",
      " [0. 1. 0. 0. 0. 0. 0. 0. 0. 0.]\n",
      " [0. 0. 0. 0. 0. 0. 1. 0. 0. 0.]]\n"
     ]
    }
   ],
   "source": [
    "import keras\n",
    "\n",
    "# TODO: Use Keras to categorize the outputs (\"one-hot\" vectors)\n",
    "    # Use variable names: y_train_categorical, y_test_categorical\n",
    "    # hint: use the to_categorical() keras function to do this for you\n",
    "y_train_categorical = keras.utils.to_categorical(y_train, num_classes=10)\n",
    "y_test_categorical = keras.utils.to_categorical(y_test, num_classes=10)\n",
    "\n",
    "# let's see result of categorizing the outputs\n",
    "print(y_test_categorical[:5])"
   ]
  },
  {
   "cell_type": "markdown",
   "metadata": {},
   "source": [
    "### Step 3: Create and Compile Neural Network Model"
   ]
  },
  {
   "cell_type": "code",
   "execution_count": 89,
   "metadata": {},
   "outputs": [],
   "source": [
    "from keras.layers import Dense, Activation\n",
    "from keras.models import Sequential\n",
    "\n",
    "model = Sequential()\n",
    "\n",
    "# TODO: fill this in\n",
    "# Feel free to experiment with different number of layers, number of neurons, activation functions, etc.\n",
    "    # Activation functions: https://keras.io/activations/\n",
    "    # Declaring Keras layers: https://keras.io/layers/core/\n",
    "    \n",
    "### Add 1st layer here. Remember that the input_dimension should match up with the input vector dimension!\n",
    "model.add(Dense(30, input_dim = 784))\n",
    "model.add(Activation('relu'))\n",
    "\n",
    "model.add(Dense(50))\n",
    "model.add(Activation('relu'))\n",
    "\n",
    "model.add(Dense(30))\n",
    "model.add(Activation('relu'))\n",
    "### Add 2nd layer here.\n",
    "model.add(Dense(10))\n",
    "model.add(Activation('softmax'))\n",
    "# Add final layer here. Make sure the last layer matches up the output vector dimension\n",
    "    # Hint: use softmax again to output classification probabilities\n"
   ]
  },
  {
   "cell_type": "code",
   "execution_count": 90,
   "metadata": {},
   "outputs": [],
   "source": [
    "# TODO: Compile model\n",
    "    # Loss: categorical cross-entropy\n",
    "    # Optimizer: stochastic gradient descent\n",
    "        # Or: experiment with other optimizers? https://keras.io/optimizers/\n",
    "    # Metrics: accuracy\n",
    "model.compile(optimizer='sgd',\n",
    "              loss='categorical_crossentropy',\n",
    "              metrics=['accuracy'])"
   ]
  },
  {
   "cell_type": "code",
   "execution_count": 91,
   "metadata": {},
   "outputs": [
    {
     "name": "stdout",
     "output_type": "stream",
     "text": [
      "_________________________________________________________________\n",
      "Layer (type)                 Output Shape              Param #   \n",
      "=================================================================\n",
      "dense_53 (Dense)             (None, 30)                23550     \n",
      "_________________________________________________________________\n",
      "activation_51 (Activation)   (None, 30)                0         \n",
      "_________________________________________________________________\n",
      "dense_54 (Dense)             (None, 50)                1550      \n",
      "_________________________________________________________________\n",
      "activation_52 (Activation)   (None, 50)                0         \n",
      "_________________________________________________________________\n",
      "dense_55 (Dense)             (None, 30)                1530      \n",
      "_________________________________________________________________\n",
      "activation_53 (Activation)   (None, 30)                0         \n",
      "_________________________________________________________________\n",
      "dense_56 (Dense)             (None, 10)                310       \n",
      "_________________________________________________________________\n",
      "activation_54 (Activation)   (None, 10)                0         \n",
      "=================================================================\n",
      "Total params: 26,940\n",
      "Trainable params: 26,940\n",
      "Non-trainable params: 0\n",
      "_________________________________________________________________\n"
     ]
    }
   ],
   "source": [
    "model.summary()"
   ]
  },
  {
   "cell_type": "code",
   "execution_count": 92,
   "metadata": {},
   "outputs": [],
   "source": [
    "# Import relevant libraries\n",
    "from keras_tqdm import TQDMNotebookCallback # TQDM: progress bars\n",
    "from keras.callbacks import TensorBoard # Tensorboard: training plots\n",
    "    \n",
    "# Clear any existing Tensorboard logs\n",
    "import shutil\n",
    "shutil.rmtree('./logs', ignore_errors=True)\n",
    "\n",
    "# Set up callback links to refer back to during training\n",
    "tensorboard = TensorBoard()\n",
    "callbacks_list = [TQDMNotebookCallback(), tensorboard]"
   ]
  },
  {
   "cell_type": "code",
   "execution_count": 93,
   "metadata": {},
   "outputs": [
    {
     "name": "stdout",
     "output_type": "stream",
     "text": [
      "Train on 54000 samples, validate on 6000 samples\n"
     ]
    },
    {
     "data": {
      "application/vnd.jupyter.widget-view+json": {
       "model_id": "629b149bc1244e9ea1eaf7ac6822b47a",
       "version_major": 2,
       "version_minor": 0
      },
      "text/plain": [
       "HBox(children=(IntProgress(value=0, description='Training', max=20), HTML(value='')))"
      ]
     },
     "metadata": {},
     "output_type": "display_data"
    },
    {
     "name": "stdout",
     "output_type": "stream",
     "text": [
      "Epoch 1/20\n"
     ]
    },
    {
     "data": {
      "application/vnd.jupyter.widget-view+json": {
       "model_id": "",
       "version_major": 2,
       "version_minor": 0
      },
      "text/plain": [
       "HBox(children=(IntProgress(value=0, description='Epoch 0', max=54000), HTML(value='')))"
      ]
     },
     "metadata": {},
     "output_type": "display_data"
    },
    {
     "name": "stdout",
     "output_type": "stream",
     "text": [
      "54000/54000 [==============================] - ETA: 5:59 - loss: 2.4176 - acc: 0.075 - ETA: 26s - loss: 2.2704 - acc: 0.135 - ETA: 15s - loss: 2.2394 - acc: 0.15 - ETA: 12s - loss: 2.2110 - acc: 0.17 - ETA: 10s - loss: 2.1889 - acc: 0.19 - ETA: 9s - loss: 2.1631 - acc: 0.2108 - ETA: 8s - loss: 2.1350 - acc: 0.231 - ETA: 7s - loss: 2.1128 - acc: 0.241 - ETA: 7s - loss: 2.0811 - acc: 0.258 - ETA: 6s - loss: 2.0472 - acc: 0.275 - ETA: 6s - loss: 2.0138 - acc: 0.292 - ETA: 6s - loss: 1.9805 - acc: 0.311 - ETA: 5s - loss: 1.9528 - acc: 0.326 - ETA: 5s - loss: 1.9259 - acc: 0.341 - ETA: 5s - loss: 1.8943 - acc: 0.357 - ETA: 5s - loss: 1.8635 - acc: 0.372 - ETA: 5s - loss: 1.8384 - acc: 0.384 - ETA: 5s - loss: 1.8164 - acc: 0.394 - ETA: 5s - loss: 1.7932 - acc: 0.406 - ETA: 5s - loss: 1.7706 - acc: 0.415 - ETA: 5s - loss: 1.7485 - acc: 0.425 - ETA: 5s - loss: 1.7292 - acc: 0.432 - ETA: 5s - loss: 1.7121 - acc: 0.439 - ETA: 5s - loss: 1.6924 - acc: 0.446 - ETA: 5s - loss: 1.6754 - acc: 0.452 - ETA: 5s - loss: 1.6560 - acc: 0.460 - ETA: 5s - loss: 1.6378 - acc: 0.466 - ETA: 5s - loss: 1.6193 - acc: 0.472 - ETA: 5s - loss: 1.6028 - acc: 0.477 - ETA: 5s - loss: 1.5874 - acc: 0.482 - ETA: 5s - loss: 1.5707 - acc: 0.488 - ETA: 5s - loss: 1.5558 - acc: 0.494 - ETA: 5s - loss: 1.5420 - acc: 0.498 - ETA: 5s - loss: 1.5300 - acc: 0.502 - ETA: 5s - loss: 1.5161 - acc: 0.507 - ETA: 5s - loss: 1.5032 - acc: 0.511 - ETA: 5s - loss: 1.4904 - acc: 0.515 - ETA: 5s - loss: 1.4774 - acc: 0.519 - ETA: 5s - loss: 1.4650 - acc: 0.522 - ETA: 4s - loss: 1.4534 - acc: 0.525 - ETA: 4s - loss: 1.4430 - acc: 0.528 - ETA: 4s - loss: 1.4320 - acc: 0.531 - ETA: 4s - loss: 1.4202 - acc: 0.534 - ETA: 4s - loss: 1.4102 - acc: 0.537 - ETA: 4s - loss: 1.3982 - acc: 0.541 - ETA: 4s - loss: 1.3895 - acc: 0.544 - ETA: 4s - loss: 1.3796 - acc: 0.546 - ETA: 4s - loss: 1.3694 - acc: 0.550 - ETA: 4s - loss: 1.3594 - acc: 0.553 - ETA: 4s - loss: 1.3500 - acc: 0.556 - ETA: 4s - loss: 1.3392 - acc: 0.559 - ETA: 4s - loss: 1.3310 - acc: 0.562 - ETA: 4s - loss: 1.3226 - acc: 0.564 - ETA: 4s - loss: 1.3151 - acc: 0.566 - ETA: 4s - loss: 1.3076 - acc: 0.568 - ETA: 4s - loss: 1.2986 - acc: 0.571 - ETA: 4s - loss: 1.2901 - acc: 0.574 - ETA: 4s - loss: 1.2823 - acc: 0.576 - ETA: 4s - loss: 1.2733 - acc: 0.578 - ETA: 4s - loss: 1.2663 - acc: 0.580 - ETA: 4s - loss: 1.2583 - acc: 0.583 - ETA: 4s - loss: 1.2507 - acc: 0.585 - ETA: 4s - loss: 1.2428 - acc: 0.587 - ETA: 4s - loss: 1.2376 - acc: 0.588 - ETA: 4s - loss: 1.2302 - acc: 0.591 - ETA: 4s - loss: 1.2235 - acc: 0.592 - ETA: 3s - loss: 1.2170 - acc: 0.594 - ETA: 3s - loss: 1.2110 - acc: 0.596 - ETA: 3s - loss: 1.2048 - acc: 0.598 - ETA: 3s - loss: 1.1992 - acc: 0.599 - ETA: 3s - loss: 1.1941 - acc: 0.600 - ETA: 3s - loss: 1.1882 - acc: 0.602 - ETA: 3s - loss: 1.1825 - acc: 0.604 - ETA: 3s - loss: 1.1782 - acc: 0.606 - ETA: 3s - loss: 1.1733 - acc: 0.607 - ETA: 3s - loss: 1.1627 - acc: 0.610 - ETA: 3s - loss: 1.1537 - acc: 0.613 - ETA: 3s - loss: 1.1479 - acc: 0.614 - ETA: 3s - loss: 1.1405 - acc: 0.617 - ETA: 3s - loss: 1.1343 - acc: 0.619 - ETA: 3s - loss: 1.1283 - acc: 0.621 - ETA: 3s - loss: 1.1223 - acc: 0.623 - ETA: 2s - loss: 1.1162 - acc: 0.624 - ETA: 2s - loss: 1.1116 - acc: 0.626 - ETA: 2s - loss: 1.1064 - acc: 0.627 - ETA: 2s - loss: 1.1018 - acc: 0.629 - ETA: 2s - loss: 1.0960 - acc: 0.631 - ETA: 2s - loss: 1.0917 - acc: 0.632 - ETA: 2s - loss: 1.0876 - acc: 0.634 - ETA: 2s - loss: 1.0824 - acc: 0.636 - ETA: 2s - loss: 1.0784 - acc: 0.637 - ETA: 2s - loss: 1.0742 - acc: 0.638 - ETA: 2s - loss: 1.0708 - acc: 0.639 - ETA: 2s - loss: 1.0678 - acc: 0.640 - ETA: 2s - loss: 1.0641 - acc: 0.641 - ETA: 2s - loss: 1.0609 - acc: 0.642 - ETA: 2s - loss: 1.0567 - acc: 0.643 - ETA: 2s - loss: 1.0525 - acc: 0.645 - ETA: 2s - loss: 1.0493 - acc: 0.646 - ETA: 2s - loss: 1.0465 - acc: 0.647 - ETA: 2s - loss: 1.0440 - acc: 0.648 - ETA: 2s - loss: 1.0404 - acc: 0.649 - ETA: 2s - loss: 1.0382 - acc: 0.650 - ETA: 1s - loss: 1.0345 - acc: 0.651 - ETA: 1s - loss: 1.0314 - acc: 0.652 - ETA: 1s - loss: 1.0281 - acc: 0.653 - ETA: 1s - loss: 1.0251 - acc: 0.654 - ETA: 1s - loss: 1.0214 - acc: 0.655 - ETA: 1s - loss: 1.0194 - acc: 0.656 - ETA: 1s - loss: 1.0168 - acc: 0.657 - ETA: 1s - loss: 1.0136 - acc: 0.658 - ETA: 1s - loss: 1.0106 - acc: 0.659 - ETA: 1s - loss: 1.0080 - acc: 0.660 - ETA: 1s - loss: 1.0052 - acc: 0.661 - ETA: 1s - loss: 1.0023 - acc: 0.662 - ETA: 1s - loss: 0.9987 - acc: 0.663 - ETA: 1s - loss: 0.9962 - acc: 0.663 - ETA: 1s - loss: 0.9936 - acc: 0.664 - ETA: 1s - loss: 0.9910 - acc: 0.665 - ETA: 1s - loss: 0.9880 - acc: 0.666 - ETA: 1s - loss: 0.9854 - acc: 0.667 - ETA: 1s - loss: 0.9825 - acc: 0.668 - ETA: 1s - loss: 0.9798 - acc: 0.669 - ETA: 1s - loss: 0.9766 - acc: 0.670 - ETA: 1s - loss: 0.9736 - acc: 0.671 - ETA: 0s - loss: 0.9711 - acc: 0.671 - ETA: 0s - loss: 0.9677 - acc: 0.672 - ETA: 0s - loss: 0.9629 - acc: 0.674 - ETA: 0s - loss: 0.9600 - acc: 0.675 - ETA: 0s - loss: 0.9581 - acc: 0.676 - ETA: 0s - loss: 0.9559 - acc: 0.676 - ETA: 0s - loss: 0.9539 - acc: 0.677 - ETA: 0s - loss: 0.9518 - acc: 0.678 - ETA: 0s - loss: 0.9490 - acc: 0.678 - ETA: 0s - loss: 0.9465 - acc: 0.679 - ETA: 0s - loss: 0.9436 - acc: 0.681 - ETA: 0s - loss: 0.9415 - acc: 0.681 - ETA: 0s - loss: 0.9392 - acc: 0.682 - ETA: 0s - loss: 0.9368 - acc: 0.683 - ETA: 0s - loss: 0.9347 - acc: 0.683 - ETA: 0s - loss: 0.9324 - acc: 0.684 - ETA: 0s - loss: 0.9304 - acc: 0.685 - ETA: 0s - loss: 0.9284 - acc: 0.685 - ETA: 0s - loss: 0.9265 - acc: 0.686 - ETA: 0s - loss: 0.9245 - acc: 0.687 - 8s 153us/step - loss: 0.9235 - acc: 0.6873 - val_loss: 0.5673 - val_acc: 0.8020\n",
      "Epoch 2/20\n"
     ]
    },
    {
     "data": {
      "application/vnd.jupyter.widget-view+json": {
       "model_id": "",
       "version_major": 2,
       "version_minor": 0
      },
      "text/plain": [
       "HBox(children=(IntProgress(value=0, description='Epoch 1', max=54000), HTML(value='')))"
      ]
     },
     "metadata": {},
     "output_type": "display_data"
    },
    {
     "name": "stdout",
     "output_type": "stream",
     "text": [
      "54000/54000 [==============================] - ETA: 1:31 - loss: 0.6887 - acc: 0.750 - ETA: 17s - loss: 0.5605 - acc: 0.800 - ETA: 12s - loss: 0.5539 - acc: 0.80 - ETA: 11s - loss: 0.5731 - acc: 0.79 - ETA: 10s - loss: 0.5661 - acc: 0.80 - ETA: 10s - loss: 0.5591 - acc: 0.80 - ETA: 9s - loss: 0.5592 - acc: 0.8067 - ETA: 9s - loss: 0.5573 - acc: 0.807 - ETA: 8s - loss: 0.5655 - acc: 0.805 - ETA: 8s - loss: 0.5626 - acc: 0.807 - ETA: 8s - loss: 0.5661 - acc: 0.803 - ETA: 8s - loss: 0.5761 - acc: 0.799 - ETA: 8s - loss: 0.5755 - acc: 0.800 - ETA: 8s - loss: 0.5739 - acc: 0.798 - ETA: 8s - loss: 0.5665 - acc: 0.800 - ETA: 8s - loss: 0.5642 - acc: 0.801 - ETA: 7s - loss: 0.5629 - acc: 0.801 - ETA: 7s - loss: 0.5615 - acc: 0.802 - ETA: 7s - loss: 0.5606 - acc: 0.802 - ETA: 7s - loss: 0.5592 - acc: 0.803 - ETA: 7s - loss: 0.5598 - acc: 0.803 - ETA: 7s - loss: 0.5600 - acc: 0.802 - ETA: 7s - loss: 0.5626 - acc: 0.802 - ETA: 7s - loss: 0.5642 - acc: 0.800 - ETA: 7s - loss: 0.5639 - acc: 0.799 - ETA: 7s - loss: 0.5622 - acc: 0.800 - ETA: 7s - loss: 0.5623 - acc: 0.800 - ETA: 7s - loss: 0.5653 - acc: 0.799 - ETA: 7s - loss: 0.5638 - acc: 0.800 - ETA: 7s - loss: 0.5651 - acc: 0.800 - ETA: 7s - loss: 0.5644 - acc: 0.800 - ETA: 6s - loss: 0.5652 - acc: 0.800 - ETA: 6s - loss: 0.5686 - acc: 0.798 - ETA: 6s - loss: 0.5700 - acc: 0.798 - ETA: 6s - loss: 0.5690 - acc: 0.798 - ETA: 6s - loss: 0.5689 - acc: 0.798 - ETA: 6s - loss: 0.5686 - acc: 0.798 - ETA: 6s - loss: 0.5672 - acc: 0.799 - ETA: 6s - loss: 0.5669 - acc: 0.800 - ETA: 6s - loss: 0.5680 - acc: 0.799 - ETA: 6s - loss: 0.5686 - acc: 0.799 - ETA: 6s - loss: 0.5693 - acc: 0.800 - ETA: 6s - loss: 0.5688 - acc: 0.800 - ETA: 6s - loss: 0.5682 - acc: 0.800 - ETA: 6s - loss: 0.5669 - acc: 0.801 - ETA: 6s - loss: 0.5662 - acc: 0.801 - ETA: 6s - loss: 0.5666 - acc: 0.801 - ETA: 6s - loss: 0.5663 - acc: 0.801 - ETA: 6s - loss: 0.5670 - acc: 0.800 - ETA: 5s - loss: 0.5665 - acc: 0.800 - ETA: 5s - loss: 0.5645 - acc: 0.801 - ETA: 5s - loss: 0.5642 - acc: 0.801 - ETA: 5s - loss: 0.5637 - acc: 0.802 - ETA: 5s - loss: 0.5636 - acc: 0.801 - ETA: 5s - loss: 0.5628 - acc: 0.802 - ETA: 5s - loss: 0.5624 - acc: 0.802 - ETA: 5s - loss: 0.5639 - acc: 0.801 - ETA: 5s - loss: 0.5631 - acc: 0.801 - ETA: 5s - loss: 0.5632 - acc: 0.801 - ETA: 5s - loss: 0.5622 - acc: 0.801 - ETA: 5s - loss: 0.5617 - acc: 0.802 - ETA: 5s - loss: 0.5611 - acc: 0.802 - ETA: 5s - loss: 0.5606 - acc: 0.803 - ETA: 5s - loss: 0.5600 - acc: 0.803 - ETA: 5s - loss: 0.5597 - acc: 0.803 - ETA: 5s - loss: 0.5596 - acc: 0.803 - ETA: 4s - loss: 0.5593 - acc: 0.803 - ETA: 4s - loss: 0.5596 - acc: 0.802 - ETA: 4s - loss: 0.5608 - acc: 0.802 - ETA: 4s - loss: 0.5598 - acc: 0.803 - ETA: 4s - loss: 0.5605 - acc: 0.803 - ETA: 4s - loss: 0.5603 - acc: 0.803 - ETA: 4s - loss: 0.5601 - acc: 0.802 - ETA: 4s - loss: 0.5603 - acc: 0.803 - ETA: 4s - loss: 0.5604 - acc: 0.803 - ETA: 4s - loss: 0.5606 - acc: 0.802 - ETA: 3s - loss: 0.5595 - acc: 0.803 - ETA: 3s - loss: 0.5583 - acc: 0.803 - ETA: 3s - loss: 0.5576 - acc: 0.804 - ETA: 3s - loss: 0.5576 - acc: 0.804 - ETA: 3s - loss: 0.5569 - acc: 0.804 - ETA: 3s - loss: 0.5572 - acc: 0.804 - ETA: 3s - loss: 0.5563 - acc: 0.804 - ETA: 3s - loss: 0.5566 - acc: 0.804 - ETA: 3s - loss: 0.5564 - acc: 0.804 - ETA: 3s - loss: 0.5564 - acc: 0.803 - ETA: 3s - loss: 0.5562 - acc: 0.804 - ETA: 3s - loss: 0.5556 - acc: 0.804 - ETA: 3s - loss: 0.5543 - acc: 0.804 - ETA: 3s - loss: 0.5540 - acc: 0.804 - ETA: 3s - loss: 0.5548 - acc: 0.804 - ETA: 3s - loss: 0.5540 - acc: 0.804 - ETA: 3s - loss: 0.5537 - acc: 0.804 - ETA: 3s - loss: 0.5531 - acc: 0.804 - ETA: 2s - loss: 0.5538 - acc: 0.804 - ETA: 2s - loss: 0.5531 - acc: 0.804 - ETA: 2s - loss: 0.5528 - acc: 0.804 - ETA: 2s - loss: 0.5529 - acc: 0.804 - ETA: 2s - loss: 0.5520 - acc: 0.805 - ETA: 2s - loss: 0.5518 - acc: 0.805 - ETA: 2s - loss: 0.5513 - acc: 0.805 - ETA: 2s - loss: 0.5512 - acc: 0.805 - ETA: 2s - loss: 0.5507 - acc: 0.805 - ETA: 2s - loss: 0.5505 - acc: 0.805 - ETA: 2s - loss: 0.5499 - acc: 0.806 - ETA: 2s - loss: 0.5499 - acc: 0.806 - ETA: 2s - loss: 0.5497 - acc: 0.806 - ETA: 2s - loss: 0.5496 - acc: 0.806 - ETA: 2s - loss: 0.5488 - acc: 0.806 - ETA: 2s - loss: 0.5486 - acc: 0.806 - ETA: 1s - loss: 0.5476 - acc: 0.806 - ETA: 1s - loss: 0.5476 - acc: 0.806 - ETA: 1s - loss: 0.5475 - acc: 0.806 - ETA: 1s - loss: 0.5480 - acc: 0.806 - ETA: 1s - loss: 0.5486 - acc: 0.806 - ETA: 1s - loss: 0.5482 - acc: 0.806 - ETA: 1s - loss: 0.5471 - acc: 0.807 - ETA: 1s - loss: 0.5467 - acc: 0.807 - ETA: 1s - loss: 0.5458 - acc: 0.807 - ETA: 1s - loss: 0.5462 - acc: 0.807 - ETA: 1s - loss: 0.5454 - acc: 0.807 - ETA: 1s - loss: 0.5456 - acc: 0.807 - ETA: 1s - loss: 0.5454 - acc: 0.807 - ETA: 1s - loss: 0.5445 - acc: 0.807 - ETA: 1s - loss: 0.5439 - acc: 0.808 - ETA: 1s - loss: 0.5434 - acc: 0.808 - ETA: 0s - loss: 0.5431 - acc: 0.808 - ETA: 0s - loss: 0.5432 - acc: 0.808 - ETA: 0s - loss: 0.5430 - acc: 0.808 - ETA: 0s - loss: 0.5422 - acc: 0.808 - ETA: 0s - loss: 0.5418 - acc: 0.809 - ETA: 0s - loss: 0.5418 - acc: 0.809 - ETA: 0s - loss: 0.5417 - acc: 0.809 - ETA: 0s - loss: 0.5418 - acc: 0.809 - ETA: 0s - loss: 0.5424 - acc: 0.809 - ETA: 0s - loss: 0.5420 - acc: 0.809 - ETA: 0s - loss: 0.5424 - acc: 0.809 - ETA: 0s - loss: 0.5418 - acc: 0.809 - ETA: 0s - loss: 0.5420 - acc: 0.809 - ETA: 0s - loss: 0.5414 - acc: 0.809 - ETA: 0s - loss: 0.5410 - acc: 0.809 - ETA: 0s - loss: 0.5408 - acc: 0.809 - ETA: 0s - loss: 0.5404 - acc: 0.809 - ETA: 0s - loss: 0.5399 - acc: 0.809 - ETA: 0s - loss: 0.5396 - acc: 0.809 - ETA: 0s - loss: 0.5393 - acc: 0.809 - ETA: 0s - loss: 0.5387 - acc: 0.810 - 8s 150us/step - loss: 0.5384 - acc: 0.8101 - val_loss: 0.5105 - val_acc: 0.8232\n",
      "Epoch 3/20\n"
     ]
    },
    {
     "data": {
      "application/vnd.jupyter.widget-view+json": {
       "model_id": "",
       "version_major": 2,
       "version_minor": 0
      },
      "text/plain": [
       "HBox(children=(IntProgress(value=0, description='Epoch 2', max=54000), HTML(value='')))"
      ]
     },
     "metadata": {},
     "output_type": "display_data"
    },
    {
     "name": "stdout",
     "output_type": "stream",
     "text": [
      "54000/54000 [==============================] - ETA: 41s - loss: 0.4757 - acc: 0.80 - ETA: 4s - loss: 0.4753 - acc: 0.8352 - ETA: 4s - loss: 0.4791 - acc: 0.833 - ETA: 4s - loss: 0.4894 - acc: 0.830 - ETA: 4s - loss: 0.4877 - acc: 0.832 - ETA: 4s - loss: 0.4900 - acc: 0.833 - ETA: 4s - loss: 0.4883 - acc: 0.834 - ETA: 4s - loss: 0.4880 - acc: 0.832 - ETA: 4s - loss: 0.4888 - acc: 0.832 - ETA: 4s - loss: 0.4940 - acc: 0.829 - ETA: 5s - loss: 0.4905 - acc: 0.831 - ETA: 5s - loss: 0.4902 - acc: 0.830 - ETA: 5s - loss: 0.4885 - acc: 0.831 - ETA: 5s - loss: 0.4918 - acc: 0.830 - ETA: 5s - loss: 0.4905 - acc: 0.831 - ETA: 5s - loss: 0.4872 - acc: 0.831 - ETA: 5s - loss: 0.4877 - acc: 0.831 - ETA: 5s - loss: 0.4898 - acc: 0.830 - ETA: 5s - loss: 0.4895 - acc: 0.831 - ETA: 5s - loss: 0.4915 - acc: 0.830 - ETA: 5s - loss: 0.4917 - acc: 0.830 - ETA: 5s - loss: 0.4885 - acc: 0.830 - ETA: 5s - loss: 0.4889 - acc: 0.831 - ETA: 5s - loss: 0.4860 - acc: 0.832 - ETA: 5s - loss: 0.4853 - acc: 0.832 - ETA: 5s - loss: 0.4860 - acc: 0.831 - ETA: 5s - loss: 0.4881 - acc: 0.830 - ETA: 5s - loss: 0.4887 - acc: 0.829 - ETA: 5s - loss: 0.4883 - acc: 0.829 - ETA: 5s - loss: 0.4894 - acc: 0.829 - ETA: 5s - loss: 0.4906 - acc: 0.829 - ETA: 4s - loss: 0.4889 - acc: 0.829 - ETA: 4s - loss: 0.4897 - acc: 0.829 - ETA: 4s - loss: 0.4893 - acc: 0.829 - ETA: 4s - loss: 0.4903 - acc: 0.828 - ETA: 4s - loss: 0.4900 - acc: 0.828 - ETA: 4s - loss: 0.4901 - acc: 0.828 - ETA: 4s - loss: 0.4911 - acc: 0.828 - ETA: 4s - loss: 0.4920 - acc: 0.828 - ETA: 4s - loss: 0.4907 - acc: 0.829 - ETA: 4s - loss: 0.4899 - acc: 0.829 - ETA: 4s - loss: 0.4887 - acc: 0.829 - ETA: 4s - loss: 0.4899 - acc: 0.828 - ETA: 4s - loss: 0.4893 - acc: 0.829 - ETA: 4s - loss: 0.4889 - acc: 0.829 - ETA: 4s - loss: 0.4879 - acc: 0.829 - ETA: 4s - loss: 0.4879 - acc: 0.829 - ETA: 4s - loss: 0.4884 - acc: 0.829 - ETA: 4s - loss: 0.4892 - acc: 0.828 - ETA: 4s - loss: 0.4882 - acc: 0.828 - ETA: 4s - loss: 0.4888 - acc: 0.828 - ETA: 4s - loss: 0.4879 - acc: 0.828 - ETA: 4s - loss: 0.4874 - acc: 0.828 - ETA: 4s - loss: 0.4876 - acc: 0.828 - ETA: 4s - loss: 0.4898 - acc: 0.827 - ETA: 4s - loss: 0.4888 - acc: 0.828 - ETA: 4s - loss: 0.4881 - acc: 0.828 - ETA: 4s - loss: 0.4875 - acc: 0.828 - ETA: 4s - loss: 0.4879 - acc: 0.828 - ETA: 4s - loss: 0.4871 - acc: 0.829 - ETA: 4s - loss: 0.4872 - acc: 0.828 - ETA: 4s - loss: 0.4876 - acc: 0.828 - ETA: 3s - loss: 0.4884 - acc: 0.828 - ETA: 3s - loss: 0.4873 - acc: 0.828 - ETA: 3s - loss: 0.4873 - acc: 0.828 - ETA: 3s - loss: 0.4871 - acc: 0.828 - ETA: 3s - loss: 0.4866 - acc: 0.828 - ETA: 3s - loss: 0.4877 - acc: 0.828 - ETA: 3s - loss: 0.4867 - acc: 0.828 - ETA: 3s - loss: 0.4882 - acc: 0.828 - ETA: 3s - loss: 0.4884 - acc: 0.828 - ETA: 3s - loss: 0.4881 - acc: 0.828 - ETA: 3s - loss: 0.4882 - acc: 0.828 - ETA: 3s - loss: 0.4882 - acc: 0.828 - ETA: 3s - loss: 0.4888 - acc: 0.827 - ETA: 3s - loss: 0.4882 - acc: 0.827 - ETA: 3s - loss: 0.4879 - acc: 0.828 - ETA: 3s - loss: 0.4872 - acc: 0.828 - ETA: 3s - loss: 0.4866 - acc: 0.828 - ETA: 3s - loss: 0.4868 - acc: 0.828 - ETA: 3s - loss: 0.4864 - acc: 0.829 - ETA: 3s - loss: 0.4863 - acc: 0.829 - ETA: 3s - loss: 0.4860 - acc: 0.829 - ETA: 3s - loss: 0.4855 - acc: 0.829 - ETA: 3s - loss: 0.4852 - acc: 0.829 - ETA: 3s - loss: 0.4843 - acc: 0.829 - ETA: 3s - loss: 0.4846 - acc: 0.829 - ETA: 3s - loss: 0.4848 - acc: 0.829 - ETA: 2s - loss: 0.4850 - acc: 0.829 - ETA: 2s - loss: 0.4850 - acc: 0.829 - ETA: 2s - loss: 0.4852 - acc: 0.829 - ETA: 2s - loss: 0.4849 - acc: 0.829 - ETA: 2s - loss: 0.4849 - acc: 0.829 - ETA: 2s - loss: 0.4847 - acc: 0.829 - ETA: 2s - loss: 0.4845 - acc: 0.829 - ETA: 2s - loss: 0.4846 - acc: 0.829 - ETA: 2s - loss: 0.4844 - acc: 0.829 - ETA: 2s - loss: 0.4850 - acc: 0.829 - ETA: 2s - loss: 0.4852 - acc: 0.829 - ETA: 2s - loss: 0.4845 - acc: 0.829 - ETA: 2s - loss: 0.4843 - acc: 0.830 - ETA: 2s - loss: 0.4835 - acc: 0.830 - ETA: 2s - loss: 0.4832 - acc: 0.830 - ETA: 2s - loss: 0.4837 - acc: 0.830 - ETA: 2s - loss: 0.4841 - acc: 0.830 - ETA: 2s - loss: 0.4840 - acc: 0.829 - ETA: 2s - loss: 0.4846 - acc: 0.829 - ETA: 2s - loss: 0.4845 - acc: 0.829 - ETA: 2s - loss: 0.4842 - acc: 0.830 - ETA: 2s - loss: 0.4845 - acc: 0.829 - ETA: 2s - loss: 0.4841 - acc: 0.830 - ETA: 2s - loss: 0.4840 - acc: 0.830 - ETA: 1s - loss: 0.4837 - acc: 0.830 - ETA: 1s - loss: 0.4837 - acc: 0.830 - ETA: 1s - loss: 0.4831 - acc: 0.830 - ETA: 1s - loss: 0.4824 - acc: 0.830 - ETA: 1s - loss: 0.4821 - acc: 0.830 - ETA: 1s - loss: 0.4820 - acc: 0.830 - ETA: 1s - loss: 0.4823 - acc: 0.830 - ETA: 1s - loss: 0.4824 - acc: 0.830 - ETA: 1s - loss: 0.4816 - acc: 0.830 - ETA: 1s - loss: 0.4816 - acc: 0.830 - ETA: 1s - loss: 0.4820 - acc: 0.830 - ETA: 1s - loss: 0.4825 - acc: 0.830 - ETA: 1s - loss: 0.4830 - acc: 0.830 - ETA: 1s - loss: 0.4830 - acc: 0.830 - ETA: 1s - loss: 0.4835 - acc: 0.829 - ETA: 0s - loss: 0.4837 - acc: 0.829 - ETA: 0s - loss: 0.4833 - acc: 0.829 - ETA: 0s - loss: 0.4837 - acc: 0.829 - ETA: 0s - loss: 0.4830 - acc: 0.830 - ETA: 0s - loss: 0.4823 - acc: 0.830 - ETA: 0s - loss: 0.4825 - acc: 0.830 - ETA: 0s - loss: 0.4822 - acc: 0.830 - ETA: 0s - loss: 0.4826 - acc: 0.830 - ETA: 0s - loss: 0.4828 - acc: 0.829 - ETA: 0s - loss: 0.4831 - acc: 0.829 - ETA: 0s - loss: 0.4835 - acc: 0.829 - ETA: 0s - loss: 0.4832 - acc: 0.829 - ETA: 0s - loss: 0.4825 - acc: 0.830 - ETA: 0s - loss: 0.4817 - acc: 0.830 - ETA: 0s - loss: 0.4822 - acc: 0.829 - ETA: 0s - loss: 0.4821 - acc: 0.829 - 8s 144us/step - loss: 0.4818 - acc: 0.8300 - val_loss: 0.4798 - val_acc: 0.8265\n",
      "Epoch 4/20\n"
     ]
    },
    {
     "data": {
      "application/vnd.jupyter.widget-view+json": {
       "model_id": "",
       "version_major": 2,
       "version_minor": 0
      },
      "text/plain": [
       "HBox(children=(IntProgress(value=0, description='Epoch 3', max=54000), HTML(value='')))"
      ]
     },
     "metadata": {},
     "output_type": "display_data"
    },
    {
     "name": "stdout",
     "output_type": "stream",
     "text": [
      "54000/54000 [==============================] - ETA: 1:27 - loss: 0.4569 - acc: 0.875 - ETA: 15s - loss: 0.5690 - acc: 0.797 - ETA: 11s - loss: 0.4622 - acc: 0.84 - ETA: 7s - loss: 0.4417 - acc: 0.8436 - ETA: 6s - loss: 0.4355 - acc: 0.843 - ETA: 6s - loss: 0.4444 - acc: 0.837 - ETA: 6s - loss: 0.4444 - acc: 0.836 - ETA: 7s - loss: 0.4467 - acc: 0.838 - ETA: 7s - loss: 0.4398 - acc: 0.842 - ETA: 7s - loss: 0.4441 - acc: 0.840 - ETA: 7s - loss: 0.4468 - acc: 0.842 - ETA: 7s - loss: 0.4502 - acc: 0.841 - ETA: 7s - loss: 0.4515 - acc: 0.840 - ETA: 7s - loss: 0.4516 - acc: 0.838 - ETA: 7s - loss: 0.4552 - acc: 0.836 - ETA: 7s - loss: 0.4579 - acc: 0.837 - ETA: 7s - loss: 0.4564 - acc: 0.836 - ETA: 7s - loss: 0.4568 - acc: 0.835 - ETA: 7s - loss: 0.4589 - acc: 0.834 - ETA: 7s - loss: 0.4573 - acc: 0.835 - ETA: 7s - loss: 0.4558 - acc: 0.834 - ETA: 7s - loss: 0.4540 - acc: 0.836 - ETA: 7s - loss: 0.4573 - acc: 0.835 - ETA: 7s - loss: 0.4550 - acc: 0.836 - ETA: 7s - loss: 0.4560 - acc: 0.836 - ETA: 7s - loss: 0.4551 - acc: 0.836 - ETA: 7s - loss: 0.4571 - acc: 0.835 - ETA: 7s - loss: 0.4525 - acc: 0.837 - ETA: 6s - loss: 0.4508 - acc: 0.837 - ETA: 6s - loss: 0.4503 - acc: 0.837 - ETA: 6s - loss: 0.4506 - acc: 0.838 - ETA: 6s - loss: 0.4536 - acc: 0.837 - ETA: 6s - loss: 0.4533 - acc: 0.837 - ETA: 6s - loss: 0.4530 - acc: 0.837 - ETA: 6s - loss: 0.4541 - acc: 0.836 - ETA: 6s - loss: 0.4543 - acc: 0.837 - ETA: 6s - loss: 0.4543 - acc: 0.837 - ETA: 6s - loss: 0.4527 - acc: 0.838 - ETA: 6s - loss: 0.4537 - acc: 0.837 - ETA: 6s - loss: 0.4536 - acc: 0.837 - ETA: 6s - loss: 0.4540 - acc: 0.837 - ETA: 6s - loss: 0.4550 - acc: 0.837 - ETA: 6s - loss: 0.4539 - acc: 0.837 - ETA: 5s - loss: 0.4534 - acc: 0.838 - ETA: 5s - loss: 0.4551 - acc: 0.837 - ETA: 5s - loss: 0.4562 - acc: 0.837 - ETA: 5s - loss: 0.4584 - acc: 0.837 - ETA: 5s - loss: 0.4591 - acc: 0.837 - ETA: 5s - loss: 0.4588 - acc: 0.837 - ETA: 5s - loss: 0.4591 - acc: 0.837 - ETA: 5s - loss: 0.4590 - acc: 0.837 - ETA: 5s - loss: 0.4589 - acc: 0.837 - ETA: 5s - loss: 0.4582 - acc: 0.838 - ETA: 5s - loss: 0.4590 - acc: 0.837 - ETA: 5s - loss: 0.4583 - acc: 0.838 - ETA: 5s - loss: 0.4590 - acc: 0.837 - ETA: 5s - loss: 0.4584 - acc: 0.837 - ETA: 5s - loss: 0.4590 - acc: 0.837 - ETA: 5s - loss: 0.4592 - acc: 0.837 - ETA: 5s - loss: 0.4575 - acc: 0.838 - ETA: 5s - loss: 0.4572 - acc: 0.838 - ETA: 5s - loss: 0.4567 - acc: 0.838 - ETA: 5s - loss: 0.4570 - acc: 0.838 - ETA: 4s - loss: 0.4558 - acc: 0.839 - ETA: 4s - loss: 0.4554 - acc: 0.839 - ETA: 4s - loss: 0.4548 - acc: 0.839 - ETA: 4s - loss: 0.4551 - acc: 0.839 - ETA: 4s - loss: 0.4562 - acc: 0.838 - ETA: 4s - loss: 0.4577 - acc: 0.838 - ETA: 4s - loss: 0.4573 - acc: 0.838 - ETA: 4s - loss: 0.4580 - acc: 0.837 - ETA: 4s - loss: 0.4580 - acc: 0.837 - ETA: 4s - loss: 0.4576 - acc: 0.837 - ETA: 4s - loss: 0.4568 - acc: 0.838 - ETA: 4s - loss: 0.4568 - acc: 0.838 - ETA: 4s - loss: 0.4565 - acc: 0.838 - ETA: 4s - loss: 0.4568 - acc: 0.838 - ETA: 4s - loss: 0.4568 - acc: 0.838 - ETA: 4s - loss: 0.4577 - acc: 0.838 - ETA: 4s - loss: 0.4581 - acc: 0.837 - ETA: 4s - loss: 0.4581 - acc: 0.837 - ETA: 4s - loss: 0.4574 - acc: 0.837 - ETA: 4s - loss: 0.4572 - acc: 0.838 - ETA: 3s - loss: 0.4569 - acc: 0.838 - ETA: 3s - loss: 0.4564 - acc: 0.838 - ETA: 3s - loss: 0.4554 - acc: 0.838 - ETA: 3s - loss: 0.4557 - acc: 0.837 - ETA: 3s - loss: 0.4551 - acc: 0.838 - ETA: 3s - loss: 0.4551 - acc: 0.838 - ETA: 3s - loss: 0.4544 - acc: 0.838 - ETA: 3s - loss: 0.4545 - acc: 0.837 - ETA: 3s - loss: 0.4537 - acc: 0.838 - ETA: 3s - loss: 0.4542 - acc: 0.838 - ETA: 3s - loss: 0.4542 - acc: 0.838 - ETA: 3s - loss: 0.4542 - acc: 0.838 - ETA: 3s - loss: 0.4534 - acc: 0.838 - ETA: 3s - loss: 0.4537 - acc: 0.838 - ETA: 3s - loss: 0.4534 - acc: 0.838 - ETA: 3s - loss: 0.4530 - acc: 0.838 - ETA: 3s - loss: 0.4535 - acc: 0.838 - ETA: 3s - loss: 0.4534 - acc: 0.837 - ETA: 3s - loss: 0.4534 - acc: 0.837 - ETA: 3s - loss: 0.4535 - acc: 0.837 - ETA: 3s - loss: 0.4530 - acc: 0.838 - ETA: 3s - loss: 0.4537 - acc: 0.838 - ETA: 2s - loss: 0.4534 - acc: 0.837 - ETA: 2s - loss: 0.4537 - acc: 0.837 - ETA: 2s - loss: 0.4538 - acc: 0.837 - ETA: 2s - loss: 0.4534 - acc: 0.838 - ETA: 2s - loss: 0.4535 - acc: 0.837 - ETA: 2s - loss: 0.4538 - acc: 0.837 - ETA: 2s - loss: 0.4540 - acc: 0.837 - ETA: 2s - loss: 0.4548 - acc: 0.837 - ETA: 2s - loss: 0.4544 - acc: 0.837 - ETA: 2s - loss: 0.4542 - acc: 0.837 - ETA: 2s - loss: 0.4539 - acc: 0.837 - ETA: 2s - loss: 0.4536 - acc: 0.837 - ETA: 2s - loss: 0.4541 - acc: 0.837 - ETA: 2s - loss: 0.4537 - acc: 0.837 - ETA: 2s - loss: 0.4536 - acc: 0.837 - ETA: 2s - loss: 0.4540 - acc: 0.837 - ETA: 2s - loss: 0.4540 - acc: 0.837 - ETA: 2s - loss: 0.4542 - acc: 0.837 - ETA: 2s - loss: 0.4539 - acc: 0.837 - ETA: 2s - loss: 0.4543 - acc: 0.837 - ETA: 1s - loss: 0.4545 - acc: 0.837 - ETA: 1s - loss: 0.4542 - acc: 0.837 - ETA: 1s - loss: 0.4542 - acc: 0.838 - ETA: 1s - loss: 0.4538 - acc: 0.838 - ETA: 1s - loss: 0.4536 - acc: 0.838 - ETA: 1s - loss: 0.4539 - acc: 0.838 - ETA: 1s - loss: 0.4534 - acc: 0.838 - ETA: 1s - loss: 0.4532 - acc: 0.838 - ETA: 1s - loss: 0.4529 - acc: 0.838 - ETA: 1s - loss: 0.4529 - acc: 0.838 - ETA: 1s - loss: 0.4524 - acc: 0.838 - ETA: 1s - loss: 0.4523 - acc: 0.838 - ETA: 1s - loss: 0.4525 - acc: 0.838 - ETA: 1s - loss: 0.4518 - acc: 0.839 - ETA: 1s - loss: 0.4520 - acc: 0.839 - ETA: 1s - loss: 0.4521 - acc: 0.839 - ETA: 1s - loss: 0.4523 - acc: 0.839 - ETA: 1s - loss: 0.4521 - acc: 0.839 - ETA: 1s - loss: 0.4522 - acc: 0.839 - ETA: 0s - loss: 0.4521 - acc: 0.839 - ETA: 0s - loss: 0.4522 - acc: 0.839 - ETA: 0s - loss: 0.4524 - acc: 0.839 - ETA: 0s - loss: 0.4525 - acc: 0.839 - ETA: 0s - loss: 0.4520 - acc: 0.839 - ETA: 0s - loss: 0.4521 - acc: 0.839 - ETA: 0s - loss: 0.4517 - acc: 0.840 - ETA: 0s - loss: 0.4518 - acc: 0.840 - ETA: 0s - loss: 0.4515 - acc: 0.840 - ETA: 0s - loss: 0.4515 - acc: 0.840 - ETA: 0s - loss: 0.4520 - acc: 0.839 - ETA: 0s - loss: 0.4522 - acc: 0.839 - ETA: 0s - loss: 0.4520 - acc: 0.840 - ETA: 0s - loss: 0.4516 - acc: 0.840 - ETA: 0s - loss: 0.4514 - acc: 0.840 - ETA: 0s - loss: 0.4513 - acc: 0.840 - ETA: 0s - loss: 0.4517 - acc: 0.840 - ETA: 0s - loss: 0.4514 - acc: 0.840 - ETA: 0s - loss: 0.4510 - acc: 0.840 - ETA: 0s - loss: 0.4509 - acc: 0.840 - 9s 167us/step - loss: 0.4506 - acc: 0.8403 - val_loss: 0.4369 - val_acc: 0.8425\n",
      "Epoch 5/20\n"
     ]
    },
    {
     "data": {
      "application/vnd.jupyter.widget-view+json": {
       "model_id": "",
       "version_major": 2,
       "version_minor": 0
      },
      "text/plain": [
       "HBox(children=(IntProgress(value=0, description='Epoch 4', max=54000), HTML(value='')))"
      ]
     },
     "metadata": {},
     "output_type": "display_data"
    },
    {
     "name": "stdout",
     "output_type": "stream",
     "text": [
      "54000/54000 [==============================] - ETA: 1:28 - loss: 0.4136 - acc: 0.875 - ETA: 17s - loss: 0.3986 - acc: 0.861 - ETA: 11s - loss: 0.4149 - acc: 0.85 - ETA: 10s - loss: 0.4143 - acc: 0.86 - ETA: 9s - loss: 0.4291 - acc: 0.8539 - ETA: 8s - loss: 0.4213 - acc: 0.855 - ETA: 8s - loss: 0.4286 - acc: 0.853 - ETA: 8s - loss: 0.4281 - acc: 0.852 - ETA: 8s - loss: 0.4214 - acc: 0.855 - ETA: 7s - loss: 0.4176 - acc: 0.856 - ETA: 7s - loss: 0.4225 - acc: 0.856 - ETA: 7s - loss: 0.4306 - acc: 0.853 - ETA: 7s - loss: 0.4311 - acc: 0.852 - ETA: 7s - loss: 0.4317 - acc: 0.853 - ETA: 7s - loss: 0.4320 - acc: 0.853 - ETA: 7s - loss: 0.4334 - acc: 0.851 - ETA: 7s - loss: 0.4342 - acc: 0.850 - ETA: 7s - loss: 0.4392 - acc: 0.848 - ETA: 7s - loss: 0.4381 - acc: 0.849 - ETA: 7s - loss: 0.4396 - acc: 0.848 - ETA: 7s - loss: 0.4434 - acc: 0.847 - ETA: 7s - loss: 0.4444 - acc: 0.846 - ETA: 7s - loss: 0.4444 - acc: 0.846 - ETA: 7s - loss: 0.4465 - acc: 0.845 - ETA: 7s - loss: 0.4443 - acc: 0.845 - ETA: 7s - loss: 0.4465 - acc: 0.844 - ETA: 6s - loss: 0.4443 - acc: 0.845 - ETA: 6s - loss: 0.4446 - acc: 0.845 - ETA: 6s - loss: 0.4471 - acc: 0.843 - ETA: 6s - loss: 0.4456 - acc: 0.843 - ETA: 6s - loss: 0.4430 - acc: 0.844 - ETA: 6s - loss: 0.4425 - acc: 0.844 - ETA: 6s - loss: 0.4407 - acc: 0.844 - ETA: 6s - loss: 0.4405 - acc: 0.845 - ETA: 6s - loss: 0.4398 - acc: 0.845 - ETA: 6s - loss: 0.4389 - acc: 0.845 - ETA: 6s - loss: 0.4399 - acc: 0.845 - ETA: 6s - loss: 0.4397 - acc: 0.845 - ETA: 6s - loss: 0.4387 - acc: 0.845 - ETA: 6s - loss: 0.4410 - acc: 0.845 - ETA: 6s - loss: 0.4414 - acc: 0.844 - ETA: 6s - loss: 0.4403 - acc: 0.844 - ETA: 6s - loss: 0.4393 - acc: 0.845 - ETA: 6s - loss: 0.4397 - acc: 0.844 - ETA: 6s - loss: 0.4379 - acc: 0.845 - ETA: 5s - loss: 0.4367 - acc: 0.845 - ETA: 5s - loss: 0.4348 - acc: 0.846 - ETA: 5s - loss: 0.4357 - acc: 0.845 - ETA: 5s - loss: 0.4349 - acc: 0.846 - ETA: 5s - loss: 0.4353 - acc: 0.846 - ETA: 5s - loss: 0.4357 - acc: 0.846 - ETA: 5s - loss: 0.4363 - acc: 0.846 - ETA: 5s - loss: 0.4378 - acc: 0.845 - ETA: 5s - loss: 0.4367 - acc: 0.846 - ETA: 5s - loss: 0.4382 - acc: 0.845 - ETA: 5s - loss: 0.4384 - acc: 0.845 - ETA: 5s - loss: 0.4391 - acc: 0.844 - ETA: 5s - loss: 0.4381 - acc: 0.845 - ETA: 5s - loss: 0.4376 - acc: 0.845 - ETA: 5s - loss: 0.4359 - acc: 0.846 - ETA: 5s - loss: 0.4359 - acc: 0.846 - ETA: 5s - loss: 0.4355 - acc: 0.846 - ETA: 5s - loss: 0.4346 - acc: 0.846 - ETA: 5s - loss: 0.4332 - acc: 0.847 - ETA: 5s - loss: 0.4331 - acc: 0.847 - ETA: 4s - loss: 0.4326 - acc: 0.847 - ETA: 4s - loss: 0.4336 - acc: 0.847 - ETA: 4s - loss: 0.4324 - acc: 0.847 - ETA: 4s - loss: 0.4319 - acc: 0.848 - ETA: 4s - loss: 0.4321 - acc: 0.848 - ETA: 4s - loss: 0.4313 - acc: 0.848 - ETA: 4s - loss: 0.4313 - acc: 0.848 - ETA: 4s - loss: 0.4312 - acc: 0.849 - ETA: 4s - loss: 0.4316 - acc: 0.849 - ETA: 4s - loss: 0.4316 - acc: 0.848 - ETA: 4s - loss: 0.4316 - acc: 0.848 - ETA: 4s - loss: 0.4319 - acc: 0.848 - ETA: 4s - loss: 0.4321 - acc: 0.848 - ETA: 4s - loss: 0.4334 - acc: 0.848 - ETA: 4s - loss: 0.4336 - acc: 0.848 - ETA: 4s - loss: 0.4340 - acc: 0.847 - ETA: 4s - loss: 0.4344 - acc: 0.847 - ETA: 4s - loss: 0.4339 - acc: 0.847 - ETA: 4s - loss: 0.4351 - acc: 0.847 - ETA: 3s - loss: 0.4355 - acc: 0.847 - ETA: 3s - loss: 0.4354 - acc: 0.847 - ETA: 3s - loss: 0.4351 - acc: 0.847 - ETA: 3s - loss: 0.4350 - acc: 0.847 - ETA: 3s - loss: 0.4351 - acc: 0.847 - ETA: 3s - loss: 0.4356 - acc: 0.847 - ETA: 3s - loss: 0.4357 - acc: 0.847 - ETA: 3s - loss: 0.4362 - acc: 0.847 - ETA: 3s - loss: 0.4359 - acc: 0.847 - ETA: 3s - loss: 0.4361 - acc: 0.846 - ETA: 3s - loss: 0.4358 - acc: 0.847 - ETA: 3s - loss: 0.4351 - acc: 0.847 - ETA: 3s - loss: 0.4348 - acc: 0.847 - ETA: 3s - loss: 0.4342 - acc: 0.847 - ETA: 3s - loss: 0.4334 - acc: 0.847 - ETA: 3s - loss: 0.4331 - acc: 0.848 - ETA: 3s - loss: 0.4321 - acc: 0.848 - ETA: 3s - loss: 0.4318 - acc: 0.848 - ETA: 3s - loss: 0.4313 - acc: 0.848 - ETA: 3s - loss: 0.4312 - acc: 0.848 - ETA: 3s - loss: 0.4317 - acc: 0.848 - ETA: 2s - loss: 0.4323 - acc: 0.848 - ETA: 2s - loss: 0.4321 - acc: 0.848 - ETA: 2s - loss: 0.4317 - acc: 0.848 - ETA: 2s - loss: 0.4319 - acc: 0.848 - ETA: 2s - loss: 0.4318 - acc: 0.848 - ETA: 2s - loss: 0.4318 - acc: 0.848 - ETA: 2s - loss: 0.4315 - acc: 0.848 - ETA: 2s - loss: 0.4314 - acc: 0.848 - ETA: 2s - loss: 0.4307 - acc: 0.848 - ETA: 2s - loss: 0.4307 - acc: 0.848 - ETA: 2s - loss: 0.4304 - acc: 0.848 - ETA: 2s - loss: 0.4299 - acc: 0.848 - ETA: 2s - loss: 0.4295 - acc: 0.848 - ETA: 2s - loss: 0.4292 - acc: 0.848 - ETA: 2s - loss: 0.4286 - acc: 0.849 - ETA: 2s - loss: 0.4290 - acc: 0.848 - ETA: 2s - loss: 0.4293 - acc: 0.848 - ETA: 2s - loss: 0.4293 - acc: 0.848 - ETA: 2s - loss: 0.4290 - acc: 0.849 - ETA: 1s - loss: 0.4285 - acc: 0.849 - ETA: 1s - loss: 0.4284 - acc: 0.849 - ETA: 1s - loss: 0.4279 - acc: 0.849 - ETA: 1s - loss: 0.4275 - acc: 0.849 - ETA: 1s - loss: 0.4279 - acc: 0.849 - ETA: 1s - loss: 0.4279 - acc: 0.849 - ETA: 1s - loss: 0.4282 - acc: 0.849 - ETA: 1s - loss: 0.4279 - acc: 0.849 - ETA: 1s - loss: 0.4280 - acc: 0.849 - ETA: 1s - loss: 0.4280 - acc: 0.849 - ETA: 1s - loss: 0.4280 - acc: 0.849 - ETA: 1s - loss: 0.4277 - acc: 0.849 - ETA: 1s - loss: 0.4280 - acc: 0.848 - ETA: 1s - loss: 0.4278 - acc: 0.848 - ETA: 1s - loss: 0.4278 - acc: 0.848 - ETA: 1s - loss: 0.4280 - acc: 0.848 - ETA: 1s - loss: 0.4280 - acc: 0.848 - ETA: 1s - loss: 0.4287 - acc: 0.848 - ETA: 1s - loss: 0.4284 - acc: 0.848 - ETA: 1s - loss: 0.4283 - acc: 0.848 - ETA: 0s - loss: 0.4280 - acc: 0.848 - ETA: 0s - loss: 0.4280 - acc: 0.848 - ETA: 0s - loss: 0.4282 - acc: 0.848 - ETA: 0s - loss: 0.4280 - acc: 0.848 - ETA: 0s - loss: 0.4280 - acc: 0.848 - ETA: 0s - loss: 0.4280 - acc: 0.848 - ETA: 0s - loss: 0.4281 - acc: 0.848 - ETA: 0s - loss: 0.4280 - acc: 0.848 - ETA: 0s - loss: 0.4275 - acc: 0.848 - ETA: 0s - loss: 0.4272 - acc: 0.849 - ETA: 0s - loss: 0.4275 - acc: 0.849 - ETA: 0s - loss: 0.4278 - acc: 0.848 - ETA: 0s - loss: 0.4273 - acc: 0.849 - ETA: 0s - loss: 0.4278 - acc: 0.848 - ETA: 0s - loss: 0.4283 - acc: 0.848 - ETA: 0s - loss: 0.4282 - acc: 0.848 - ETA: 0s - loss: 0.4284 - acc: 0.848 - ETA: 0s - loss: 0.4284 - acc: 0.848 - ETA: 0s - loss: 0.4285 - acc: 0.848 - ETA: 0s - loss: 0.4285 - acc: 0.848 - 9s 166us/step - loss: 0.4283 - acc: 0.8485 - val_loss: 0.4231 - val_acc: 0.8452\n",
      "Epoch 6/20\n"
     ]
    },
    {
     "data": {
      "application/vnd.jupyter.widget-view+json": {
       "model_id": "",
       "version_major": 2,
       "version_minor": 0
      },
      "text/plain": [
       "HBox(children=(IntProgress(value=0, description='Epoch 5', max=54000), HTML(value='')))"
      ]
     },
     "metadata": {},
     "output_type": "display_data"
    },
    {
     "name": "stdout",
     "output_type": "stream",
     "text": [
      "54000/54000 [==============================] - ETA: 1:30 - loss: 0.2461 - acc: 0.925 - ETA: 16s - loss: 0.3512 - acc: 0.867 - ETA: 11s - loss: 0.3593 - acc: 0.87 - ETA: 10s - loss: 0.3901 - acc: 0.85 - ETA: 9s - loss: 0.4091 - acc: 0.8564 - ETA: 8s - loss: 0.4151 - acc: 0.858 - ETA: 8s - loss: 0.4104 - acc: 0.856 - ETA: 8s - loss: 0.4050 - acc: 0.859 - ETA: 8s - loss: 0.4187 - acc: 0.858 - ETA: 8s - loss: 0.4172 - acc: 0.856 - ETA: 7s - loss: 0.4166 - acc: 0.855 - ETA: 7s - loss: 0.4197 - acc: 0.853 - ETA: 7s - loss: 0.4120 - acc: 0.854 - ETA: 7s - loss: 0.4123 - acc: 0.855 - ETA: 7s - loss: 0.4073 - acc: 0.856 - ETA: 7s - loss: 0.4061 - acc: 0.857 - ETA: 7s - loss: 0.4115 - acc: 0.855 - ETA: 7s - loss: 0.4139 - acc: 0.854 - ETA: 6s - loss: 0.4151 - acc: 0.853 - ETA: 6s - loss: 0.4132 - acc: 0.854 - ETA: 6s - loss: 0.4100 - acc: 0.854 - ETA: 6s - loss: 0.4112 - acc: 0.854 - ETA: 6s - loss: 0.4126 - acc: 0.854 - ETA: 6s - loss: 0.4139 - acc: 0.853 - ETA: 6s - loss: 0.4129 - acc: 0.854 - ETA: 6s - loss: 0.4162 - acc: 0.853 - ETA: 6s - loss: 0.4201 - acc: 0.852 - ETA: 6s - loss: 0.4218 - acc: 0.851 - ETA: 6s - loss: 0.4220 - acc: 0.851 - ETA: 6s - loss: 0.4200 - acc: 0.851 - ETA: 6s - loss: 0.4180 - acc: 0.852 - ETA: 6s - loss: 0.4164 - acc: 0.852 - ETA: 5s - loss: 0.4168 - acc: 0.852 - ETA: 5s - loss: 0.4172 - acc: 0.851 - ETA: 5s - loss: 0.4147 - acc: 0.852 - ETA: 5s - loss: 0.4151 - acc: 0.852 - ETA: 5s - loss: 0.4138 - acc: 0.852 - ETA: 5s - loss: 0.4134 - acc: 0.852 - ETA: 5s - loss: 0.4142 - acc: 0.852 - ETA: 5s - loss: 0.4143 - acc: 0.852 - ETA: 5s - loss: 0.4143 - acc: 0.852 - ETA: 5s - loss: 0.4139 - acc: 0.852 - ETA: 5s - loss: 0.4131 - acc: 0.852 - ETA: 5s - loss: 0.4127 - acc: 0.852 - ETA: 5s - loss: 0.4112 - acc: 0.853 - ETA: 5s - loss: 0.4101 - acc: 0.853 - ETA: 5s - loss: 0.4102 - acc: 0.853 - ETA: 5s - loss: 0.4097 - acc: 0.853 - ETA: 5s - loss: 0.4099 - acc: 0.854 - ETA: 5s - loss: 0.4096 - acc: 0.854 - ETA: 5s - loss: 0.4099 - acc: 0.854 - ETA: 5s - loss: 0.4107 - acc: 0.853 - ETA: 5s - loss: 0.4109 - acc: 0.854 - ETA: 5s - loss: 0.4115 - acc: 0.853 - ETA: 5s - loss: 0.4108 - acc: 0.854 - ETA: 5s - loss: 0.4113 - acc: 0.854 - ETA: 5s - loss: 0.4127 - acc: 0.853 - ETA: 4s - loss: 0.4124 - acc: 0.853 - ETA: 4s - loss: 0.4136 - acc: 0.853 - ETA: 4s - loss: 0.4138 - acc: 0.853 - ETA: 4s - loss: 0.4143 - acc: 0.853 - ETA: 4s - loss: 0.4136 - acc: 0.853 - ETA: 4s - loss: 0.4151 - acc: 0.853 - ETA: 4s - loss: 0.4147 - acc: 0.853 - ETA: 4s - loss: 0.4158 - acc: 0.853 - ETA: 4s - loss: 0.4150 - acc: 0.853 - ETA: 4s - loss: 0.4141 - acc: 0.853 - ETA: 4s - loss: 0.4144 - acc: 0.853 - ETA: 4s - loss: 0.4150 - acc: 0.853 - ETA: 4s - loss: 0.4148 - acc: 0.853 - ETA: 4s - loss: 0.4151 - acc: 0.853 - ETA: 4s - loss: 0.4152 - acc: 0.853 - ETA: 4s - loss: 0.4149 - acc: 0.853 - ETA: 4s - loss: 0.4156 - acc: 0.853 - ETA: 4s - loss: 0.4153 - acc: 0.853 - ETA: 4s - loss: 0.4154 - acc: 0.853 - ETA: 4s - loss: 0.4150 - acc: 0.853 - ETA: 4s - loss: 0.4147 - acc: 0.853 - ETA: 4s - loss: 0.4136 - acc: 0.854 - ETA: 3s - loss: 0.4133 - acc: 0.854 - ETA: 3s - loss: 0.4138 - acc: 0.854 - ETA: 3s - loss: 0.4141 - acc: 0.853 - ETA: 3s - loss: 0.4138 - acc: 0.853 - ETA: 3s - loss: 0.4146 - acc: 0.853 - ETA: 3s - loss: 0.4151 - acc: 0.853 - ETA: 3s - loss: 0.4155 - acc: 0.853 - ETA: 3s - loss: 0.4155 - acc: 0.853 - ETA: 3s - loss: 0.4156 - acc: 0.853 - ETA: 3s - loss: 0.4151 - acc: 0.853 - ETA: 3s - loss: 0.4148 - acc: 0.853 - ETA: 3s - loss: 0.4144 - acc: 0.853 - ETA: 3s - loss: 0.4145 - acc: 0.853 - ETA: 3s - loss: 0.4152 - acc: 0.853 - ETA: 3s - loss: 0.4153 - acc: 0.853 - ETA: 3s - loss: 0.4152 - acc: 0.852 - ETA: 3s - loss: 0.4153 - acc: 0.853 - ETA: 3s - loss: 0.4157 - acc: 0.852 - ETA: 3s - loss: 0.4157 - acc: 0.852 - ETA: 3s - loss: 0.4154 - acc: 0.852 - ETA: 2s - loss: 0.4150 - acc: 0.853 - ETA: 2s - loss: 0.4153 - acc: 0.853 - ETA: 2s - loss: 0.4160 - acc: 0.853 - ETA: 2s - loss: 0.4164 - acc: 0.852 - ETA: 2s - loss: 0.4159 - acc: 0.853 - ETA: 2s - loss: 0.4154 - acc: 0.853 - ETA: 2s - loss: 0.4154 - acc: 0.853 - ETA: 2s - loss: 0.4152 - acc: 0.853 - ETA: 2s - loss: 0.4151 - acc: 0.853 - ETA: 2s - loss: 0.4146 - acc: 0.853 - ETA: 2s - loss: 0.4146 - acc: 0.853 - ETA: 2s - loss: 0.4146 - acc: 0.853 - ETA: 2s - loss: 0.4148 - acc: 0.853 - ETA: 2s - loss: 0.4145 - acc: 0.853 - ETA: 2s - loss: 0.4143 - acc: 0.853 - ETA: 2s - loss: 0.4143 - acc: 0.853 - ETA: 2s - loss: 0.4148 - acc: 0.853 - ETA: 2s - loss: 0.4142 - acc: 0.853 - ETA: 2s - loss: 0.4140 - acc: 0.853 - ETA: 2s - loss: 0.4136 - acc: 0.853 - ETA: 2s - loss: 0.4135 - acc: 0.853 - ETA: 1s - loss: 0.4129 - acc: 0.853 - ETA: 1s - loss: 0.4127 - acc: 0.853 - ETA: 1s - loss: 0.4123 - acc: 0.853 - ETA: 1s - loss: 0.4120 - acc: 0.853 - ETA: 1s - loss: 0.4119 - acc: 0.854 - ETA: 1s - loss: 0.4125 - acc: 0.853 - ETA: 1s - loss: 0.4131 - acc: 0.853 - ETA: 1s - loss: 0.4133 - acc: 0.853 - ETA: 1s - loss: 0.4133 - acc: 0.853 - ETA: 1s - loss: 0.4131 - acc: 0.853 - ETA: 1s - loss: 0.4125 - acc: 0.854 - ETA: 1s - loss: 0.4123 - acc: 0.854 - ETA: 1s - loss: 0.4131 - acc: 0.853 - ETA: 1s - loss: 0.4126 - acc: 0.853 - ETA: 1s - loss: 0.4131 - acc: 0.853 - ETA: 1s - loss: 0.4136 - acc: 0.853 - ETA: 1s - loss: 0.4137 - acc: 0.853 - ETA: 1s - loss: 0.4136 - acc: 0.853 - ETA: 1s - loss: 0.4136 - acc: 0.853 - ETA: 1s - loss: 0.4142 - acc: 0.852 - ETA: 0s - loss: 0.4141 - acc: 0.853 - ETA: 0s - loss: 0.4136 - acc: 0.853 - ETA: 0s - loss: 0.4134 - acc: 0.853 - ETA: 0s - loss: 0.4134 - acc: 0.853 - ETA: 0s - loss: 0.4134 - acc: 0.853 - ETA: 0s - loss: 0.4131 - acc: 0.853 - ETA: 0s - loss: 0.4132 - acc: 0.853 - ETA: 0s - loss: 0.4129 - acc: 0.853 - ETA: 0s - loss: 0.4130 - acc: 0.853 - ETA: 0s - loss: 0.4137 - acc: 0.853 - ETA: 0s - loss: 0.4138 - acc: 0.853 - ETA: 0s - loss: 0.4135 - acc: 0.853 - ETA: 0s - loss: 0.4138 - acc: 0.853 - ETA: 0s - loss: 0.4139 - acc: 0.853 - ETA: 0s - loss: 0.4138 - acc: 0.853 - ETA: 0s - loss: 0.4137 - acc: 0.853 - ETA: 0s - loss: 0.4136 - acc: 0.853 - ETA: 0s - loss: 0.4138 - acc: 0.853 - ETA: 0s - loss: 0.4134 - acc: 0.853 - ETA: 0s - loss: 0.4132 - acc: 0.853 - ETA: 0s - loss: 0.4132 - acc: 0.853 - 9s 163us/step - loss: 0.4132 - acc: 0.8530 - val_loss: 0.4210 - val_acc: 0.8455\n",
      "Epoch 7/20\n"
     ]
    },
    {
     "data": {
      "application/vnd.jupyter.widget-view+json": {
       "model_id": "",
       "version_major": 2,
       "version_minor": 0
      },
      "text/plain": [
       "HBox(children=(IntProgress(value=0, description='Epoch 6', max=54000), HTML(value='')))"
      ]
     },
     "metadata": {},
     "output_type": "display_data"
    },
    {
     "name": "stdout",
     "output_type": "stream",
     "text": [
      "54000/54000 [==============================] - ETA: 1:27 - loss: 0.2861 - acc: 0.900 - ETA: 15s - loss: 0.3583 - acc: 0.872 - ETA: 11s - loss: 0.3710 - acc: 0.87 - ETA: 10s - loss: 0.3715 - acc: 0.86 - ETA: 9s - loss: 0.3591 - acc: 0.8712 - ETA: 8s - loss: 0.3747 - acc: 0.864 - ETA: 8s - loss: 0.3719 - acc: 0.866 - ETA: 8s - loss: 0.3774 - acc: 0.865 - ETA: 7s - loss: 0.3873 - acc: 0.862 - ETA: 7s - loss: 0.3899 - acc: 0.860 - ETA: 7s - loss: 0.3897 - acc: 0.860 - ETA: 7s - loss: 0.3949 - acc: 0.858 - ETA: 7s - loss: 0.4053 - acc: 0.856 - ETA: 7s - loss: 0.4055 - acc: 0.857 - ETA: 7s - loss: 0.4031 - acc: 0.858 - ETA: 7s - loss: 0.4052 - acc: 0.858 - ETA: 7s - loss: 0.4008 - acc: 0.860 - ETA: 6s - loss: 0.4019 - acc: 0.860 - ETA: 6s - loss: 0.4042 - acc: 0.859 - ETA: 6s - loss: 0.4016 - acc: 0.859 - ETA: 6s - loss: 0.4000 - acc: 0.859 - ETA: 6s - loss: 0.4042 - acc: 0.858 - ETA: 6s - loss: 0.4061 - acc: 0.857 - ETA: 6s - loss: 0.4089 - acc: 0.855 - ETA: 6s - loss: 0.4109 - acc: 0.854 - ETA: 6s - loss: 0.4125 - acc: 0.853 - ETA: 6s - loss: 0.4107 - acc: 0.853 - ETA: 6s - loss: 0.4120 - acc: 0.852 - ETA: 6s - loss: 0.4099 - acc: 0.853 - ETA: 6s - loss: 0.4078 - acc: 0.854 - ETA: 6s - loss: 0.4074 - acc: 0.854 - ETA: 6s - loss: 0.4067 - acc: 0.855 - ETA: 6s - loss: 0.4066 - acc: 0.855 - ETA: 6s - loss: 0.4075 - acc: 0.854 - ETA: 6s - loss: 0.4055 - acc: 0.855 - ETA: 6s - loss: 0.4053 - acc: 0.855 - ETA: 6s - loss: 0.4065 - acc: 0.855 - ETA: 6s - loss: 0.4069 - acc: 0.855 - ETA: 6s - loss: 0.4075 - acc: 0.855 - ETA: 6s - loss: 0.4067 - acc: 0.855 - ETA: 5s - loss: 0.4069 - acc: 0.855 - ETA: 5s - loss: 0.4074 - acc: 0.855 - ETA: 5s - loss: 0.4077 - acc: 0.854 - ETA: 5s - loss: 0.4088 - acc: 0.854 - ETA: 5s - loss: 0.4078 - acc: 0.855 - ETA: 5s - loss: 0.4074 - acc: 0.855 - ETA: 5s - loss: 0.4064 - acc: 0.855 - ETA: 5s - loss: 0.4058 - acc: 0.855 - ETA: 5s - loss: 0.4067 - acc: 0.855 - ETA: 5s - loss: 0.4080 - acc: 0.855 - ETA: 5s - loss: 0.4084 - acc: 0.855 - ETA: 5s - loss: 0.4088 - acc: 0.855 - ETA: 5s - loss: 0.4096 - acc: 0.855 - ETA: 5s - loss: 0.4105 - acc: 0.854 - ETA: 5s - loss: 0.4114 - acc: 0.854 - ETA: 5s - loss: 0.4121 - acc: 0.853 - ETA: 5s - loss: 0.4116 - acc: 0.854 - ETA: 5s - loss: 0.4114 - acc: 0.854 - ETA: 5s - loss: 0.4110 - acc: 0.854 - ETA: 5s - loss: 0.4098 - acc: 0.854 - ETA: 5s - loss: 0.4095 - acc: 0.854 - ETA: 5s - loss: 0.4088 - acc: 0.854 - ETA: 4s - loss: 0.4093 - acc: 0.854 - ETA: 4s - loss: 0.4076 - acc: 0.855 - ETA: 4s - loss: 0.4061 - acc: 0.856 - ETA: 4s - loss: 0.4049 - acc: 0.856 - ETA: 4s - loss: 0.4037 - acc: 0.856 - ETA: 4s - loss: 0.4027 - acc: 0.856 - ETA: 4s - loss: 0.4023 - acc: 0.857 - ETA: 4s - loss: 0.4021 - acc: 0.857 - ETA: 4s - loss: 0.4024 - acc: 0.857 - ETA: 4s - loss: 0.4015 - acc: 0.857 - ETA: 4s - loss: 0.4010 - acc: 0.858 - ETA: 4s - loss: 0.3999 - acc: 0.858 - ETA: 4s - loss: 0.3994 - acc: 0.858 - ETA: 4s - loss: 0.3989 - acc: 0.858 - ETA: 4s - loss: 0.3989 - acc: 0.858 - ETA: 4s - loss: 0.3979 - acc: 0.858 - ETA: 4s - loss: 0.3984 - acc: 0.858 - ETA: 4s - loss: 0.3982 - acc: 0.858 - ETA: 4s - loss: 0.3978 - acc: 0.858 - ETA: 4s - loss: 0.3976 - acc: 0.858 - ETA: 3s - loss: 0.3977 - acc: 0.858 - ETA: 3s - loss: 0.3984 - acc: 0.857 - ETA: 3s - loss: 0.3984 - acc: 0.857 - ETA: 3s - loss: 0.3984 - acc: 0.857 - ETA: 3s - loss: 0.3991 - acc: 0.857 - ETA: 3s - loss: 0.3991 - acc: 0.857 - ETA: 3s - loss: 0.3989 - acc: 0.857 - ETA: 3s - loss: 0.3984 - acc: 0.857 - ETA: 3s - loss: 0.3981 - acc: 0.857 - ETA: 3s - loss: 0.3990 - acc: 0.857 - ETA: 3s - loss: 0.3998 - acc: 0.857 - ETA: 3s - loss: 0.3994 - acc: 0.857 - ETA: 3s - loss: 0.3997 - acc: 0.857 - ETA: 3s - loss: 0.3995 - acc: 0.857 - ETA: 3s - loss: 0.3993 - acc: 0.857 - ETA: 3s - loss: 0.4002 - acc: 0.857 - ETA: 3s - loss: 0.4015 - acc: 0.856 - ETA: 3s - loss: 0.4021 - acc: 0.856 - ETA: 3s - loss: 0.4020 - acc: 0.856 - ETA: 2s - loss: 0.4023 - acc: 0.856 - ETA: 2s - loss: 0.4022 - acc: 0.856 - ETA: 2s - loss: 0.4018 - acc: 0.856 - ETA: 2s - loss: 0.4011 - acc: 0.856 - ETA: 2s - loss: 0.4011 - acc: 0.856 - ETA: 2s - loss: 0.4009 - acc: 0.856 - ETA: 2s - loss: 0.4010 - acc: 0.856 - ETA: 2s - loss: 0.4007 - acc: 0.856 - ETA: 2s - loss: 0.4004 - acc: 0.856 - ETA: 2s - loss: 0.4004 - acc: 0.856 - ETA: 2s - loss: 0.4000 - acc: 0.857 - ETA: 2s - loss: 0.3991 - acc: 0.857 - ETA: 2s - loss: 0.3992 - acc: 0.857 - ETA: 2s - loss: 0.4003 - acc: 0.856 - ETA: 2s - loss: 0.4000 - acc: 0.856 - ETA: 2s - loss: 0.3998 - acc: 0.856 - ETA: 2s - loss: 0.3992 - acc: 0.857 - ETA: 2s - loss: 0.3985 - acc: 0.857 - ETA: 1s - loss: 0.3986 - acc: 0.857 - ETA: 1s - loss: 0.3979 - acc: 0.857 - ETA: 1s - loss: 0.3983 - acc: 0.857 - ETA: 1s - loss: 0.3987 - acc: 0.857 - ETA: 1s - loss: 0.3993 - acc: 0.857 - ETA: 1s - loss: 0.3995 - acc: 0.857 - ETA: 1s - loss: 0.3991 - acc: 0.857 - ETA: 1s - loss: 0.3993 - acc: 0.857 - ETA: 1s - loss: 0.3992 - acc: 0.857 - ETA: 1s - loss: 0.3990 - acc: 0.857 - ETA: 1s - loss: 0.3991 - acc: 0.857 - ETA: 1s - loss: 0.3989 - acc: 0.857 - ETA: 1s - loss: 0.3990 - acc: 0.857 - ETA: 1s - loss: 0.3987 - acc: 0.857 - ETA: 1s - loss: 0.3984 - acc: 0.857 - ETA: 1s - loss: 0.3986 - acc: 0.857 - ETA: 1s - loss: 0.3986 - acc: 0.857 - ETA: 1s - loss: 0.3990 - acc: 0.857 - ETA: 1s - loss: 0.3990 - acc: 0.857 - ETA: 1s - loss: 0.3989 - acc: 0.857 - ETA: 0s - loss: 0.3988 - acc: 0.857 - ETA: 0s - loss: 0.3989 - acc: 0.857 - ETA: 0s - loss: 0.3994 - acc: 0.856 - ETA: 0s - loss: 0.3999 - acc: 0.856 - ETA: 0s - loss: 0.3993 - acc: 0.857 - ETA: 0s - loss: 0.3997 - acc: 0.857 - ETA: 0s - loss: 0.3998 - acc: 0.857 - ETA: 0s - loss: 0.4001 - acc: 0.856 - ETA: 0s - loss: 0.4004 - acc: 0.856 - ETA: 0s - loss: 0.4004 - acc: 0.856 - ETA: 0s - loss: 0.4003 - acc: 0.856 - ETA: 0s - loss: 0.4001 - acc: 0.856 - ETA: 0s - loss: 0.3997 - acc: 0.856 - ETA: 0s - loss: 0.3995 - acc: 0.857 - ETA: 0s - loss: 0.3996 - acc: 0.856 - ETA: 0s - loss: 0.3994 - acc: 0.856 - ETA: 0s - loss: 0.3993 - acc: 0.857 - ETA: 0s - loss: 0.3991 - acc: 0.857 - ETA: 0s - loss: 0.3986 - acc: 0.857 - ETA: 0s - loss: 0.3987 - acc: 0.857 - 9s 162us/step - loss: 0.3984 - acc: 0.8574 - val_loss: 0.4165 - val_acc: 0.8508\n",
      "Epoch 8/20\n"
     ]
    },
    {
     "data": {
      "application/vnd.jupyter.widget-view+json": {
       "model_id": "",
       "version_major": 2,
       "version_minor": 0
      },
      "text/plain": [
       "HBox(children=(IntProgress(value=0, description='Epoch 7', max=54000), HTML(value='')))"
      ]
     },
     "metadata": {},
     "output_type": "display_data"
    },
    {
     "name": "stdout",
     "output_type": "stream",
     "text": [
      "54000/54000 [==============================] - ETA: 1:34 - loss: 0.3130 - acc: 0.900 - ETA: 16s - loss: 0.3608 - acc: 0.857 - ETA: 11s - loss: 0.3924 - acc: 0.85 - ETA: 10s - loss: 0.4037 - acc: 0.85 - ETA: 9s - loss: 0.3983 - acc: 0.8615 - ETA: 8s - loss: 0.4026 - acc: 0.863 - ETA: 8s - loss: 0.4058 - acc: 0.863 - ETA: 8s - loss: 0.4037 - acc: 0.863 - ETA: 8s - loss: 0.4023 - acc: 0.861 - ETA: 8s - loss: 0.3986 - acc: 0.859 - ETA: 8s - loss: 0.3995 - acc: 0.859 - ETA: 8s - loss: 0.3960 - acc: 0.862 - ETA: 7s - loss: 0.3980 - acc: 0.862 - ETA: 7s - loss: 0.4082 - acc: 0.859 - ETA: 7s - loss: 0.4058 - acc: 0.858 - ETA: 7s - loss: 0.4045 - acc: 0.858 - ETA: 7s - loss: 0.4014 - acc: 0.858 - ETA: 7s - loss: 0.4026 - acc: 0.858 - ETA: 7s - loss: 0.4034 - acc: 0.858 - ETA: 7s - loss: 0.4019 - acc: 0.858 - ETA: 7s - loss: 0.3983 - acc: 0.859 - ETA: 7s - loss: 0.3989 - acc: 0.859 - ETA: 7s - loss: 0.3981 - acc: 0.858 - ETA: 7s - loss: 0.4000 - acc: 0.858 - ETA: 7s - loss: 0.4004 - acc: 0.858 - ETA: 7s - loss: 0.3980 - acc: 0.859 - ETA: 7s - loss: 0.3975 - acc: 0.860 - ETA: 7s - loss: 0.3978 - acc: 0.859 - ETA: 7s - loss: 0.4018 - acc: 0.858 - ETA: 6s - loss: 0.4034 - acc: 0.858 - ETA: 6s - loss: 0.3998 - acc: 0.859 - ETA: 6s - loss: 0.4002 - acc: 0.859 - ETA: 6s - loss: 0.3990 - acc: 0.859 - ETA: 6s - loss: 0.3991 - acc: 0.859 - ETA: 6s - loss: 0.4001 - acc: 0.858 - ETA: 6s - loss: 0.4008 - acc: 0.858 - ETA: 6s - loss: 0.3995 - acc: 0.859 - ETA: 6s - loss: 0.3995 - acc: 0.858 - ETA: 6s - loss: 0.3995 - acc: 0.858 - ETA: 6s - loss: 0.4002 - acc: 0.858 - ETA: 6s - loss: 0.3984 - acc: 0.859 - ETA: 6s - loss: 0.3986 - acc: 0.859 - ETA: 6s - loss: 0.3963 - acc: 0.860 - ETA: 6s - loss: 0.3962 - acc: 0.860 - ETA: 6s - loss: 0.3964 - acc: 0.860 - ETA: 6s - loss: 0.3962 - acc: 0.860 - ETA: 5s - loss: 0.3973 - acc: 0.859 - ETA: 5s - loss: 0.3962 - acc: 0.860 - ETA: 5s - loss: 0.3974 - acc: 0.859 - ETA: 5s - loss: 0.3980 - acc: 0.859 - ETA: 5s - loss: 0.3976 - acc: 0.859 - ETA: 5s - loss: 0.3985 - acc: 0.858 - ETA: 5s - loss: 0.3991 - acc: 0.858 - ETA: 5s - loss: 0.4002 - acc: 0.858 - ETA: 5s - loss: 0.4007 - acc: 0.857 - ETA: 5s - loss: 0.4009 - acc: 0.857 - ETA: 5s - loss: 0.4006 - acc: 0.858 - ETA: 5s - loss: 0.3995 - acc: 0.858 - ETA: 5s - loss: 0.4002 - acc: 0.858 - ETA: 5s - loss: 0.3997 - acc: 0.858 - ETA: 5s - loss: 0.3997 - acc: 0.858 - ETA: 5s - loss: 0.3999 - acc: 0.858 - ETA: 5s - loss: 0.3989 - acc: 0.858 - ETA: 5s - loss: 0.3988 - acc: 0.858 - ETA: 5s - loss: 0.3975 - acc: 0.859 - ETA: 5s - loss: 0.3968 - acc: 0.859 - ETA: 4s - loss: 0.3965 - acc: 0.859 - ETA: 4s - loss: 0.3957 - acc: 0.859 - ETA: 4s - loss: 0.3965 - acc: 0.859 - ETA: 4s - loss: 0.3970 - acc: 0.859 - ETA: 4s - loss: 0.3965 - acc: 0.859 - ETA: 4s - loss: 0.3972 - acc: 0.859 - ETA: 4s - loss: 0.3973 - acc: 0.859 - ETA: 4s - loss: 0.3969 - acc: 0.859 - ETA: 4s - loss: 0.3971 - acc: 0.859 - ETA: 4s - loss: 0.3976 - acc: 0.859 - ETA: 4s - loss: 0.3974 - acc: 0.859 - ETA: 4s - loss: 0.3964 - acc: 0.859 - ETA: 4s - loss: 0.3959 - acc: 0.859 - ETA: 4s - loss: 0.3960 - acc: 0.859 - ETA: 4s - loss: 0.3966 - acc: 0.859 - ETA: 4s - loss: 0.3957 - acc: 0.859 - ETA: 4s - loss: 0.3953 - acc: 0.859 - ETA: 4s - loss: 0.3956 - acc: 0.859 - ETA: 4s - loss: 0.3953 - acc: 0.859 - ETA: 3s - loss: 0.3959 - acc: 0.859 - ETA: 3s - loss: 0.3959 - acc: 0.859 - ETA: 3s - loss: 0.3954 - acc: 0.859 - ETA: 3s - loss: 0.3955 - acc: 0.859 - ETA: 3s - loss: 0.3955 - acc: 0.859 - ETA: 3s - loss: 0.3955 - acc: 0.859 - ETA: 3s - loss: 0.3958 - acc: 0.859 - ETA: 3s - loss: 0.3953 - acc: 0.860 - ETA: 3s - loss: 0.3952 - acc: 0.860 - ETA: 3s - loss: 0.3950 - acc: 0.860 - ETA: 3s - loss: 0.3944 - acc: 0.860 - ETA: 3s - loss: 0.3941 - acc: 0.860 - ETA: 3s - loss: 0.3933 - acc: 0.860 - ETA: 3s - loss: 0.3932 - acc: 0.860 - ETA: 3s - loss: 0.3931 - acc: 0.860 - ETA: 3s - loss: 0.3933 - acc: 0.860 - ETA: 3s - loss: 0.3925 - acc: 0.860 - ETA: 3s - loss: 0.3922 - acc: 0.861 - ETA: 3s - loss: 0.3923 - acc: 0.860 - ETA: 2s - loss: 0.3920 - acc: 0.861 - ETA: 2s - loss: 0.3921 - acc: 0.861 - ETA: 2s - loss: 0.3921 - acc: 0.861 - ETA: 2s - loss: 0.3919 - acc: 0.861 - ETA: 2s - loss: 0.3913 - acc: 0.861 - ETA: 2s - loss: 0.3913 - acc: 0.861 - ETA: 2s - loss: 0.3908 - acc: 0.861 - ETA: 2s - loss: 0.3908 - acc: 0.861 - ETA: 2s - loss: 0.3907 - acc: 0.861 - ETA: 2s - loss: 0.3911 - acc: 0.861 - ETA: 2s - loss: 0.3907 - acc: 0.861 - ETA: 2s - loss: 0.3912 - acc: 0.860 - ETA: 2s - loss: 0.3905 - acc: 0.861 - ETA: 2s - loss: 0.3900 - acc: 0.861 - ETA: 2s - loss: 0.3897 - acc: 0.861 - ETA: 2s - loss: 0.3895 - acc: 0.861 - ETA: 2s - loss: 0.3898 - acc: 0.861 - ETA: 2s - loss: 0.3901 - acc: 0.861 - ETA: 2s - loss: 0.3898 - acc: 0.861 - ETA: 2s - loss: 0.3897 - acc: 0.861 - ETA: 1s - loss: 0.3894 - acc: 0.861 - ETA: 1s - loss: 0.3893 - acc: 0.861 - ETA: 1s - loss: 0.3895 - acc: 0.861 - ETA: 1s - loss: 0.3895 - acc: 0.861 - ETA: 1s - loss: 0.3895 - acc: 0.861 - ETA: 1s - loss: 0.3894 - acc: 0.861 - ETA: 1s - loss: 0.3895 - acc: 0.861 - ETA: 1s - loss: 0.3890 - acc: 0.861 - ETA: 1s - loss: 0.3885 - acc: 0.861 - ETA: 1s - loss: 0.3884 - acc: 0.861 - ETA: 1s - loss: 0.3877 - acc: 0.862 - ETA: 1s - loss: 0.3877 - acc: 0.861 - ETA: 1s - loss: 0.3874 - acc: 0.862 - ETA: 1s - loss: 0.3874 - acc: 0.862 - ETA: 1s - loss: 0.3872 - acc: 0.862 - ETA: 1s - loss: 0.3877 - acc: 0.862 - ETA: 1s - loss: 0.3875 - acc: 0.862 - ETA: 1s - loss: 0.3876 - acc: 0.862 - ETA: 1s - loss: 0.3872 - acc: 0.862 - ETA: 0s - loss: 0.3872 - acc: 0.862 - ETA: 0s - loss: 0.3875 - acc: 0.862 - ETA: 0s - loss: 0.3874 - acc: 0.862 - ETA: 0s - loss: 0.3874 - acc: 0.861 - ETA: 0s - loss: 0.3873 - acc: 0.862 - ETA: 0s - loss: 0.3878 - acc: 0.862 - ETA: 0s - loss: 0.3879 - acc: 0.861 - ETA: 0s - loss: 0.3875 - acc: 0.862 - ETA: 0s - loss: 0.3874 - acc: 0.862 - ETA: 0s - loss: 0.3875 - acc: 0.861 - ETA: 0s - loss: 0.3874 - acc: 0.861 - ETA: 0s - loss: 0.3879 - acc: 0.861 - ETA: 0s - loss: 0.3879 - acc: 0.861 - ETA: 0s - loss: 0.3877 - acc: 0.861 - ETA: 0s - loss: 0.3877 - acc: 0.861 - ETA: 0s - loss: 0.3879 - acc: 0.861 - ETA: 0s - loss: 0.3881 - acc: 0.861 - ETA: 0s - loss: 0.3879 - acc: 0.861 - ETA: 0s - loss: 0.3880 - acc: 0.861 - ETA: 0s - loss: 0.3885 - acc: 0.861 - 9s 166us/step - loss: 0.3886 - acc: 0.8611 - val_loss: 0.4110 - val_acc: 0.8548\n",
      "Epoch 9/20\n"
     ]
    },
    {
     "data": {
      "application/vnd.jupyter.widget-view+json": {
       "model_id": "",
       "version_major": 2,
       "version_minor": 0
      },
      "text/plain": [
       "HBox(children=(IntProgress(value=0, description='Epoch 8', max=54000), HTML(value='')))"
      ]
     },
     "metadata": {},
     "output_type": "display_data"
    },
    {
     "name": "stdout",
     "output_type": "stream",
     "text": [
      "54000/54000 [==============================] - ETA: 1:19 - loss: 0.6192 - acc: 0.725 - ETA: 9s - loss: 0.4177 - acc: 0.8333  - ETA: 7s - loss: 0.4115 - acc: 0.845 - ETA: 6s - loss: 0.3991 - acc: 0.852 - ETA: 5s - loss: 0.3939 - acc: 0.859 - ETA: 5s - loss: 0.3914 - acc: 0.861 - ETA: 5s - loss: 0.3957 - acc: 0.858 - ETA: 5s - loss: 0.3940 - acc: 0.860 - ETA: 5s - loss: 0.3906 - acc: 0.860 - ETA: 5s - loss: 0.3891 - acc: 0.859 - ETA: 5s - loss: 0.3829 - acc: 0.862 - ETA: 5s - loss: 0.3808 - acc: 0.865 - ETA: 5s - loss: 0.3801 - acc: 0.865 - ETA: 5s - loss: 0.3774 - acc: 0.866 - ETA: 5s - loss: 0.3777 - acc: 0.867 - ETA: 5s - loss: 0.3793 - acc: 0.866 - ETA: 5s - loss: 0.3748 - acc: 0.867 - ETA: 5s - loss: 0.3766 - acc: 0.866 - ETA: 5s - loss: 0.3819 - acc: 0.866 - ETA: 5s - loss: 0.3833 - acc: 0.865 - ETA: 5s - loss: 0.3835 - acc: 0.866 - ETA: 5s - loss: 0.3819 - acc: 0.866 - ETA: 5s - loss: 0.3830 - acc: 0.866 - ETA: 5s - loss: 0.3816 - acc: 0.866 - ETA: 5s - loss: 0.3825 - acc: 0.866 - ETA: 5s - loss: 0.3810 - acc: 0.866 - ETA: 5s - loss: 0.3795 - acc: 0.867 - ETA: 5s - loss: 0.3778 - acc: 0.867 - ETA: 5s - loss: 0.3773 - acc: 0.867 - ETA: 5s - loss: 0.3780 - acc: 0.867 - ETA: 5s - loss: 0.3775 - acc: 0.867 - ETA: 5s - loss: 0.3766 - acc: 0.868 - ETA: 5s - loss: 0.3765 - acc: 0.867 - ETA: 5s - loss: 0.3774 - acc: 0.867 - ETA: 5s - loss: 0.3777 - acc: 0.867 - ETA: 5s - loss: 0.3776 - acc: 0.867 - ETA: 5s - loss: 0.3784 - acc: 0.867 - ETA: 5s - loss: 0.3793 - acc: 0.866 - ETA: 5s - loss: 0.3776 - acc: 0.866 - ETA: 5s - loss: 0.3774 - acc: 0.866 - ETA: 5s - loss: 0.3786 - acc: 0.866 - ETA: 5s - loss: 0.3781 - acc: 0.866 - ETA: 5s - loss: 0.3775 - acc: 0.866 - ETA: 5s - loss: 0.3774 - acc: 0.867 - ETA: 5s - loss: 0.3780 - acc: 0.867 - ETA: 5s - loss: 0.3776 - acc: 0.867 - ETA: 5s - loss: 0.3756 - acc: 0.868 - ETA: 4s - loss: 0.3751 - acc: 0.867 - ETA: 4s - loss: 0.3756 - acc: 0.867 - ETA: 4s - loss: 0.3750 - acc: 0.867 - ETA: 4s - loss: 0.3758 - acc: 0.866 - ETA: 4s - loss: 0.3794 - acc: 0.865 - ETA: 4s - loss: 0.3786 - acc: 0.866 - ETA: 4s - loss: 0.3797 - acc: 0.865 - ETA: 4s - loss: 0.3806 - acc: 0.865 - ETA: 4s - loss: 0.3805 - acc: 0.865 - ETA: 4s - loss: 0.3800 - acc: 0.865 - ETA: 4s - loss: 0.3798 - acc: 0.865 - ETA: 4s - loss: 0.3801 - acc: 0.865 - ETA: 4s - loss: 0.3794 - acc: 0.865 - ETA: 4s - loss: 0.3788 - acc: 0.866 - ETA: 4s - loss: 0.3802 - acc: 0.865 - ETA: 4s - loss: 0.3797 - acc: 0.866 - ETA: 4s - loss: 0.3801 - acc: 0.865 - ETA: 4s - loss: 0.3794 - acc: 0.866 - ETA: 4s - loss: 0.3798 - acc: 0.865 - ETA: 4s - loss: 0.3799 - acc: 0.865 - ETA: 4s - loss: 0.3788 - acc: 0.865 - ETA: 4s - loss: 0.3783 - acc: 0.866 - ETA: 4s - loss: 0.3773 - acc: 0.866 - ETA: 4s - loss: 0.3773 - acc: 0.866 - ETA: 4s - loss: 0.3775 - acc: 0.866 - ETA: 4s - loss: 0.3771 - acc: 0.866 - ETA: 3s - loss: 0.3766 - acc: 0.866 - ETA: 3s - loss: 0.3763 - acc: 0.866 - ETA: 3s - loss: 0.3769 - acc: 0.866 - ETA: 3s - loss: 0.3774 - acc: 0.866 - ETA: 3s - loss: 0.3779 - acc: 0.866 - ETA: 3s - loss: 0.3788 - acc: 0.865 - ETA: 3s - loss: 0.3786 - acc: 0.865 - ETA: 3s - loss: 0.3796 - acc: 0.865 - ETA: 3s - loss: 0.3793 - acc: 0.865 - ETA: 3s - loss: 0.3795 - acc: 0.865 - ETA: 3s - loss: 0.3794 - acc: 0.865 - ETA: 3s - loss: 0.3792 - acc: 0.865 - ETA: 3s - loss: 0.3789 - acc: 0.865 - ETA: 3s - loss: 0.3783 - acc: 0.865 - ETA: 3s - loss: 0.3777 - acc: 0.866 - ETA: 3s - loss: 0.3778 - acc: 0.865 - ETA: 3s - loss: 0.3780 - acc: 0.865 - ETA: 3s - loss: 0.3779 - acc: 0.865 - ETA: 3s - loss: 0.3778 - acc: 0.865 - ETA: 3s - loss: 0.3781 - acc: 0.865 - ETA: 3s - loss: 0.3777 - acc: 0.865 - ETA: 3s - loss: 0.3775 - acc: 0.865 - ETA: 3s - loss: 0.3774 - acc: 0.865 - ETA: 2s - loss: 0.3778 - acc: 0.865 - ETA: 2s - loss: 0.3778 - acc: 0.865 - ETA: 2s - loss: 0.3770 - acc: 0.865 - ETA: 2s - loss: 0.3773 - acc: 0.865 - ETA: 2s - loss: 0.3776 - acc: 0.865 - ETA: 2s - loss: 0.3781 - acc: 0.865 - ETA: 2s - loss: 0.3781 - acc: 0.865 - ETA: 2s - loss: 0.3784 - acc: 0.865 - ETA: 2s - loss: 0.3781 - acc: 0.865 - ETA: 2s - loss: 0.3780 - acc: 0.865 - ETA: 2s - loss: 0.3777 - acc: 0.865 - ETA: 2s - loss: 0.3776 - acc: 0.865 - ETA: 2s - loss: 0.3786 - acc: 0.864 - ETA: 2s - loss: 0.3784 - acc: 0.865 - ETA: 2s - loss: 0.3781 - acc: 0.865 - ETA: 2s - loss: 0.3782 - acc: 0.865 - ETA: 2s - loss: 0.3785 - acc: 0.865 - ETA: 1s - loss: 0.3781 - acc: 0.865 - ETA: 1s - loss: 0.3781 - acc: 0.865 - ETA: 1s - loss: 0.3786 - acc: 0.864 - ETA: 1s - loss: 0.3782 - acc: 0.865 - ETA: 1s - loss: 0.3782 - acc: 0.865 - ETA: 1s - loss: 0.3781 - acc: 0.865 - ETA: 1s - loss: 0.3782 - acc: 0.865 - ETA: 1s - loss: 0.3782 - acc: 0.865 - ETA: 1s - loss: 0.3778 - acc: 0.865 - ETA: 1s - loss: 0.3778 - acc: 0.865 - ETA: 1s - loss: 0.3781 - acc: 0.865 - ETA: 1s - loss: 0.3784 - acc: 0.865 - ETA: 1s - loss: 0.3781 - acc: 0.865 - ETA: 1s - loss: 0.3784 - acc: 0.864 - ETA: 1s - loss: 0.3784 - acc: 0.864 - ETA: 1s - loss: 0.3786 - acc: 0.864 - ETA: 0s - loss: 0.3788 - acc: 0.864 - ETA: 0s - loss: 0.3789 - acc: 0.864 - ETA: 0s - loss: 0.3786 - acc: 0.864 - ETA: 0s - loss: 0.3786 - acc: 0.864 - ETA: 0s - loss: 0.3785 - acc: 0.864 - ETA: 0s - loss: 0.3784 - acc: 0.865 - ETA: 0s - loss: 0.3780 - acc: 0.865 - ETA: 0s - loss: 0.3776 - acc: 0.865 - ETA: 0s - loss: 0.3775 - acc: 0.865 - ETA: 0s - loss: 0.3768 - acc: 0.865 - ETA: 0s - loss: 0.3767 - acc: 0.865 - ETA: 0s - loss: 0.3774 - acc: 0.865 - ETA: 0s - loss: 0.3777 - acc: 0.865 - ETA: 0s - loss: 0.3780 - acc: 0.865 - ETA: 0s - loss: 0.3777 - acc: 0.865 - ETA: 0s - loss: 0.3781 - acc: 0.864 - ETA: 0s - loss: 0.3786 - acc: 0.864 - ETA: 0s - loss: 0.3787 - acc: 0.864 - ETA: 0s - loss: 0.3792 - acc: 0.864 - 8s 150us/step - loss: 0.3792 - acc: 0.8642 - val_loss: 0.3935 - val_acc: 0.8610\n",
      "Epoch 10/20\n"
     ]
    },
    {
     "data": {
      "application/vnd.jupyter.widget-view+json": {
       "model_id": "",
       "version_major": 2,
       "version_minor": 0
      },
      "text/plain": [
       "HBox(children=(IntProgress(value=0, description='Epoch 9', max=54000), HTML(value='')))"
      ]
     },
     "metadata": {},
     "output_type": "display_data"
    },
    {
     "name": "stdout",
     "output_type": "stream",
     "text": [
      "54000/54000 [==============================] - ETA: 1:38 - loss: 0.2839 - acc: 0.950 - ETA: 16s - loss: 0.3515 - acc: 0.880 - ETA: 7s - loss: 0.3894 - acc: 0.8575 - ETA: 6s - loss: 0.3750 - acc: 0.866 - ETA: 6s - loss: 0.3709 - acc: 0.867 - ETA: 6s - loss: 0.3742 - acc: 0.867 - ETA: 5s - loss: 0.3765 - acc: 0.865 - ETA: 5s - loss: 0.3789 - acc: 0.864 - ETA: 5s - loss: 0.3786 - acc: 0.864 - ETA: 5s - loss: 0.3802 - acc: 0.863 - ETA: 5s - loss: 0.3844 - acc: 0.863 - ETA: 5s - loss: 0.3870 - acc: 0.862 - ETA: 5s - loss: 0.3847 - acc: 0.864 - ETA: 5s - loss: 0.3856 - acc: 0.863 - ETA: 5s - loss: 0.3826 - acc: 0.864 - ETA: 5s - loss: 0.3868 - acc: 0.863 - ETA: 5s - loss: 0.3892 - acc: 0.863 - ETA: 5s - loss: 0.3863 - acc: 0.864 - ETA: 5s - loss: 0.3842 - acc: 0.865 - ETA: 5s - loss: 0.3838 - acc: 0.865 - ETA: 5s - loss: 0.3829 - acc: 0.864 - ETA: 5s - loss: 0.3840 - acc: 0.863 - ETA: 5s - loss: 0.3789 - acc: 0.865 - ETA: 5s - loss: 0.3795 - acc: 0.864 - ETA: 5s - loss: 0.3780 - acc: 0.865 - ETA: 5s - loss: 0.3770 - acc: 0.865 - ETA: 5s - loss: 0.3783 - acc: 0.864 - ETA: 5s - loss: 0.3802 - acc: 0.863 - ETA: 5s - loss: 0.3813 - acc: 0.863 - ETA: 5s - loss: 0.3805 - acc: 0.864 - ETA: 5s - loss: 0.3815 - acc: 0.864 - ETA: 5s - loss: 0.3817 - acc: 0.863 - ETA: 5s - loss: 0.3808 - acc: 0.863 - ETA: 5s - loss: 0.3793 - acc: 0.864 - ETA: 5s - loss: 0.3809 - acc: 0.864 - ETA: 5s - loss: 0.3802 - acc: 0.864 - ETA: 5s - loss: 0.3807 - acc: 0.864 - ETA: 5s - loss: 0.3807 - acc: 0.863 - ETA: 5s - loss: 0.3811 - acc: 0.864 - ETA: 5s - loss: 0.3801 - acc: 0.864 - ETA: 5s - loss: 0.3785 - acc: 0.865 - ETA: 5s - loss: 0.3780 - acc: 0.865 - ETA: 5s - loss: 0.3785 - acc: 0.865 - ETA: 5s - loss: 0.3781 - acc: 0.865 - ETA: 5s - loss: 0.3788 - acc: 0.864 - ETA: 5s - loss: 0.3796 - acc: 0.864 - ETA: 4s - loss: 0.3782 - acc: 0.864 - ETA: 4s - loss: 0.3778 - acc: 0.864 - ETA: 4s - loss: 0.3760 - acc: 0.865 - ETA: 4s - loss: 0.3751 - acc: 0.865 - ETA: 4s - loss: 0.3751 - acc: 0.866 - ETA: 4s - loss: 0.3759 - acc: 0.865 - ETA: 4s - loss: 0.3755 - acc: 0.865 - ETA: 4s - loss: 0.3748 - acc: 0.865 - ETA: 4s - loss: 0.3750 - acc: 0.865 - ETA: 4s - loss: 0.3752 - acc: 0.865 - ETA: 4s - loss: 0.3741 - acc: 0.865 - ETA: 4s - loss: 0.3735 - acc: 0.865 - ETA: 4s - loss: 0.3724 - acc: 0.866 - ETA: 4s - loss: 0.3729 - acc: 0.866 - ETA: 4s - loss: 0.3727 - acc: 0.866 - ETA: 4s - loss: 0.3735 - acc: 0.866 - ETA: 4s - loss: 0.3732 - acc: 0.866 - ETA: 4s - loss: 0.3729 - acc: 0.866 - ETA: 4s - loss: 0.3726 - acc: 0.867 - ETA: 4s - loss: 0.3725 - acc: 0.867 - ETA: 4s - loss: 0.3726 - acc: 0.867 - ETA: 4s - loss: 0.3738 - acc: 0.867 - ETA: 4s - loss: 0.3746 - acc: 0.867 - ETA: 4s - loss: 0.3742 - acc: 0.867 - ETA: 3s - loss: 0.3755 - acc: 0.866 - ETA: 3s - loss: 0.3763 - acc: 0.866 - ETA: 3s - loss: 0.3767 - acc: 0.866 - ETA: 3s - loss: 0.3766 - acc: 0.866 - ETA: 3s - loss: 0.3764 - acc: 0.866 - ETA: 3s - loss: 0.3762 - acc: 0.866 - ETA: 3s - loss: 0.3753 - acc: 0.867 - ETA: 3s - loss: 0.3748 - acc: 0.867 - ETA: 3s - loss: 0.3745 - acc: 0.867 - ETA: 3s - loss: 0.3742 - acc: 0.867 - ETA: 3s - loss: 0.3744 - acc: 0.867 - ETA: 3s - loss: 0.3744 - acc: 0.867 - ETA: 3s - loss: 0.3743 - acc: 0.867 - ETA: 3s - loss: 0.3741 - acc: 0.867 - ETA: 3s - loss: 0.3743 - acc: 0.867 - ETA: 3s - loss: 0.3742 - acc: 0.867 - ETA: 3s - loss: 0.3744 - acc: 0.867 - ETA: 2s - loss: 0.3746 - acc: 0.867 - ETA: 2s - loss: 0.3738 - acc: 0.867 - ETA: 2s - loss: 0.3729 - acc: 0.868 - ETA: 2s - loss: 0.3727 - acc: 0.868 - ETA: 2s - loss: 0.3728 - acc: 0.867 - ETA: 2s - loss: 0.3725 - acc: 0.867 - ETA: 2s - loss: 0.3721 - acc: 0.867 - ETA: 2s - loss: 0.3715 - acc: 0.868 - ETA: 2s - loss: 0.3713 - acc: 0.868 - ETA: 2s - loss: 0.3722 - acc: 0.867 - ETA: 2s - loss: 0.3714 - acc: 0.868 - ETA: 2s - loss: 0.3708 - acc: 0.868 - ETA: 2s - loss: 0.3708 - acc: 0.868 - ETA: 2s - loss: 0.3708 - acc: 0.868 - ETA: 2s - loss: 0.3707 - acc: 0.868 - ETA: 2s - loss: 0.3709 - acc: 0.868 - ETA: 2s - loss: 0.3710 - acc: 0.868 - ETA: 2s - loss: 0.3710 - acc: 0.868 - ETA: 2s - loss: 0.3706 - acc: 0.868 - ETA: 2s - loss: 0.3702 - acc: 0.868 - ETA: 2s - loss: 0.3703 - acc: 0.868 - ETA: 2s - loss: 0.3700 - acc: 0.868 - ETA: 2s - loss: 0.3698 - acc: 0.868 - ETA: 1s - loss: 0.3696 - acc: 0.868 - ETA: 1s - loss: 0.3693 - acc: 0.868 - ETA: 1s - loss: 0.3697 - acc: 0.868 - ETA: 1s - loss: 0.3702 - acc: 0.868 - ETA: 1s - loss: 0.3701 - acc: 0.868 - ETA: 1s - loss: 0.3704 - acc: 0.868 - ETA: 1s - loss: 0.3706 - acc: 0.868 - ETA: 1s - loss: 0.3706 - acc: 0.868 - ETA: 1s - loss: 0.3705 - acc: 0.868 - ETA: 1s - loss: 0.3706 - acc: 0.868 - ETA: 1s - loss: 0.3713 - acc: 0.868 - ETA: 1s - loss: 0.3714 - acc: 0.868 - ETA: 1s - loss: 0.3711 - acc: 0.868 - ETA: 1s - loss: 0.3711 - acc: 0.868 - ETA: 1s - loss: 0.3709 - acc: 0.868 - ETA: 1s - loss: 0.3709 - acc: 0.868 - ETA: 1s - loss: 0.3709 - acc: 0.868 - ETA: 1s - loss: 0.3713 - acc: 0.867 - ETA: 1s - loss: 0.3716 - acc: 0.867 - ETA: 1s - loss: 0.3720 - acc: 0.867 - ETA: 1s - loss: 0.3719 - acc: 0.867 - ETA: 1s - loss: 0.3714 - acc: 0.867 - ETA: 0s - loss: 0.3713 - acc: 0.867 - ETA: 0s - loss: 0.3712 - acc: 0.867 - ETA: 0s - loss: 0.3711 - acc: 0.867 - ETA: 0s - loss: 0.3713 - acc: 0.867 - ETA: 0s - loss: 0.3710 - acc: 0.867 - ETA: 0s - loss: 0.3713 - acc: 0.868 - ETA: 0s - loss: 0.3713 - acc: 0.868 - ETA: 0s - loss: 0.3713 - acc: 0.868 - ETA: 0s - loss: 0.3714 - acc: 0.867 - ETA: 0s - loss: 0.3712 - acc: 0.867 - ETA: 0s - loss: 0.3712 - acc: 0.868 - ETA: 0s - loss: 0.3707 - acc: 0.868 - ETA: 0s - loss: 0.3707 - acc: 0.868 - ETA: 0s - loss: 0.3709 - acc: 0.867 - ETA: 0s - loss: 0.3706 - acc: 0.868 - ETA: 0s - loss: 0.3703 - acc: 0.868 - ETA: 0s - loss: 0.3702 - acc: 0.868 - ETA: 0s - loss: 0.3708 - acc: 0.867 - ETA: 0s - loss: 0.3708 - acc: 0.867 - ETA: 0s - loss: 0.3706 - acc: 0.867 - ETA: 0s - loss: 0.3703 - acc: 0.868 - 8s 156us/step - loss: 0.3709 - acc: 0.8679 - val_loss: 0.3956 - val_acc: 0.8558\n",
      "Epoch 11/20\n"
     ]
    },
    {
     "data": {
      "application/vnd.jupyter.widget-view+json": {
       "model_id": "",
       "version_major": 2,
       "version_minor": 0
      },
      "text/plain": [
       "HBox(children=(IntProgress(value=0, description='Epoch 10', max=54000), HTML(value='')))"
      ]
     },
     "metadata": {},
     "output_type": "display_data"
    },
    {
     "name": "stdout",
     "output_type": "stream",
     "text": [
      "54000/54000 [==============================] - ETA: 1:38 - loss: 0.3281 - acc: 0.900 - ETA: 18s - loss: 0.3609 - acc: 0.877 - ETA: 13s - loss: 0.3718 - acc: 0.86 - ETA: 11s - loss: 0.4029 - acc: 0.85 - ETA: 10s - loss: 0.3821 - acc: 0.86 - ETA: 10s - loss: 0.3745 - acc: 0.86 - ETA: 9s - loss: 0.3731 - acc: 0.8644 - ETA: 9s - loss: 0.3711 - acc: 0.866 - ETA: 9s - loss: 0.3677 - acc: 0.870 - ETA: 9s - loss: 0.3700 - acc: 0.870 - ETA: 8s - loss: 0.3685 - acc: 0.870 - ETA: 8s - loss: 0.3736 - acc: 0.869 - ETA: 8s - loss: 0.3727 - acc: 0.867 - ETA: 8s - loss: 0.3731 - acc: 0.866 - ETA: 8s - loss: 0.3722 - acc: 0.866 - ETA: 8s - loss: 0.3716 - acc: 0.866 - ETA: 8s - loss: 0.3718 - acc: 0.865 - ETA: 8s - loss: 0.3678 - acc: 0.866 - ETA: 8s - loss: 0.3690 - acc: 0.864 - ETA: 8s - loss: 0.3651 - acc: 0.867 - ETA: 7s - loss: 0.3664 - acc: 0.866 - ETA: 7s - loss: 0.3629 - acc: 0.867 - ETA: 7s - loss: 0.3614 - acc: 0.868 - ETA: 7s - loss: 0.3607 - acc: 0.868 - ETA: 7s - loss: 0.3599 - acc: 0.868 - ETA: 7s - loss: 0.3620 - acc: 0.867 - ETA: 7s - loss: 0.3641 - acc: 0.867 - ETA: 7s - loss: 0.3623 - acc: 0.868 - ETA: 7s - loss: 0.3650 - acc: 0.868 - ETA: 7s - loss: 0.3648 - acc: 0.868 - ETA: 7s - loss: 0.3636 - acc: 0.868 - ETA: 7s - loss: 0.3632 - acc: 0.868 - ETA: 7s - loss: 0.3643 - acc: 0.868 - ETA: 7s - loss: 0.3635 - acc: 0.868 - ETA: 6s - loss: 0.3658 - acc: 0.867 - ETA: 6s - loss: 0.3651 - acc: 0.867 - ETA: 6s - loss: 0.3663 - acc: 0.867 - ETA: 6s - loss: 0.3650 - acc: 0.867 - ETA: 6s - loss: 0.3655 - acc: 0.867 - ETA: 6s - loss: 0.3650 - acc: 0.867 - ETA: 6s - loss: 0.3641 - acc: 0.868 - ETA: 6s - loss: 0.3636 - acc: 0.868 - ETA: 6s - loss: 0.3636 - acc: 0.868 - ETA: 6s - loss: 0.3640 - acc: 0.867 - ETA: 6s - loss: 0.3625 - acc: 0.868 - ETA: 6s - loss: 0.3620 - acc: 0.868 - ETA: 6s - loss: 0.3609 - acc: 0.869 - ETA: 6s - loss: 0.3608 - acc: 0.869 - ETA: 6s - loss: 0.3605 - acc: 0.869 - ETA: 6s - loss: 0.3599 - acc: 0.869 - ETA: 5s - loss: 0.3597 - acc: 0.869 - ETA: 5s - loss: 0.3599 - acc: 0.869 - ETA: 5s - loss: 0.3600 - acc: 0.869 - ETA: 5s - loss: 0.3604 - acc: 0.869 - ETA: 5s - loss: 0.3598 - acc: 0.869 - ETA: 5s - loss: 0.3611 - acc: 0.868 - ETA: 5s - loss: 0.3637 - acc: 0.867 - ETA: 5s - loss: 0.3638 - acc: 0.867 - ETA: 5s - loss: 0.3641 - acc: 0.867 - ETA: 5s - loss: 0.3630 - acc: 0.867 - ETA: 5s - loss: 0.3634 - acc: 0.867 - ETA: 5s - loss: 0.3637 - acc: 0.868 - ETA: 5s - loss: 0.3635 - acc: 0.867 - ETA: 5s - loss: 0.3620 - acc: 0.868 - ETA: 5s - loss: 0.3626 - acc: 0.868 - ETA: 5s - loss: 0.3631 - acc: 0.868 - ETA: 5s - loss: 0.3628 - acc: 0.868 - ETA: 5s - loss: 0.3635 - acc: 0.867 - ETA: 4s - loss: 0.3638 - acc: 0.867 - ETA: 4s - loss: 0.3633 - acc: 0.867 - ETA: 4s - loss: 0.3619 - acc: 0.868 - ETA: 4s - loss: 0.3621 - acc: 0.868 - ETA: 4s - loss: 0.3623 - acc: 0.868 - ETA: 4s - loss: 0.3625 - acc: 0.868 - ETA: 4s - loss: 0.3631 - acc: 0.868 - ETA: 4s - loss: 0.3627 - acc: 0.868 - ETA: 4s - loss: 0.3630 - acc: 0.868 - ETA: 4s - loss: 0.3633 - acc: 0.868 - ETA: 4s - loss: 0.3621 - acc: 0.868 - ETA: 4s - loss: 0.3617 - acc: 0.868 - ETA: 4s - loss: 0.3624 - acc: 0.868 - ETA: 4s - loss: 0.3630 - acc: 0.868 - ETA: 4s - loss: 0.3634 - acc: 0.868 - ETA: 4s - loss: 0.3626 - acc: 0.868 - ETA: 4s - loss: 0.3625 - acc: 0.868 - ETA: 4s - loss: 0.3628 - acc: 0.868 - ETA: 3s - loss: 0.3626 - acc: 0.868 - ETA: 3s - loss: 0.3624 - acc: 0.868 - ETA: 3s - loss: 0.3617 - acc: 0.868 - ETA: 3s - loss: 0.3614 - acc: 0.868 - ETA: 3s - loss: 0.3608 - acc: 0.868 - ETA: 3s - loss: 0.3613 - acc: 0.868 - ETA: 3s - loss: 0.3614 - acc: 0.869 - ETA: 3s - loss: 0.3620 - acc: 0.868 - ETA: 3s - loss: 0.3621 - acc: 0.868 - ETA: 3s - loss: 0.3608 - acc: 0.869 - ETA: 2s - loss: 0.3605 - acc: 0.869 - ETA: 2s - loss: 0.3605 - acc: 0.869 - ETA: 2s - loss: 0.3600 - acc: 0.869 - ETA: 2s - loss: 0.3594 - acc: 0.869 - ETA: 2s - loss: 0.3593 - acc: 0.869 - ETA: 2s - loss: 0.3592 - acc: 0.869 - ETA: 2s - loss: 0.3595 - acc: 0.869 - ETA: 2s - loss: 0.3596 - acc: 0.869 - ETA: 2s - loss: 0.3595 - acc: 0.869 - ETA: 2s - loss: 0.3601 - acc: 0.869 - ETA: 2s - loss: 0.3607 - acc: 0.869 - ETA: 2s - loss: 0.3608 - acc: 0.869 - ETA: 2s - loss: 0.3617 - acc: 0.869 - ETA: 2s - loss: 0.3619 - acc: 0.869 - ETA: 2s - loss: 0.3619 - acc: 0.869 - ETA: 2s - loss: 0.3622 - acc: 0.868 - ETA: 2s - loss: 0.3626 - acc: 0.868 - ETA: 1s - loss: 0.3629 - acc: 0.868 - ETA: 1s - loss: 0.3627 - acc: 0.868 - ETA: 1s - loss: 0.3629 - acc: 0.868 - ETA: 1s - loss: 0.3627 - acc: 0.868 - ETA: 1s - loss: 0.3631 - acc: 0.868 - ETA: 1s - loss: 0.3632 - acc: 0.868 - ETA: 1s - loss: 0.3630 - acc: 0.869 - ETA: 1s - loss: 0.3636 - acc: 0.868 - ETA: 1s - loss: 0.3637 - acc: 0.868 - ETA: 1s - loss: 0.3638 - acc: 0.868 - ETA: 1s - loss: 0.3642 - acc: 0.868 - ETA: 1s - loss: 0.3645 - acc: 0.868 - ETA: 1s - loss: 0.3642 - acc: 0.868 - ETA: 1s - loss: 0.3646 - acc: 0.868 - ETA: 1s - loss: 0.3646 - acc: 0.868 - ETA: 1s - loss: 0.3644 - acc: 0.868 - ETA: 1s - loss: 0.3643 - acc: 0.868 - ETA: 1s - loss: 0.3641 - acc: 0.868 - ETA: 0s - loss: 0.3641 - acc: 0.868 - ETA: 0s - loss: 0.3643 - acc: 0.868 - ETA: 0s - loss: 0.3645 - acc: 0.868 - ETA: 0s - loss: 0.3641 - acc: 0.868 - ETA: 0s - loss: 0.3642 - acc: 0.868 - ETA: 0s - loss: 0.3645 - acc: 0.868 - ETA: 0s - loss: 0.3640 - acc: 0.868 - ETA: 0s - loss: 0.3641 - acc: 0.869 - ETA: 0s - loss: 0.3640 - acc: 0.869 - ETA: 0s - loss: 0.3641 - acc: 0.869 - ETA: 0s - loss: 0.3643 - acc: 0.868 - ETA: 0s - loss: 0.3642 - acc: 0.868 - ETA: 0s - loss: 0.3639 - acc: 0.869 - ETA: 0s - loss: 0.3638 - acc: 0.869 - ETA: 0s - loss: 0.3635 - acc: 0.869 - ETA: 0s - loss: 0.3635 - acc: 0.869 - ETA: 0s - loss: 0.3638 - acc: 0.868 - ETA: 0s - loss: 0.3636 - acc: 0.869 - ETA: 0s - loss: 0.3644 - acc: 0.868 - 8s 151us/step - loss: 0.3644 - acc: 0.8689 - val_loss: 0.3855 - val_acc: 0.8627\n",
      "Epoch 12/20\n"
     ]
    },
    {
     "data": {
      "application/vnd.jupyter.widget-view+json": {
       "model_id": "",
       "version_major": 2,
       "version_minor": 0
      },
      "text/plain": [
       "HBox(children=(IntProgress(value=0, description='Epoch 11', max=54000), HTML(value='')))"
      ]
     },
     "metadata": {},
     "output_type": "display_data"
    },
    {
     "name": "stdout",
     "output_type": "stream",
     "text": [
      "54000/54000 [==============================] - ETA: 1:34 - loss: 0.1900 - acc: 0.900 - ETA: 18s - loss: 0.3494 - acc: 0.855 - ETA: 12s - loss: 0.3408 - acc: 0.86 - ETA: 11s - loss: 0.3374 - acc: 0.87 - ETA: 10s - loss: 0.3318 - acc: 0.87 - ETA: 9s - loss: 0.3398 - acc: 0.8779 - ETA: 9s - loss: 0.3467 - acc: 0.877 - ETA: 9s - loss: 0.3491 - acc: 0.875 - ETA: 9s - loss: 0.3620 - acc: 0.870 - ETA: 8s - loss: 0.3714 - acc: 0.867 - ETA: 8s - loss: 0.3708 - acc: 0.868 - ETA: 8s - loss: 0.3728 - acc: 0.867 - ETA: 8s - loss: 0.3719 - acc: 0.867 - ETA: 8s - loss: 0.3711 - acc: 0.867 - ETA: 8s - loss: 0.3690 - acc: 0.867 - ETA: 8s - loss: 0.3719 - acc: 0.866 - ETA: 7s - loss: 0.3682 - acc: 0.867 - ETA: 7s - loss: 0.3662 - acc: 0.868 - ETA: 7s - loss: 0.3657 - acc: 0.868 - ETA: 7s - loss: 0.3667 - acc: 0.868 - ETA: 7s - loss: 0.3644 - acc: 0.870 - ETA: 7s - loss: 0.3601 - acc: 0.871 - ETA: 7s - loss: 0.3618 - acc: 0.870 - ETA: 7s - loss: 0.3620 - acc: 0.870 - ETA: 7s - loss: 0.3598 - acc: 0.871 - ETA: 7s - loss: 0.3617 - acc: 0.871 - ETA: 7s - loss: 0.3626 - acc: 0.871 - ETA: 7s - loss: 0.3601 - acc: 0.872 - ETA: 7s - loss: 0.3583 - acc: 0.873 - ETA: 7s - loss: 0.3579 - acc: 0.873 - ETA: 7s - loss: 0.3600 - acc: 0.873 - ETA: 6s - loss: 0.3580 - acc: 0.873 - ETA: 6s - loss: 0.3577 - acc: 0.873 - ETA: 6s - loss: 0.3573 - acc: 0.873 - ETA: 6s - loss: 0.3590 - acc: 0.873 - ETA: 6s - loss: 0.3581 - acc: 0.873 - ETA: 6s - loss: 0.3600 - acc: 0.873 - ETA: 6s - loss: 0.3618 - acc: 0.871 - ETA: 6s - loss: 0.3625 - acc: 0.871 - ETA: 6s - loss: 0.3642 - acc: 0.870 - ETA: 6s - loss: 0.3657 - acc: 0.870 - ETA: 6s - loss: 0.3643 - acc: 0.870 - ETA: 6s - loss: 0.3642 - acc: 0.870 - ETA: 6s - loss: 0.3633 - acc: 0.871 - ETA: 6s - loss: 0.3624 - acc: 0.871 - ETA: 6s - loss: 0.3613 - acc: 0.871 - ETA: 6s - loss: 0.3616 - acc: 0.871 - ETA: 6s - loss: 0.3612 - acc: 0.872 - ETA: 6s - loss: 0.3609 - acc: 0.872 - ETA: 6s - loss: 0.3614 - acc: 0.871 - ETA: 5s - loss: 0.3603 - acc: 0.871 - ETA: 5s - loss: 0.3603 - acc: 0.871 - ETA: 5s - loss: 0.3596 - acc: 0.871 - ETA: 5s - loss: 0.3606 - acc: 0.872 - ETA: 5s - loss: 0.3618 - acc: 0.871 - ETA: 5s - loss: 0.3610 - acc: 0.872 - ETA: 5s - loss: 0.3624 - acc: 0.871 - ETA: 5s - loss: 0.3631 - acc: 0.871 - ETA: 5s - loss: 0.3629 - acc: 0.871 - ETA: 5s - loss: 0.3623 - acc: 0.871 - ETA: 5s - loss: 0.3612 - acc: 0.872 - ETA: 5s - loss: 0.3598 - acc: 0.872 - ETA: 5s - loss: 0.3597 - acc: 0.872 - ETA: 4s - loss: 0.3610 - acc: 0.872 - ETA: 4s - loss: 0.3607 - acc: 0.872 - ETA: 4s - loss: 0.3600 - acc: 0.872 - ETA: 4s - loss: 0.3593 - acc: 0.872 - ETA: 4s - loss: 0.3589 - acc: 0.872 - ETA: 4s - loss: 0.3598 - acc: 0.872 - ETA: 4s - loss: 0.3593 - acc: 0.872 - ETA: 4s - loss: 0.3595 - acc: 0.872 - ETA: 4s - loss: 0.3597 - acc: 0.872 - ETA: 3s - loss: 0.3588 - acc: 0.872 - ETA: 3s - loss: 0.3593 - acc: 0.872 - ETA: 3s - loss: 0.3596 - acc: 0.871 - ETA: 3s - loss: 0.3595 - acc: 0.871 - ETA: 3s - loss: 0.3592 - acc: 0.871 - ETA: 3s - loss: 0.3594 - acc: 0.871 - ETA: 3s - loss: 0.3587 - acc: 0.871 - ETA: 3s - loss: 0.3584 - acc: 0.871 - ETA: 3s - loss: 0.3586 - acc: 0.871 - ETA: 3s - loss: 0.3583 - acc: 0.871 - ETA: 3s - loss: 0.3583 - acc: 0.871 - ETA: 3s - loss: 0.3585 - acc: 0.871 - ETA: 3s - loss: 0.3583 - acc: 0.871 - ETA: 3s - loss: 0.3584 - acc: 0.871 - ETA: 3s - loss: 0.3586 - acc: 0.871 - ETA: 3s - loss: 0.3583 - acc: 0.871 - ETA: 3s - loss: 0.3586 - acc: 0.871 - ETA: 3s - loss: 0.3584 - acc: 0.871 - ETA: 3s - loss: 0.3581 - acc: 0.871 - ETA: 3s - loss: 0.3587 - acc: 0.871 - ETA: 3s - loss: 0.3590 - acc: 0.870 - ETA: 2s - loss: 0.3584 - acc: 0.870 - ETA: 2s - loss: 0.3584 - acc: 0.870 - ETA: 2s - loss: 0.3586 - acc: 0.870 - ETA: 2s - loss: 0.3595 - acc: 0.870 - ETA: 2s - loss: 0.3598 - acc: 0.870 - ETA: 2s - loss: 0.3599 - acc: 0.870 - ETA: 2s - loss: 0.3595 - acc: 0.870 - ETA: 2s - loss: 0.3589 - acc: 0.871 - ETA: 2s - loss: 0.3586 - acc: 0.871 - ETA: 2s - loss: 0.3580 - acc: 0.871 - ETA: 2s - loss: 0.3582 - acc: 0.871 - ETA: 2s - loss: 0.3574 - acc: 0.871 - ETA: 1s - loss: 0.3577 - acc: 0.871 - ETA: 1s - loss: 0.3574 - acc: 0.871 - ETA: 1s - loss: 0.3567 - acc: 0.871 - ETA: 1s - loss: 0.3563 - acc: 0.872 - ETA: 1s - loss: 0.3565 - acc: 0.872 - ETA: 1s - loss: 0.3560 - acc: 0.872 - ETA: 1s - loss: 0.3556 - acc: 0.872 - ETA: 1s - loss: 0.3553 - acc: 0.872 - ETA: 1s - loss: 0.3558 - acc: 0.872 - ETA: 1s - loss: 0.3558 - acc: 0.872 - ETA: 1s - loss: 0.3561 - acc: 0.872 - ETA: 1s - loss: 0.3560 - acc: 0.872 - ETA: 1s - loss: 0.3553 - acc: 0.872 - ETA: 1s - loss: 0.3561 - acc: 0.872 - ETA: 1s - loss: 0.3561 - acc: 0.872 - ETA: 1s - loss: 0.3568 - acc: 0.871 - ETA: 1s - loss: 0.3567 - acc: 0.871 - ETA: 0s - loss: 0.3568 - acc: 0.871 - ETA: 0s - loss: 0.3567 - acc: 0.871 - ETA: 0s - loss: 0.3568 - acc: 0.871 - ETA: 0s - loss: 0.3563 - acc: 0.871 - ETA: 0s - loss: 0.3561 - acc: 0.871 - ETA: 0s - loss: 0.3563 - acc: 0.871 - ETA: 0s - loss: 0.3564 - acc: 0.871 - ETA: 0s - loss: 0.3558 - acc: 0.871 - ETA: 0s - loss: 0.3562 - acc: 0.871 - ETA: 0s - loss: 0.3565 - acc: 0.871 - ETA: 0s - loss: 0.3566 - acc: 0.871 - ETA: 0s - loss: 0.3566 - acc: 0.871 - ETA: 0s - loss: 0.3566 - acc: 0.871 - ETA: 0s - loss: 0.3563 - acc: 0.872 - ETA: 0s - loss: 0.3565 - acc: 0.872 - ETA: 0s - loss: 0.3566 - acc: 0.872 - ETA: 0s - loss: 0.3565 - acc: 0.871 - ETA: 0s - loss: 0.3565 - acc: 0.871 - ETA: 0s - loss: 0.3569 - acc: 0.871 - ETA: 0s - loss: 0.3568 - acc: 0.871 - ETA: 0s - loss: 0.3573 - acc: 0.871 - ETA: 0s - loss: 0.3566 - acc: 0.872 - 8s 147us/step - loss: 0.3564 - acc: 0.8722 - val_loss: 0.3796 - val_acc: 0.8640\n",
      "Epoch 13/20\n"
     ]
    },
    {
     "data": {
      "application/vnd.jupyter.widget-view+json": {
       "model_id": "",
       "version_major": 2,
       "version_minor": 0
      },
      "text/plain": [
       "HBox(children=(IntProgress(value=0, description='Epoch 12', max=54000), HTML(value='')))"
      ]
     },
     "metadata": {},
     "output_type": "display_data"
    },
    {
     "name": "stdout",
     "output_type": "stream",
     "text": [
      "54000/54000 [==============================] - ETA: 1:38 - loss: 0.3198 - acc: 0.900 - ETA: 18s - loss: 0.3495 - acc: 0.886 - ETA: 13s - loss: 0.3342 - acc: 0.88 - ETA: 11s - loss: 0.3384 - acc: 0.88 - ETA: 10s - loss: 0.3458 - acc: 0.88 - ETA: 10s - loss: 0.3543 - acc: 0.88 - ETA: 9s - loss: 0.3627 - acc: 0.8745 - ETA: 9s - loss: 0.3712 - acc: 0.873 - ETA: 9s - loss: 0.3648 - acc: 0.874 - ETA: 8s - loss: 0.3669 - acc: 0.874 - ETA: 8s - loss: 0.3690 - acc: 0.872 - ETA: 8s - loss: 0.3640 - acc: 0.874 - ETA: 8s - loss: 0.3631 - acc: 0.873 - ETA: 8s - loss: 0.3651 - acc: 0.871 - ETA: 8s - loss: 0.3613 - acc: 0.872 - ETA: 8s - loss: 0.3603 - acc: 0.871 - ETA: 7s - loss: 0.3593 - acc: 0.873 - ETA: 7s - loss: 0.3621 - acc: 0.870 - ETA: 7s - loss: 0.3600 - acc: 0.871 - ETA: 7s - loss: 0.3605 - acc: 0.872 - ETA: 7s - loss: 0.3597 - acc: 0.871 - ETA: 7s - loss: 0.3584 - acc: 0.870 - ETA: 7s - loss: 0.3584 - acc: 0.869 - ETA: 7s - loss: 0.3585 - acc: 0.870 - ETA: 7s - loss: 0.3581 - acc: 0.869 - ETA: 7s - loss: 0.3592 - acc: 0.869 - ETA: 7s - loss: 0.3572 - acc: 0.870 - ETA: 7s - loss: 0.3554 - acc: 0.872 - ETA: 6s - loss: 0.3557 - acc: 0.871 - ETA: 6s - loss: 0.3546 - acc: 0.871 - ETA: 6s - loss: 0.3522 - acc: 0.872 - ETA: 6s - loss: 0.3534 - acc: 0.872 - ETA: 6s - loss: 0.3525 - acc: 0.872 - ETA: 6s - loss: 0.3521 - acc: 0.872 - ETA: 6s - loss: 0.3516 - acc: 0.872 - ETA: 6s - loss: 0.3506 - acc: 0.872 - ETA: 6s - loss: 0.3499 - acc: 0.872 - ETA: 6s - loss: 0.3503 - acc: 0.872 - ETA: 6s - loss: 0.3486 - acc: 0.873 - ETA: 6s - loss: 0.3500 - acc: 0.872 - ETA: 6s - loss: 0.3508 - acc: 0.872 - ETA: 6s - loss: 0.3509 - acc: 0.872 - ETA: 6s - loss: 0.3491 - acc: 0.873 - ETA: 6s - loss: 0.3489 - acc: 0.873 - ETA: 6s - loss: 0.3490 - acc: 0.872 - ETA: 6s - loss: 0.3501 - acc: 0.872 - ETA: 5s - loss: 0.3489 - acc: 0.872 - ETA: 5s - loss: 0.3484 - acc: 0.873 - ETA: 5s - loss: 0.3493 - acc: 0.872 - ETA: 5s - loss: 0.3502 - acc: 0.871 - ETA: 5s - loss: 0.3502 - acc: 0.871 - ETA: 5s - loss: 0.3512 - acc: 0.871 - ETA: 5s - loss: 0.3511 - acc: 0.871 - ETA: 5s - loss: 0.3507 - acc: 0.871 - ETA: 5s - loss: 0.3496 - acc: 0.872 - ETA: 5s - loss: 0.3511 - acc: 0.871 - ETA: 5s - loss: 0.3506 - acc: 0.872 - ETA: 5s - loss: 0.3506 - acc: 0.872 - ETA: 5s - loss: 0.3502 - acc: 0.872 - ETA: 5s - loss: 0.3501 - acc: 0.872 - ETA: 5s - loss: 0.3500 - acc: 0.872 - ETA: 5s - loss: 0.3495 - acc: 0.872 - ETA: 5s - loss: 0.3492 - acc: 0.872 - ETA: 5s - loss: 0.3490 - acc: 0.872 - ETA: 5s - loss: 0.3481 - acc: 0.873 - ETA: 4s - loss: 0.3477 - acc: 0.873 - ETA: 4s - loss: 0.3479 - acc: 0.873 - ETA: 4s - loss: 0.3480 - acc: 0.872 - ETA: 4s - loss: 0.3479 - acc: 0.872 - ETA: 4s - loss: 0.3473 - acc: 0.872 - ETA: 4s - loss: 0.3465 - acc: 0.873 - ETA: 4s - loss: 0.3473 - acc: 0.873 - ETA: 4s - loss: 0.3465 - acc: 0.873 - ETA: 4s - loss: 0.3470 - acc: 0.873 - ETA: 4s - loss: 0.3461 - acc: 0.873 - ETA: 4s - loss: 0.3465 - acc: 0.873 - ETA: 4s - loss: 0.3471 - acc: 0.873 - ETA: 4s - loss: 0.3473 - acc: 0.873 - ETA: 4s - loss: 0.3465 - acc: 0.874 - ETA: 4s - loss: 0.3460 - acc: 0.874 - ETA: 4s - loss: 0.3456 - acc: 0.874 - ETA: 4s - loss: 0.3459 - acc: 0.874 - ETA: 4s - loss: 0.3457 - acc: 0.874 - ETA: 4s - loss: 0.3461 - acc: 0.873 - ETA: 4s - loss: 0.3463 - acc: 0.873 - ETA: 3s - loss: 0.3462 - acc: 0.873 - ETA: 3s - loss: 0.3472 - acc: 0.873 - ETA: 3s - loss: 0.3464 - acc: 0.873 - ETA: 3s - loss: 0.3469 - acc: 0.873 - ETA: 3s - loss: 0.3469 - acc: 0.873 - ETA: 3s - loss: 0.3469 - acc: 0.873 - ETA: 3s - loss: 0.3471 - acc: 0.873 - ETA: 3s - loss: 0.3478 - acc: 0.872 - ETA: 3s - loss: 0.3476 - acc: 0.872 - ETA: 3s - loss: 0.3476 - acc: 0.872 - ETA: 3s - loss: 0.3484 - acc: 0.872 - ETA: 3s - loss: 0.3487 - acc: 0.872 - ETA: 3s - loss: 0.3483 - acc: 0.873 - ETA: 3s - loss: 0.3485 - acc: 0.872 - ETA: 3s - loss: 0.3485 - acc: 0.873 - ETA: 3s - loss: 0.3488 - acc: 0.872 - ETA: 3s - loss: 0.3490 - acc: 0.872 - ETA: 3s - loss: 0.3492 - acc: 0.872 - ETA: 3s - loss: 0.3488 - acc: 0.873 - ETA: 2s - loss: 0.3480 - acc: 0.873 - ETA: 2s - loss: 0.3478 - acc: 0.873 - ETA: 2s - loss: 0.3478 - acc: 0.873 - ETA: 2s - loss: 0.3473 - acc: 0.873 - ETA: 2s - loss: 0.3466 - acc: 0.874 - ETA: 2s - loss: 0.3462 - acc: 0.874 - ETA: 2s - loss: 0.3460 - acc: 0.874 - ETA: 2s - loss: 0.3460 - acc: 0.874 - ETA: 2s - loss: 0.3459 - acc: 0.874 - ETA: 2s - loss: 0.3461 - acc: 0.874 - ETA: 2s - loss: 0.3464 - acc: 0.874 - ETA: 2s - loss: 0.3465 - acc: 0.874 - ETA: 2s - loss: 0.3466 - acc: 0.873 - ETA: 2s - loss: 0.3468 - acc: 0.873 - ETA: 2s - loss: 0.3470 - acc: 0.873 - ETA: 2s - loss: 0.3464 - acc: 0.873 - ETA: 2s - loss: 0.3465 - acc: 0.873 - ETA: 2s - loss: 0.3469 - acc: 0.873 - ETA: 2s - loss: 0.3471 - acc: 0.873 - ETA: 2s - loss: 0.3472 - acc: 0.873 - ETA: 1s - loss: 0.3468 - acc: 0.873 - ETA: 1s - loss: 0.3462 - acc: 0.873 - ETA: 1s - loss: 0.3462 - acc: 0.874 - ETA: 1s - loss: 0.3460 - acc: 0.874 - ETA: 1s - loss: 0.3458 - acc: 0.874 - ETA: 1s - loss: 0.3457 - acc: 0.874 - ETA: 1s - loss: 0.3456 - acc: 0.874 - ETA: 1s - loss: 0.3454 - acc: 0.874 - ETA: 1s - loss: 0.3455 - acc: 0.874 - ETA: 1s - loss: 0.3455 - acc: 0.874 - ETA: 1s - loss: 0.3459 - acc: 0.874 - ETA: 1s - loss: 0.3466 - acc: 0.874 - ETA: 1s - loss: 0.3466 - acc: 0.874 - ETA: 1s - loss: 0.3466 - acc: 0.874 - ETA: 1s - loss: 0.3467 - acc: 0.874 - ETA: 1s - loss: 0.3468 - acc: 0.874 - ETA: 1s - loss: 0.3470 - acc: 0.874 - ETA: 1s - loss: 0.3474 - acc: 0.874 - ETA: 1s - loss: 0.3477 - acc: 0.874 - ETA: 1s - loss: 0.3477 - acc: 0.874 - ETA: 0s - loss: 0.3482 - acc: 0.874 - ETA: 0s - loss: 0.3482 - acc: 0.874 - ETA: 0s - loss: 0.3488 - acc: 0.874 - ETA: 0s - loss: 0.3492 - acc: 0.873 - ETA: 0s - loss: 0.3491 - acc: 0.874 - ETA: 0s - loss: 0.3496 - acc: 0.873 - ETA: 0s - loss: 0.3494 - acc: 0.873 - ETA: 0s - loss: 0.3494 - acc: 0.873 - ETA: 0s - loss: 0.3491 - acc: 0.874 - ETA: 0s - loss: 0.3493 - acc: 0.874 - ETA: 0s - loss: 0.3497 - acc: 0.873 - ETA: 0s - loss: 0.3496 - acc: 0.873 - ETA: 0s - loss: 0.3498 - acc: 0.873 - ETA: 0s - loss: 0.3498 - acc: 0.873 - ETA: 0s - loss: 0.3498 - acc: 0.873 - ETA: 0s - loss: 0.3499 - acc: 0.873 - ETA: 0s - loss: 0.3499 - acc: 0.873 - ETA: 0s - loss: 0.3499 - acc: 0.873 - ETA: 0s - loss: 0.3497 - acc: 0.873 - 9s 165us/step - loss: 0.3498 - acc: 0.8737 - val_loss: 0.3927 - val_acc: 0.8567\n",
      "Epoch 14/20\n"
     ]
    },
    {
     "data": {
      "application/vnd.jupyter.widget-view+json": {
       "model_id": "",
       "version_major": 2,
       "version_minor": 0
      },
      "text/plain": [
       "HBox(children=(IntProgress(value=0, description='Epoch 13', max=54000), HTML(value='')))"
      ]
     },
     "metadata": {},
     "output_type": "display_data"
    },
    {
     "name": "stdout",
     "output_type": "stream",
     "text": [
      "54000/54000 [==============================] - ETA: 1:15 - loss: 0.2504 - acc: 0.875 - ETA: 9s - loss: 0.3264 - acc: 0.8767  - ETA: 7s - loss: 0.3294 - acc: 0.875 - ETA: 6s - loss: 0.3297 - acc: 0.876 - ETA: 6s - loss: 0.3204 - acc: 0.881 - ETA: 5s - loss: 0.3288 - acc: 0.882 - ETA: 5s - loss: 0.3226 - acc: 0.884 - ETA: 5s - loss: 0.3279 - acc: 0.882 - ETA: 5s - loss: 0.3224 - acc: 0.883 - ETA: 5s - loss: 0.3276 - acc: 0.883 - ETA: 5s - loss: 0.3328 - acc: 0.881 - ETA: 5s - loss: 0.3324 - acc: 0.881 - ETA: 5s - loss: 0.3349 - acc: 0.879 - ETA: 6s - loss: 0.3312 - acc: 0.881 - ETA: 6s - loss: 0.3314 - acc: 0.881 - ETA: 6s - loss: 0.3341 - acc: 0.879 - ETA: 6s - loss: 0.3347 - acc: 0.878 - ETA: 6s - loss: 0.3337 - acc: 0.878 - ETA: 6s - loss: 0.3361 - acc: 0.877 - ETA: 6s - loss: 0.3377 - acc: 0.876 - ETA: 6s - loss: 0.3398 - acc: 0.876 - ETA: 6s - loss: 0.3413 - acc: 0.876 - ETA: 6s - loss: 0.3409 - acc: 0.877 - ETA: 6s - loss: 0.3404 - acc: 0.877 - ETA: 5s - loss: 0.3393 - acc: 0.878 - ETA: 5s - loss: 0.3412 - acc: 0.877 - ETA: 5s - loss: 0.3435 - acc: 0.877 - ETA: 5s - loss: 0.3454 - acc: 0.876 - ETA: 5s - loss: 0.3457 - acc: 0.875 - ETA: 5s - loss: 0.3452 - acc: 0.875 - ETA: 5s - loss: 0.3447 - acc: 0.875 - ETA: 5s - loss: 0.3430 - acc: 0.876 - ETA: 5s - loss: 0.3417 - acc: 0.876 - ETA: 5s - loss: 0.3419 - acc: 0.876 - ETA: 5s - loss: 0.3413 - acc: 0.876 - ETA: 5s - loss: 0.3428 - acc: 0.875 - ETA: 5s - loss: 0.3432 - acc: 0.876 - ETA: 5s - loss: 0.3428 - acc: 0.876 - ETA: 5s - loss: 0.3428 - acc: 0.876 - ETA: 5s - loss: 0.3418 - acc: 0.877 - ETA: 5s - loss: 0.3427 - acc: 0.876 - ETA: 5s - loss: 0.3434 - acc: 0.876 - ETA: 5s - loss: 0.3423 - acc: 0.877 - ETA: 5s - loss: 0.3420 - acc: 0.877 - ETA: 5s - loss: 0.3423 - acc: 0.877 - ETA: 5s - loss: 0.3431 - acc: 0.876 - ETA: 5s - loss: 0.3429 - acc: 0.876 - ETA: 5s - loss: 0.3422 - acc: 0.876 - ETA: 5s - loss: 0.3441 - acc: 0.875 - ETA: 5s - loss: 0.3448 - acc: 0.875 - ETA: 5s - loss: 0.3450 - acc: 0.875 - ETA: 5s - loss: 0.3445 - acc: 0.875 - ETA: 5s - loss: 0.3459 - acc: 0.875 - ETA: 5s - loss: 0.3459 - acc: 0.875 - ETA: 4s - loss: 0.3455 - acc: 0.875 - ETA: 4s - loss: 0.3446 - acc: 0.876 - ETA: 4s - loss: 0.3443 - acc: 0.876 - ETA: 4s - loss: 0.3443 - acc: 0.876 - ETA: 4s - loss: 0.3438 - acc: 0.876 - ETA: 4s - loss: 0.3442 - acc: 0.875 - ETA: 4s - loss: 0.3430 - acc: 0.876 - ETA: 4s - loss: 0.3425 - acc: 0.876 - ETA: 4s - loss: 0.3423 - acc: 0.876 - ETA: 4s - loss: 0.3421 - acc: 0.876 - ETA: 4s - loss: 0.3426 - acc: 0.876 - ETA: 4s - loss: 0.3423 - acc: 0.876 - ETA: 4s - loss: 0.3420 - acc: 0.876 - ETA: 4s - loss: 0.3420 - acc: 0.876 - ETA: 4s - loss: 0.3417 - acc: 0.876 - ETA: 4s - loss: 0.3433 - acc: 0.875 - ETA: 4s - loss: 0.3423 - acc: 0.876 - ETA: 4s - loss: 0.3435 - acc: 0.875 - ETA: 4s - loss: 0.3449 - acc: 0.875 - ETA: 4s - loss: 0.3449 - acc: 0.875 - ETA: 4s - loss: 0.3443 - acc: 0.875 - ETA: 4s - loss: 0.3442 - acc: 0.875 - ETA: 3s - loss: 0.3439 - acc: 0.875 - ETA: 3s - loss: 0.3437 - acc: 0.875 - ETA: 3s - loss: 0.3437 - acc: 0.875 - ETA: 3s - loss: 0.3433 - acc: 0.875 - ETA: 3s - loss: 0.3432 - acc: 0.875 - ETA: 3s - loss: 0.3426 - acc: 0.876 - ETA: 3s - loss: 0.3431 - acc: 0.875 - ETA: 3s - loss: 0.3436 - acc: 0.875 - ETA: 3s - loss: 0.3442 - acc: 0.875 - ETA: 3s - loss: 0.3438 - acc: 0.875 - ETA: 3s - loss: 0.3441 - acc: 0.875 - ETA: 3s - loss: 0.3447 - acc: 0.875 - ETA: 3s - loss: 0.3442 - acc: 0.875 - ETA: 3s - loss: 0.3438 - acc: 0.875 - ETA: 3s - loss: 0.3439 - acc: 0.875 - ETA: 3s - loss: 0.3437 - acc: 0.875 - ETA: 3s - loss: 0.3440 - acc: 0.875 - ETA: 3s - loss: 0.3441 - acc: 0.875 - ETA: 3s - loss: 0.3444 - acc: 0.874 - ETA: 3s - loss: 0.3446 - acc: 0.874 - ETA: 3s - loss: 0.3447 - acc: 0.874 - ETA: 2s - loss: 0.3446 - acc: 0.874 - ETA: 2s - loss: 0.3441 - acc: 0.874 - ETA: 2s - loss: 0.3444 - acc: 0.874 - ETA: 2s - loss: 0.3450 - acc: 0.874 - ETA: 2s - loss: 0.3456 - acc: 0.874 - ETA: 2s - loss: 0.3457 - acc: 0.873 - ETA: 2s - loss: 0.3456 - acc: 0.873 - ETA: 2s - loss: 0.3459 - acc: 0.873 - ETA: 2s - loss: 0.3461 - acc: 0.873 - ETA: 2s - loss: 0.3461 - acc: 0.873 - ETA: 2s - loss: 0.3462 - acc: 0.873 - ETA: 2s - loss: 0.3458 - acc: 0.873 - ETA: 2s - loss: 0.3459 - acc: 0.873 - ETA: 2s - loss: 0.3461 - acc: 0.873 - ETA: 2s - loss: 0.3457 - acc: 0.873 - ETA: 2s - loss: 0.3456 - acc: 0.873 - ETA: 2s - loss: 0.3457 - acc: 0.873 - ETA: 2s - loss: 0.3457 - acc: 0.874 - ETA: 2s - loss: 0.3454 - acc: 0.874 - ETA: 2s - loss: 0.3447 - acc: 0.874 - ETA: 2s - loss: 0.3450 - acc: 0.874 - ETA: 2s - loss: 0.3446 - acc: 0.874 - ETA: 1s - loss: 0.3443 - acc: 0.874 - ETA: 1s - loss: 0.3435 - acc: 0.874 - ETA: 1s - loss: 0.3434 - acc: 0.874 - ETA: 1s - loss: 0.3443 - acc: 0.874 - ETA: 1s - loss: 0.3446 - acc: 0.874 - ETA: 1s - loss: 0.3449 - acc: 0.874 - ETA: 1s - loss: 0.3451 - acc: 0.874 - ETA: 1s - loss: 0.3456 - acc: 0.874 - ETA: 1s - loss: 0.3455 - acc: 0.874 - ETA: 1s - loss: 0.3457 - acc: 0.874 - ETA: 1s - loss: 0.3457 - acc: 0.874 - ETA: 1s - loss: 0.3457 - acc: 0.874 - ETA: 1s - loss: 0.3456 - acc: 0.874 - ETA: 1s - loss: 0.3455 - acc: 0.874 - ETA: 1s - loss: 0.3458 - acc: 0.873 - ETA: 1s - loss: 0.3452 - acc: 0.874 - ETA: 1s - loss: 0.3450 - acc: 0.874 - ETA: 1s - loss: 0.3453 - acc: 0.874 - ETA: 1s - loss: 0.3450 - acc: 0.874 - ETA: 1s - loss: 0.3456 - acc: 0.874 - ETA: 1s - loss: 0.3461 - acc: 0.873 - ETA: 0s - loss: 0.3462 - acc: 0.873 - ETA: 0s - loss: 0.3462 - acc: 0.873 - ETA: 0s - loss: 0.3461 - acc: 0.873 - ETA: 0s - loss: 0.3459 - acc: 0.874 - ETA: 0s - loss: 0.3454 - acc: 0.874 - ETA: 0s - loss: 0.3455 - acc: 0.874 - ETA: 0s - loss: 0.3449 - acc: 0.874 - ETA: 0s - loss: 0.3445 - acc: 0.874 - ETA: 0s - loss: 0.3439 - acc: 0.874 - ETA: 0s - loss: 0.3439 - acc: 0.874 - ETA: 0s - loss: 0.3439 - acc: 0.874 - ETA: 0s - loss: 0.3441 - acc: 0.874 - ETA: 0s - loss: 0.3439 - acc: 0.875 - ETA: 0s - loss: 0.3438 - acc: 0.875 - ETA: 0s - loss: 0.3435 - acc: 0.875 - ETA: 0s - loss: 0.3439 - acc: 0.874 - ETA: 0s - loss: 0.3439 - acc: 0.875 - ETA: 0s - loss: 0.3442 - acc: 0.875 - ETA: 0s - loss: 0.3442 - acc: 0.875 - ETA: 0s - loss: 0.3444 - acc: 0.874 - 9s 163us/step - loss: 0.3444 - acc: 0.8750 - val_loss: 0.3684 - val_acc: 0.8638\n",
      "Epoch 15/20\n"
     ]
    },
    {
     "data": {
      "application/vnd.jupyter.widget-view+json": {
       "model_id": "",
       "version_major": 2,
       "version_minor": 0
      },
      "text/plain": [
       "HBox(children=(IntProgress(value=0, description='Epoch 14', max=54000), HTML(value='')))"
      ]
     },
     "metadata": {},
     "output_type": "display_data"
    },
    {
     "name": "stdout",
     "output_type": "stream",
     "text": [
      "54000/54000 [==============================] - ETA: 1:18 - loss: 0.2052 - acc: 0.950 - ETA: 8s - loss: 0.3793 - acc: 0.8618  - ETA: 6s - loss: 0.3450 - acc: 0.882 - ETA: 6s - loss: 0.3381 - acc: 0.883 - ETA: 5s - loss: 0.3411 - acc: 0.882 - ETA: 5s - loss: 0.3438 - acc: 0.879 - ETA: 5s - loss: 0.3437 - acc: 0.877 - ETA: 5s - loss: 0.3405 - acc: 0.875 - ETA: 4s - loss: 0.3424 - acc: 0.874 - ETA: 4s - loss: 0.3428 - acc: 0.874 - ETA: 4s - loss: 0.3413 - acc: 0.875 - ETA: 4s - loss: 0.3457 - acc: 0.874 - ETA: 4s - loss: 0.3413 - acc: 0.876 - ETA: 4s - loss: 0.3409 - acc: 0.876 - ETA: 4s - loss: 0.3396 - acc: 0.877 - ETA: 4s - loss: 0.3380 - acc: 0.877 - ETA: 4s - loss: 0.3390 - acc: 0.877 - ETA: 4s - loss: 0.3386 - acc: 0.877 - ETA: 4s - loss: 0.3399 - acc: 0.877 - ETA: 4s - loss: 0.3394 - acc: 0.878 - ETA: 3s - loss: 0.3400 - acc: 0.877 - ETA: 3s - loss: 0.3416 - acc: 0.877 - ETA: 3s - loss: 0.3407 - acc: 0.877 - ETA: 3s - loss: 0.3405 - acc: 0.877 - ETA: 3s - loss: 0.3429 - acc: 0.876 - ETA: 3s - loss: 0.3413 - acc: 0.876 - ETA: 3s - loss: 0.3427 - acc: 0.876 - ETA: 3s - loss: 0.3426 - acc: 0.875 - ETA: 3s - loss: 0.3423 - acc: 0.875 - ETA: 3s - loss: 0.3413 - acc: 0.875 - ETA: 3s - loss: 0.3407 - acc: 0.875 - ETA: 3s - loss: 0.3399 - acc: 0.876 - ETA: 3s - loss: 0.3400 - acc: 0.876 - ETA: 3s - loss: 0.3395 - acc: 0.876 - ETA: 3s - loss: 0.3399 - acc: 0.875 - ETA: 3s - loss: 0.3400 - acc: 0.875 - ETA: 3s - loss: 0.3386 - acc: 0.876 - ETA: 3s - loss: 0.3389 - acc: 0.876 - ETA: 3s - loss: 0.3380 - acc: 0.876 - ETA: 3s - loss: 0.3394 - acc: 0.876 - ETA: 3s - loss: 0.3385 - acc: 0.876 - ETA: 3s - loss: 0.3378 - acc: 0.877 - ETA: 3s - loss: 0.3394 - acc: 0.876 - ETA: 3s - loss: 0.3399 - acc: 0.876 - ETA: 3s - loss: 0.3396 - acc: 0.876 - ETA: 3s - loss: 0.3395 - acc: 0.876 - ETA: 3s - loss: 0.3395 - acc: 0.877 - ETA: 3s - loss: 0.3393 - acc: 0.877 - ETA: 3s - loss: 0.3388 - acc: 0.877 - ETA: 3s - loss: 0.3386 - acc: 0.877 - ETA: 3s - loss: 0.3386 - acc: 0.877 - ETA: 3s - loss: 0.3384 - acc: 0.877 - ETA: 3s - loss: 0.3386 - acc: 0.877 - ETA: 3s - loss: 0.3379 - acc: 0.877 - ETA: 3s - loss: 0.3376 - acc: 0.878 - ETA: 3s - loss: 0.3370 - acc: 0.878 - ETA: 3s - loss: 0.3379 - acc: 0.878 - ETA: 3s - loss: 0.3368 - acc: 0.878 - ETA: 3s - loss: 0.3371 - acc: 0.878 - ETA: 3s - loss: 0.3362 - acc: 0.878 - ETA: 3s - loss: 0.3361 - acc: 0.878 - ETA: 3s - loss: 0.3367 - acc: 0.878 - ETA: 3s - loss: 0.3365 - acc: 0.878 - ETA: 3s - loss: 0.3371 - acc: 0.878 - ETA: 3s - loss: 0.3368 - acc: 0.878 - ETA: 3s - loss: 0.3374 - acc: 0.878 - ETA: 3s - loss: 0.3374 - acc: 0.877 - ETA: 3s - loss: 0.3378 - acc: 0.877 - ETA: 3s - loss: 0.3378 - acc: 0.877 - ETA: 3s - loss: 0.3383 - acc: 0.877 - ETA: 3s - loss: 0.3384 - acc: 0.877 - ETA: 3s - loss: 0.3385 - acc: 0.877 - ETA: 3s - loss: 0.3382 - acc: 0.877 - ETA: 2s - loss: 0.3385 - acc: 0.877 - ETA: 2s - loss: 0.3393 - acc: 0.877 - ETA: 2s - loss: 0.3388 - acc: 0.877 - ETA: 2s - loss: 0.3387 - acc: 0.877 - ETA: 2s - loss: 0.3387 - acc: 0.877 - ETA: 2s - loss: 0.3385 - acc: 0.877 - ETA: 2s - loss: 0.3387 - acc: 0.877 - ETA: 2s - loss: 0.3378 - acc: 0.877 - ETA: 2s - loss: 0.3379 - acc: 0.877 - ETA: 2s - loss: 0.3377 - acc: 0.877 - ETA: 2s - loss: 0.3374 - acc: 0.877 - ETA: 2s - loss: 0.3373 - acc: 0.877 - ETA: 2s - loss: 0.3368 - acc: 0.878 - ETA: 2s - loss: 0.3363 - acc: 0.878 - ETA: 2s - loss: 0.3369 - acc: 0.878 - ETA: 2s - loss: 0.3373 - acc: 0.877 - ETA: 2s - loss: 0.3378 - acc: 0.877 - ETA: 2s - loss: 0.3378 - acc: 0.877 - ETA: 2s - loss: 0.3381 - acc: 0.877 - ETA: 2s - loss: 0.3378 - acc: 0.877 - ETA: 2s - loss: 0.3377 - acc: 0.877 - ETA: 2s - loss: 0.3373 - acc: 0.877 - ETA: 2s - loss: 0.3368 - acc: 0.878 - ETA: 2s - loss: 0.3369 - acc: 0.877 - ETA: 2s - loss: 0.3371 - acc: 0.877 - ETA: 2s - loss: 0.3376 - acc: 0.877 - ETA: 2s - loss: 0.3374 - acc: 0.877 - ETA: 1s - loss: 0.3374 - acc: 0.877 - ETA: 1s - loss: 0.3373 - acc: 0.877 - ETA: 1s - loss: 0.3375 - acc: 0.877 - ETA: 1s - loss: 0.3376 - acc: 0.877 - ETA: 1s - loss: 0.3378 - acc: 0.877 - ETA: 1s - loss: 0.3376 - acc: 0.877 - ETA: 1s - loss: 0.3377 - acc: 0.877 - ETA: 1s - loss: 0.3381 - acc: 0.877 - ETA: 1s - loss: 0.3387 - acc: 0.877 - ETA: 1s - loss: 0.3386 - acc: 0.877 - ETA: 1s - loss: 0.3388 - acc: 0.877 - ETA: 1s - loss: 0.3387 - acc: 0.877 - ETA: 1s - loss: 0.3392 - acc: 0.877 - ETA: 1s - loss: 0.3400 - acc: 0.877 - ETA: 1s - loss: 0.3400 - acc: 0.877 - ETA: 1s - loss: 0.3403 - acc: 0.877 - ETA: 1s - loss: 0.3402 - acc: 0.876 - ETA: 1s - loss: 0.3402 - acc: 0.876 - ETA: 1s - loss: 0.3405 - acc: 0.876 - ETA: 1s - loss: 0.3402 - acc: 0.876 - ETA: 1s - loss: 0.3405 - acc: 0.876 - ETA: 1s - loss: 0.3410 - acc: 0.876 - ETA: 1s - loss: 0.3411 - acc: 0.876 - ETA: 1s - loss: 0.3413 - acc: 0.876 - ETA: 0s - loss: 0.3407 - acc: 0.876 - ETA: 0s - loss: 0.3406 - acc: 0.876 - ETA: 0s - loss: 0.3408 - acc: 0.876 - ETA: 0s - loss: 0.3409 - acc: 0.876 - ETA: 0s - loss: 0.3406 - acc: 0.876 - ETA: 0s - loss: 0.3401 - acc: 0.877 - ETA: 0s - loss: 0.3406 - acc: 0.876 - ETA: 0s - loss: 0.3401 - acc: 0.877 - ETA: 0s - loss: 0.3400 - acc: 0.877 - ETA: 0s - loss: 0.3399 - acc: 0.877 - ETA: 0s - loss: 0.3395 - acc: 0.877 - ETA: 0s - loss: 0.3403 - acc: 0.877 - ETA: 0s - loss: 0.3404 - acc: 0.877 - ETA: 0s - loss: 0.3400 - acc: 0.877 - ETA: 0s - loss: 0.3398 - acc: 0.877 - ETA: 0s - loss: 0.3402 - acc: 0.877 - ETA: 0s - loss: 0.3402 - acc: 0.877 - ETA: 0s - loss: 0.3400 - acc: 0.877 - ETA: 0s - loss: 0.3399 - acc: 0.877 - ETA: 0s - loss: 0.3396 - acc: 0.877 - ETA: 0s - loss: 0.3393 - acc: 0.877 - 8s 147us/step - loss: 0.3391 - acc: 0.8776 - val_loss: 0.3617 - val_acc: 0.8700\n",
      "Epoch 16/20\n"
     ]
    },
    {
     "data": {
      "application/vnd.jupyter.widget-view+json": {
       "model_id": "",
       "version_major": 2,
       "version_minor": 0
      },
      "text/plain": [
       "HBox(children=(IntProgress(value=0, description='Epoch 15', max=54000), HTML(value='')))"
      ]
     },
     "metadata": {},
     "output_type": "display_data"
    },
    {
     "name": "stdout",
     "output_type": "stream",
     "text": [
      "54000/54000 [==============================] - ETA: 1:36 - loss: 0.2473 - acc: 0.850 - ETA: 18s - loss: 0.3838 - acc: 0.855 - ETA: 12s - loss: 0.3398 - acc: 0.87 - ETA: 11s - loss: 0.3468 - acc: 0.86 - ETA: 10s - loss: 0.3303 - acc: 0.87 - ETA: 10s - loss: 0.3328 - acc: 0.88 - ETA: 9s - loss: 0.3293 - acc: 0.8788 - ETA: 9s - loss: 0.3348 - acc: 0.877 - ETA: 8s - loss: 0.3413 - acc: 0.875 - ETA: 8s - loss: 0.3434 - acc: 0.876 - ETA: 8s - loss: 0.3451 - acc: 0.875 - ETA: 8s - loss: 0.3388 - acc: 0.877 - ETA: 8s - loss: 0.3426 - acc: 0.876 - ETA: 8s - loss: 0.3383 - acc: 0.878 - ETA: 8s - loss: 0.3328 - acc: 0.880 - ETA: 7s - loss: 0.3331 - acc: 0.880 - ETA: 7s - loss: 0.3311 - acc: 0.880 - ETA: 7s - loss: 0.3289 - acc: 0.882 - ETA: 7s - loss: 0.3287 - acc: 0.882 - ETA: 7s - loss: 0.3282 - acc: 0.882 - ETA: 7s - loss: 0.3281 - acc: 0.882 - ETA: 7s - loss: 0.3274 - acc: 0.882 - ETA: 7s - loss: 0.3263 - acc: 0.882 - ETA: 7s - loss: 0.3257 - acc: 0.882 - ETA: 7s - loss: 0.3253 - acc: 0.882 - ETA: 7s - loss: 0.3235 - acc: 0.883 - ETA: 7s - loss: 0.3261 - acc: 0.882 - ETA: 7s - loss: 0.3268 - acc: 0.881 - ETA: 7s - loss: 0.3268 - acc: 0.880 - ETA: 6s - loss: 0.3264 - acc: 0.881 - ETA: 6s - loss: 0.3282 - acc: 0.880 - ETA: 6s - loss: 0.3284 - acc: 0.880 - ETA: 6s - loss: 0.3271 - acc: 0.880 - ETA: 6s - loss: 0.3280 - acc: 0.880 - ETA: 6s - loss: 0.3284 - acc: 0.880 - ETA: 6s - loss: 0.3282 - acc: 0.880 - ETA: 6s - loss: 0.3290 - acc: 0.880 - ETA: 6s - loss: 0.3284 - acc: 0.880 - ETA: 6s - loss: 0.3291 - acc: 0.880 - ETA: 6s - loss: 0.3300 - acc: 0.880 - ETA: 6s - loss: 0.3272 - acc: 0.881 - ETA: 6s - loss: 0.3271 - acc: 0.882 - ETA: 6s - loss: 0.3265 - acc: 0.882 - ETA: 6s - loss: 0.3242 - acc: 0.883 - ETA: 6s - loss: 0.3244 - acc: 0.884 - ETA: 6s - loss: 0.3232 - acc: 0.884 - ETA: 6s - loss: 0.3242 - acc: 0.883 - ETA: 6s - loss: 0.3245 - acc: 0.883 - ETA: 6s - loss: 0.3244 - acc: 0.883 - ETA: 5s - loss: 0.3238 - acc: 0.884 - ETA: 5s - loss: 0.3243 - acc: 0.883 - ETA: 5s - loss: 0.3255 - acc: 0.883 - ETA: 5s - loss: 0.3260 - acc: 0.883 - ETA: 5s - loss: 0.3263 - acc: 0.882 - ETA: 5s - loss: 0.3264 - acc: 0.882 - ETA: 5s - loss: 0.3250 - acc: 0.882 - ETA: 5s - loss: 0.3256 - acc: 0.882 - ETA: 5s - loss: 0.3254 - acc: 0.882 - ETA: 5s - loss: 0.3268 - acc: 0.882 - ETA: 5s - loss: 0.3290 - acc: 0.881 - ETA: 5s - loss: 0.3293 - acc: 0.881 - ETA: 5s - loss: 0.3302 - acc: 0.881 - ETA: 5s - loss: 0.3312 - acc: 0.881 - ETA: 5s - loss: 0.3322 - acc: 0.880 - ETA: 5s - loss: 0.3326 - acc: 0.880 - ETA: 5s - loss: 0.3326 - acc: 0.880 - ETA: 5s - loss: 0.3338 - acc: 0.879 - ETA: 4s - loss: 0.3338 - acc: 0.879 - ETA: 4s - loss: 0.3336 - acc: 0.879 - ETA: 4s - loss: 0.3341 - acc: 0.879 - ETA: 4s - loss: 0.3339 - acc: 0.879 - ETA: 4s - loss: 0.3348 - acc: 0.879 - ETA: 4s - loss: 0.3345 - acc: 0.879 - ETA: 4s - loss: 0.3347 - acc: 0.879 - ETA: 4s - loss: 0.3341 - acc: 0.879 - ETA: 4s - loss: 0.3340 - acc: 0.879 - ETA: 4s - loss: 0.3347 - acc: 0.879 - ETA: 4s - loss: 0.3344 - acc: 0.879 - ETA: 4s - loss: 0.3352 - acc: 0.879 - ETA: 4s - loss: 0.3365 - acc: 0.878 - ETA: 4s - loss: 0.3364 - acc: 0.878 - ETA: 4s - loss: 0.3374 - acc: 0.878 - ETA: 4s - loss: 0.3373 - acc: 0.878 - ETA: 4s - loss: 0.3374 - acc: 0.878 - ETA: 4s - loss: 0.3378 - acc: 0.878 - ETA: 4s - loss: 0.3379 - acc: 0.878 - ETA: 4s - loss: 0.3369 - acc: 0.878 - ETA: 4s - loss: 0.3368 - acc: 0.878 - ETA: 3s - loss: 0.3364 - acc: 0.878 - ETA: 3s - loss: 0.3369 - acc: 0.878 - ETA: 3s - loss: 0.3368 - acc: 0.878 - ETA: 3s - loss: 0.3374 - acc: 0.878 - ETA: 3s - loss: 0.3378 - acc: 0.878 - ETA: 3s - loss: 0.3377 - acc: 0.878 - ETA: 3s - loss: 0.3376 - acc: 0.878 - ETA: 3s - loss: 0.3381 - acc: 0.878 - ETA: 3s - loss: 0.3374 - acc: 0.878 - ETA: 3s - loss: 0.3370 - acc: 0.878 - ETA: 3s - loss: 0.3364 - acc: 0.878 - ETA: 3s - loss: 0.3362 - acc: 0.879 - ETA: 3s - loss: 0.3359 - acc: 0.879 - ETA: 3s - loss: 0.3365 - acc: 0.878 - ETA: 3s - loss: 0.3360 - acc: 0.879 - ETA: 3s - loss: 0.3359 - acc: 0.879 - ETA: 2s - loss: 0.3362 - acc: 0.879 - ETA: 2s - loss: 0.3360 - acc: 0.879 - ETA: 2s - loss: 0.3365 - acc: 0.878 - ETA: 2s - loss: 0.3367 - acc: 0.878 - ETA: 2s - loss: 0.3366 - acc: 0.878 - ETA: 2s - loss: 0.3365 - acc: 0.879 - ETA: 2s - loss: 0.3368 - acc: 0.879 - ETA: 2s - loss: 0.3364 - acc: 0.879 - ETA: 2s - loss: 0.3364 - acc: 0.879 - ETA: 2s - loss: 0.3359 - acc: 0.879 - ETA: 2s - loss: 0.3360 - acc: 0.879 - ETA: 1s - loss: 0.3361 - acc: 0.879 - ETA: 1s - loss: 0.3356 - acc: 0.879 - ETA: 1s - loss: 0.3360 - acc: 0.879 - ETA: 1s - loss: 0.3357 - acc: 0.879 - ETA: 1s - loss: 0.3358 - acc: 0.879 - ETA: 1s - loss: 0.3361 - acc: 0.879 - ETA: 1s - loss: 0.3363 - acc: 0.879 - ETA: 1s - loss: 0.3357 - acc: 0.879 - ETA: 1s - loss: 0.3357 - acc: 0.879 - ETA: 1s - loss: 0.3355 - acc: 0.879 - ETA: 1s - loss: 0.3353 - acc: 0.879 - ETA: 1s - loss: 0.3354 - acc: 0.879 - ETA: 1s - loss: 0.3359 - acc: 0.878 - ETA: 1s - loss: 0.3362 - acc: 0.878 - ETA: 1s - loss: 0.3357 - acc: 0.879 - ETA: 1s - loss: 0.3355 - acc: 0.879 - ETA: 1s - loss: 0.3357 - acc: 0.879 - ETA: 1s - loss: 0.3358 - acc: 0.879 - ETA: 1s - loss: 0.3355 - acc: 0.879 - ETA: 0s - loss: 0.3355 - acc: 0.879 - ETA: 0s - loss: 0.3354 - acc: 0.879 - ETA: 0s - loss: 0.3359 - acc: 0.879 - ETA: 0s - loss: 0.3360 - acc: 0.879 - ETA: 0s - loss: 0.3353 - acc: 0.879 - ETA: 0s - loss: 0.3350 - acc: 0.879 - ETA: 0s - loss: 0.3348 - acc: 0.879 - ETA: 0s - loss: 0.3347 - acc: 0.879 - ETA: 0s - loss: 0.3348 - acc: 0.879 - ETA: 0s - loss: 0.3354 - acc: 0.879 - ETA: 0s - loss: 0.3350 - acc: 0.879 - ETA: 0s - loss: 0.3347 - acc: 0.879 - ETA: 0s - loss: 0.3341 - acc: 0.879 - ETA: 0s - loss: 0.3340 - acc: 0.879 - ETA: 0s - loss: 0.3342 - acc: 0.879 - ETA: 0s - loss: 0.3340 - acc: 0.879 - 8s 152us/step - loss: 0.3336 - acc: 0.8795 - val_loss: 0.3703 - val_acc: 0.8653\n",
      "Epoch 17/20\n"
     ]
    },
    {
     "data": {
      "application/vnd.jupyter.widget-view+json": {
       "model_id": "",
       "version_major": 2,
       "version_minor": 0
      },
      "text/plain": [
       "HBox(children=(IntProgress(value=0, description='Epoch 16', max=54000), HTML(value='')))"
      ]
     },
     "metadata": {},
     "output_type": "display_data"
    },
    {
     "name": "stdout",
     "output_type": "stream",
     "text": [
      "54000/54000 [==============================] - ETA: 1:26 - loss: 0.3405 - acc: 0.925 - ETA: 15s - loss: 0.4323 - acc: 0.852 - ETA: 12s - loss: 0.3882 - acc: 0.85 - ETA: 10s - loss: 0.3530 - acc: 0.87 - ETA: 9s - loss: 0.3745 - acc: 0.8723 - ETA: 9s - loss: 0.3621 - acc: 0.877 - ETA: 8s - loss: 0.3458 - acc: 0.880 - ETA: 8s - loss: 0.3440 - acc: 0.877 - ETA: 8s - loss: 0.3318 - acc: 0.882 - ETA: 8s - loss: 0.3345 - acc: 0.880 - ETA: 7s - loss: 0.3333 - acc: 0.880 - ETA: 7s - loss: 0.3318 - acc: 0.882 - ETA: 7s - loss: 0.3301 - acc: 0.881 - ETA: 7s - loss: 0.3265 - acc: 0.882 - ETA: 7s - loss: 0.3319 - acc: 0.881 - ETA: 7s - loss: 0.3295 - acc: 0.881 - ETA: 7s - loss: 0.3358 - acc: 0.879 - ETA: 7s - loss: 0.3324 - acc: 0.880 - ETA: 6s - loss: 0.3340 - acc: 0.879 - ETA: 6s - loss: 0.3283 - acc: 0.881 - ETA: 6s - loss: 0.3282 - acc: 0.881 - ETA: 6s - loss: 0.3283 - acc: 0.881 - ETA: 5s - loss: 0.3256 - acc: 0.883 - ETA: 5s - loss: 0.3256 - acc: 0.882 - ETA: 5s - loss: 0.3249 - acc: 0.882 - ETA: 5s - loss: 0.3233 - acc: 0.883 - ETA: 5s - loss: 0.3254 - acc: 0.882 - ETA: 5s - loss: 0.3254 - acc: 0.882 - ETA: 5s - loss: 0.3254 - acc: 0.882 - ETA: 5s - loss: 0.3256 - acc: 0.882 - ETA: 5s - loss: 0.3249 - acc: 0.882 - ETA: 5s - loss: 0.3261 - acc: 0.882 - ETA: 4s - loss: 0.3261 - acc: 0.882 - ETA: 4s - loss: 0.3264 - acc: 0.882 - ETA: 4s - loss: 0.3268 - acc: 0.882 - ETA: 4s - loss: 0.3272 - acc: 0.882 - ETA: 4s - loss: 0.3275 - acc: 0.882 - ETA: 4s - loss: 0.3278 - acc: 0.882 - ETA: 4s - loss: 0.3281 - acc: 0.882 - ETA: 4s - loss: 0.3296 - acc: 0.881 - ETA: 4s - loss: 0.3291 - acc: 0.881 - ETA: 4s - loss: 0.3284 - acc: 0.881 - ETA: 4s - loss: 0.3288 - acc: 0.881 - ETA: 4s - loss: 0.3300 - acc: 0.881 - ETA: 4s - loss: 0.3297 - acc: 0.881 - ETA: 4s - loss: 0.3280 - acc: 0.882 - ETA: 4s - loss: 0.3304 - acc: 0.881 - ETA: 4s - loss: 0.3310 - acc: 0.882 - ETA: 4s - loss: 0.3306 - acc: 0.882 - ETA: 4s - loss: 0.3306 - acc: 0.882 - ETA: 4s - loss: 0.3300 - acc: 0.881 - ETA: 4s - loss: 0.3296 - acc: 0.881 - ETA: 3s - loss: 0.3306 - acc: 0.881 - ETA: 3s - loss: 0.3305 - acc: 0.881 - ETA: 3s - loss: 0.3297 - acc: 0.882 - ETA: 3s - loss: 0.3291 - acc: 0.882 - ETA: 3s - loss: 0.3309 - acc: 0.881 - ETA: 3s - loss: 0.3301 - acc: 0.881 - ETA: 3s - loss: 0.3307 - acc: 0.881 - ETA: 3s - loss: 0.3302 - acc: 0.881 - ETA: 3s - loss: 0.3295 - acc: 0.881 - ETA: 3s - loss: 0.3299 - acc: 0.882 - ETA: 3s - loss: 0.3301 - acc: 0.881 - ETA: 3s - loss: 0.3295 - acc: 0.882 - ETA: 3s - loss: 0.3293 - acc: 0.882 - ETA: 2s - loss: 0.3296 - acc: 0.882 - ETA: 2s - loss: 0.3297 - acc: 0.882 - ETA: 2s - loss: 0.3294 - acc: 0.882 - ETA: 2s - loss: 0.3287 - acc: 0.882 - ETA: 2s - loss: 0.3288 - acc: 0.882 - ETA: 2s - loss: 0.3288 - acc: 0.882 - ETA: 2s - loss: 0.3286 - acc: 0.882 - ETA: 2s - loss: 0.3285 - acc: 0.882 - ETA: 2s - loss: 0.3279 - acc: 0.882 - ETA: 2s - loss: 0.3283 - acc: 0.882 - ETA: 2s - loss: 0.3289 - acc: 0.881 - ETA: 2s - loss: 0.3293 - acc: 0.881 - ETA: 2s - loss: 0.3293 - acc: 0.881 - ETA: 2s - loss: 0.3288 - acc: 0.881 - ETA: 2s - loss: 0.3286 - acc: 0.881 - ETA: 2s - loss: 0.3287 - acc: 0.881 - ETA: 2s - loss: 0.3285 - acc: 0.881 - ETA: 2s - loss: 0.3278 - acc: 0.881 - ETA: 2s - loss: 0.3286 - acc: 0.881 - ETA: 2s - loss: 0.3287 - acc: 0.881 - ETA: 2s - loss: 0.3291 - acc: 0.881 - ETA: 2s - loss: 0.3288 - acc: 0.881 - ETA: 2s - loss: 0.3289 - acc: 0.881 - ETA: 1s - loss: 0.3292 - acc: 0.881 - ETA: 1s - loss: 0.3292 - acc: 0.881 - ETA: 1s - loss: 0.3292 - acc: 0.881 - ETA: 1s - loss: 0.3292 - acc: 0.881 - ETA: 1s - loss: 0.3290 - acc: 0.881 - ETA: 1s - loss: 0.3289 - acc: 0.881 - ETA: 1s - loss: 0.3290 - acc: 0.881 - ETA: 1s - loss: 0.3295 - acc: 0.881 - ETA: 1s - loss: 0.3298 - acc: 0.880 - ETA: 1s - loss: 0.3291 - acc: 0.881 - ETA: 1s - loss: 0.3292 - acc: 0.881 - ETA: 1s - loss: 0.3291 - acc: 0.881 - ETA: 1s - loss: 0.3291 - acc: 0.881 - ETA: 1s - loss: 0.3300 - acc: 0.880 - ETA: 1s - loss: 0.3304 - acc: 0.880 - ETA: 1s - loss: 0.3306 - acc: 0.880 - ETA: 1s - loss: 0.3306 - acc: 0.880 - ETA: 1s - loss: 0.3311 - acc: 0.880 - ETA: 1s - loss: 0.3307 - acc: 0.880 - ETA: 1s - loss: 0.3302 - acc: 0.880 - ETA: 1s - loss: 0.3305 - acc: 0.880 - ETA: 1s - loss: 0.3301 - acc: 0.880 - ETA: 1s - loss: 0.3303 - acc: 0.880 - ETA: 1s - loss: 0.3303 - acc: 0.880 - ETA: 1s - loss: 0.3300 - acc: 0.880 - ETA: 1s - loss: 0.3301 - acc: 0.880 - ETA: 1s - loss: 0.3300 - acc: 0.880 - ETA: 0s - loss: 0.3302 - acc: 0.880 - ETA: 0s - loss: 0.3301 - acc: 0.880 - ETA: 0s - loss: 0.3306 - acc: 0.880 - ETA: 0s - loss: 0.3303 - acc: 0.880 - ETA: 0s - loss: 0.3299 - acc: 0.880 - ETA: 0s - loss: 0.3295 - acc: 0.881 - ETA: 0s - loss: 0.3292 - acc: 0.881 - ETA: 0s - loss: 0.3291 - acc: 0.881 - ETA: 0s - loss: 0.3286 - acc: 0.881 - ETA: 0s - loss: 0.3287 - acc: 0.881 - ETA: 0s - loss: 0.3286 - acc: 0.881 - ETA: 0s - loss: 0.3288 - acc: 0.881 - ETA: 0s - loss: 0.3289 - acc: 0.881 - ETA: 0s - loss: 0.3291 - acc: 0.881 - ETA: 0s - loss: 0.3287 - acc: 0.881 - ETA: 0s - loss: 0.3289 - acc: 0.881 - ETA: 0s - loss: 0.3290 - acc: 0.881 - ETA: 0s - loss: 0.3291 - acc: 0.881 - ETA: 0s - loss: 0.3293 - acc: 0.881 - ETA: 0s - loss: 0.3292 - acc: 0.881 - ETA: 0s - loss: 0.3289 - acc: 0.881 - ETA: 0s - loss: 0.3287 - acc: 0.881 - ETA: 0s - loss: 0.3286 - acc: 0.881 - ETA: 0s - loss: 0.3284 - acc: 0.881 - 8s 141us/step - loss: 0.3283 - acc: 0.8815 - val_loss: 0.3812 - val_acc: 0.8593\n",
      "Epoch 18/20\n"
     ]
    },
    {
     "data": {
      "application/vnd.jupyter.widget-view+json": {
       "model_id": "",
       "version_major": 2,
       "version_minor": 0
      },
      "text/plain": [
       "HBox(children=(IntProgress(value=0, description='Epoch 17', max=54000), HTML(value='')))"
      ]
     },
     "metadata": {},
     "output_type": "display_data"
    },
    {
     "name": "stdout",
     "output_type": "stream",
     "text": [
      "54000/54000 [==============================] - ETA: 1:32 - loss: 0.5382 - acc: 0.800 - ETA: 18s - loss: 0.3747 - acc: 0.869 - ETA: 13s - loss: 0.3498 - acc: 0.86 - ETA: 11s - loss: 0.3246 - acc: 0.88 - ETA: 10s - loss: 0.3476 - acc: 0.87 - ETA: 10s - loss: 0.3434 - acc: 0.87 - ETA: 9s - loss: 0.3330 - acc: 0.8837 - ETA: 9s - loss: 0.3273 - acc: 0.882 - ETA: 8s - loss: 0.3274 - acc: 0.882 - ETA: 7s - loss: 0.3315 - acc: 0.882 - ETA: 6s - loss: 0.3366 - acc: 0.878 - ETA: 6s - loss: 0.3342 - acc: 0.879 - ETA: 6s - loss: 0.3334 - acc: 0.879 - ETA: 6s - loss: 0.3426 - acc: 0.876 - ETA: 5s - loss: 0.3371 - acc: 0.878 - ETA: 5s - loss: 0.3350 - acc: 0.879 - ETA: 5s - loss: 0.3343 - acc: 0.879 - ETA: 5s - loss: 0.3338 - acc: 0.880 - ETA: 5s - loss: 0.3304 - acc: 0.881 - ETA: 5s - loss: 0.3288 - acc: 0.881 - ETA: 5s - loss: 0.3274 - acc: 0.882 - ETA: 5s - loss: 0.3254 - acc: 0.883 - ETA: 5s - loss: 0.3252 - acc: 0.884 - ETA: 5s - loss: 0.3260 - acc: 0.883 - ETA: 5s - loss: 0.3264 - acc: 0.884 - ETA: 5s - loss: 0.3254 - acc: 0.884 - ETA: 5s - loss: 0.3226 - acc: 0.885 - ETA: 5s - loss: 0.3221 - acc: 0.885 - ETA: 5s - loss: 0.3211 - acc: 0.885 - ETA: 5s - loss: 0.3210 - acc: 0.885 - ETA: 5s - loss: 0.3211 - acc: 0.885 - ETA: 5s - loss: 0.3208 - acc: 0.885 - ETA: 5s - loss: 0.3202 - acc: 0.885 - ETA: 5s - loss: 0.3217 - acc: 0.885 - ETA: 5s - loss: 0.3204 - acc: 0.885 - ETA: 5s - loss: 0.3197 - acc: 0.886 - ETA: 5s - loss: 0.3189 - acc: 0.886 - ETA: 5s - loss: 0.3195 - acc: 0.885 - ETA: 5s - loss: 0.3190 - acc: 0.886 - ETA: 5s - loss: 0.3195 - acc: 0.886 - ETA: 5s - loss: 0.3192 - acc: 0.885 - ETA: 5s - loss: 0.3209 - acc: 0.885 - ETA: 5s - loss: 0.3204 - acc: 0.884 - ETA: 5s - loss: 0.3210 - acc: 0.884 - ETA: 4s - loss: 0.3200 - acc: 0.885 - ETA: 4s - loss: 0.3207 - acc: 0.884 - ETA: 4s - loss: 0.3229 - acc: 0.883 - ETA: 4s - loss: 0.3236 - acc: 0.883 - ETA: 4s - loss: 0.3235 - acc: 0.884 - ETA: 4s - loss: 0.3242 - acc: 0.883 - ETA: 4s - loss: 0.3246 - acc: 0.883 - ETA: 4s - loss: 0.3254 - acc: 0.883 - ETA: 4s - loss: 0.3243 - acc: 0.883 - ETA: 4s - loss: 0.3245 - acc: 0.883 - ETA: 4s - loss: 0.3255 - acc: 0.883 - ETA: 4s - loss: 0.3253 - acc: 0.883 - ETA: 4s - loss: 0.3254 - acc: 0.883 - ETA: 3s - loss: 0.3260 - acc: 0.883 - ETA: 3s - loss: 0.3259 - acc: 0.883 - ETA: 3s - loss: 0.3253 - acc: 0.883 - ETA: 3s - loss: 0.3261 - acc: 0.883 - ETA: 3s - loss: 0.3258 - acc: 0.883 - ETA: 3s - loss: 0.3265 - acc: 0.883 - ETA: 3s - loss: 0.3259 - acc: 0.883 - ETA: 3s - loss: 0.3255 - acc: 0.883 - ETA: 3s - loss: 0.3251 - acc: 0.883 - ETA: 3s - loss: 0.3254 - acc: 0.883 - ETA: 3s - loss: 0.3252 - acc: 0.883 - ETA: 3s - loss: 0.3256 - acc: 0.883 - ETA: 3s - loss: 0.3261 - acc: 0.883 - ETA: 3s - loss: 0.3268 - acc: 0.882 - ETA: 3s - loss: 0.3265 - acc: 0.883 - ETA: 3s - loss: 0.3268 - acc: 0.882 - ETA: 3s - loss: 0.3264 - acc: 0.882 - ETA: 3s - loss: 0.3269 - acc: 0.882 - ETA: 3s - loss: 0.3272 - acc: 0.882 - ETA: 3s - loss: 0.3257 - acc: 0.882 - ETA: 3s - loss: 0.3264 - acc: 0.882 - ETA: 2s - loss: 0.3267 - acc: 0.882 - ETA: 2s - loss: 0.3267 - acc: 0.882 - ETA: 2s - loss: 0.3270 - acc: 0.882 - ETA: 2s - loss: 0.3271 - acc: 0.882 - ETA: 2s - loss: 0.3265 - acc: 0.882 - ETA: 2s - loss: 0.3265 - acc: 0.883 - ETA: 2s - loss: 0.3267 - acc: 0.882 - ETA: 2s - loss: 0.3265 - acc: 0.882 - ETA: 2s - loss: 0.3263 - acc: 0.882 - ETA: 2s - loss: 0.3270 - acc: 0.882 - ETA: 2s - loss: 0.3265 - acc: 0.883 - ETA: 2s - loss: 0.3261 - acc: 0.883 - ETA: 2s - loss: 0.3263 - acc: 0.883 - ETA: 2s - loss: 0.3266 - acc: 0.882 - ETA: 2s - loss: 0.3260 - acc: 0.883 - ETA: 2s - loss: 0.3257 - acc: 0.883 - ETA: 2s - loss: 0.3255 - acc: 0.883 - ETA: 2s - loss: 0.3252 - acc: 0.883 - ETA: 2s - loss: 0.3246 - acc: 0.883 - ETA: 2s - loss: 0.3247 - acc: 0.883 - ETA: 2s - loss: 0.3239 - acc: 0.883 - ETA: 2s - loss: 0.3236 - acc: 0.883 - ETA: 2s - loss: 0.3237 - acc: 0.883 - ETA: 1s - loss: 0.3234 - acc: 0.883 - ETA: 1s - loss: 0.3241 - acc: 0.883 - ETA: 1s - loss: 0.3238 - acc: 0.883 - ETA: 1s - loss: 0.3236 - acc: 0.883 - ETA: 1s - loss: 0.3238 - acc: 0.883 - ETA: 1s - loss: 0.3234 - acc: 0.883 - ETA: 1s - loss: 0.3238 - acc: 0.883 - ETA: 1s - loss: 0.3240 - acc: 0.883 - ETA: 1s - loss: 0.3241 - acc: 0.883 - ETA: 1s - loss: 0.3231 - acc: 0.883 - ETA: 1s - loss: 0.3233 - acc: 0.883 - ETA: 1s - loss: 0.3235 - acc: 0.883 - ETA: 1s - loss: 0.3236 - acc: 0.883 - ETA: 1s - loss: 0.3234 - acc: 0.883 - ETA: 1s - loss: 0.3234 - acc: 0.883 - ETA: 1s - loss: 0.3231 - acc: 0.884 - ETA: 1s - loss: 0.3233 - acc: 0.884 - ETA: 1s - loss: 0.3231 - acc: 0.884 - ETA: 1s - loss: 0.3231 - acc: 0.884 - ETA: 1s - loss: 0.3226 - acc: 0.884 - ETA: 1s - loss: 0.3226 - acc: 0.884 - ETA: 1s - loss: 0.3229 - acc: 0.884 - ETA: 1s - loss: 0.3229 - acc: 0.884 - ETA: 1s - loss: 0.3227 - acc: 0.884 - ETA: 0s - loss: 0.3224 - acc: 0.884 - ETA: 0s - loss: 0.3226 - acc: 0.884 - ETA: 0s - loss: 0.3226 - acc: 0.884 - ETA: 0s - loss: 0.3222 - acc: 0.884 - ETA: 0s - loss: 0.3225 - acc: 0.884 - ETA: 0s - loss: 0.3220 - acc: 0.884 - ETA: 0s - loss: 0.3216 - acc: 0.884 - ETA: 0s - loss: 0.3216 - acc: 0.884 - ETA: 0s - loss: 0.3215 - acc: 0.884 - ETA: 0s - loss: 0.3217 - acc: 0.884 - ETA: 0s - loss: 0.3215 - acc: 0.884 - ETA: 0s - loss: 0.3216 - acc: 0.884 - ETA: 0s - loss: 0.3219 - acc: 0.884 - ETA: 0s - loss: 0.3224 - acc: 0.883 - ETA: 0s - loss: 0.3227 - acc: 0.883 - ETA: 0s - loss: 0.3226 - acc: 0.883 - ETA: 0s - loss: 0.3226 - acc: 0.883 - ETA: 0s - loss: 0.3231 - acc: 0.883 - ETA: 0s - loss: 0.3229 - acc: 0.883 - ETA: 0s - loss: 0.3232 - acc: 0.883 - ETA: 0s - loss: 0.3234 - acc: 0.883 - ETA: 0s - loss: 0.3234 - acc: 0.883 - ETA: 0s - loss: 0.3233 - acc: 0.883 - ETA: 0s - loss: 0.3233 - acc: 0.883 - 8s 151us/step - loss: 0.3236 - acc: 0.8831 - val_loss: 0.3634 - val_acc: 0.8710\n",
      "Epoch 19/20\n"
     ]
    },
    {
     "data": {
      "application/vnd.jupyter.widget-view+json": {
       "model_id": "",
       "version_major": 2,
       "version_minor": 0
      },
      "text/plain": [
       "HBox(children=(IntProgress(value=0, description='Epoch 18', max=54000), HTML(value='')))"
      ]
     },
     "metadata": {},
     "output_type": "display_data"
    },
    {
     "name": "stdout",
     "output_type": "stream",
     "text": [
      "54000/54000 [==============================] - ETA: 1:25 - loss: 0.3787 - acc: 0.875 - ETA: 10s - loss: 0.3718 - acc: 0.873 - ETA: 7s - loss: 0.3151 - acc: 0.8858 - ETA: 6s - loss: 0.3334 - acc: 0.884 - ETA: 6s - loss: 0.3321 - acc: 0.886 - ETA: 5s - loss: 0.3335 - acc: 0.882 - ETA: 5s - loss: 0.3409 - acc: 0.879 - ETA: 5s - loss: 0.3402 - acc: 0.878 - ETA: 5s - loss: 0.3346 - acc: 0.879 - ETA: 5s - loss: 0.3311 - acc: 0.882 - ETA: 5s - loss: 0.3245 - acc: 0.884 - ETA: 5s - loss: 0.3276 - acc: 0.881 - ETA: 5s - loss: 0.3229 - acc: 0.884 - ETA: 5s - loss: 0.3206 - acc: 0.886 - ETA: 5s - loss: 0.3199 - acc: 0.886 - ETA: 5s - loss: 0.3191 - acc: 0.885 - ETA: 5s - loss: 0.3197 - acc: 0.884 - ETA: 5s - loss: 0.3214 - acc: 0.884 - ETA: 5s - loss: 0.3225 - acc: 0.883 - ETA: 5s - loss: 0.3214 - acc: 0.883 - ETA: 5s - loss: 0.3206 - acc: 0.884 - ETA: 5s - loss: 0.3223 - acc: 0.883 - ETA: 5s - loss: 0.3229 - acc: 0.883 - ETA: 5s - loss: 0.3227 - acc: 0.883 - ETA: 5s - loss: 0.3236 - acc: 0.883 - ETA: 5s - loss: 0.3213 - acc: 0.884 - ETA: 5s - loss: 0.3211 - acc: 0.883 - ETA: 5s - loss: 0.3200 - acc: 0.883 - ETA: 5s - loss: 0.3200 - acc: 0.883 - ETA: 5s - loss: 0.3196 - acc: 0.883 - ETA: 5s - loss: 0.3190 - acc: 0.884 - ETA: 5s - loss: 0.3177 - acc: 0.884 - ETA: 5s - loss: 0.3159 - acc: 0.885 - ETA: 5s - loss: 0.3157 - acc: 0.885 - ETA: 5s - loss: 0.3163 - acc: 0.885 - ETA: 5s - loss: 0.3165 - acc: 0.885 - ETA: 5s - loss: 0.3151 - acc: 0.885 - ETA: 5s - loss: 0.3156 - acc: 0.885 - ETA: 5s - loss: 0.3163 - acc: 0.885 - ETA: 5s - loss: 0.3149 - acc: 0.886 - ETA: 5s - loss: 0.3146 - acc: 0.886 - ETA: 5s - loss: 0.3147 - acc: 0.885 - ETA: 5s - loss: 0.3146 - acc: 0.885 - ETA: 5s - loss: 0.3156 - acc: 0.885 - ETA: 5s - loss: 0.3148 - acc: 0.885 - ETA: 5s - loss: 0.3148 - acc: 0.885 - ETA: 5s - loss: 0.3144 - acc: 0.885 - ETA: 5s - loss: 0.3143 - acc: 0.885 - ETA: 5s - loss: 0.3155 - acc: 0.885 - ETA: 4s - loss: 0.3162 - acc: 0.885 - ETA: 4s - loss: 0.3158 - acc: 0.885 - ETA: 4s - loss: 0.3169 - acc: 0.884 - ETA: 4s - loss: 0.3168 - acc: 0.885 - ETA: 4s - loss: 0.3159 - acc: 0.885 - ETA: 4s - loss: 0.3166 - acc: 0.884 - ETA: 4s - loss: 0.3164 - acc: 0.885 - ETA: 4s - loss: 0.3164 - acc: 0.885 - ETA: 4s - loss: 0.3172 - acc: 0.885 - ETA: 4s - loss: 0.3175 - acc: 0.884 - ETA: 4s - loss: 0.3182 - acc: 0.884 - ETA: 4s - loss: 0.3189 - acc: 0.884 - ETA: 4s - loss: 0.3197 - acc: 0.884 - ETA: 4s - loss: 0.3206 - acc: 0.883 - ETA: 4s - loss: 0.3201 - acc: 0.884 - ETA: 4s - loss: 0.3200 - acc: 0.883 - ETA: 4s - loss: 0.3195 - acc: 0.884 - ETA: 4s - loss: 0.3184 - acc: 0.884 - ETA: 4s - loss: 0.3174 - acc: 0.885 - ETA: 4s - loss: 0.3167 - acc: 0.885 - ETA: 3s - loss: 0.3171 - acc: 0.885 - ETA: 3s - loss: 0.3174 - acc: 0.885 - ETA: 3s - loss: 0.3167 - acc: 0.885 - ETA: 3s - loss: 0.3166 - acc: 0.885 - ETA: 3s - loss: 0.3166 - acc: 0.885 - ETA: 3s - loss: 0.3171 - acc: 0.885 - ETA: 3s - loss: 0.3168 - acc: 0.885 - ETA: 3s - loss: 0.3164 - acc: 0.885 - ETA: 3s - loss: 0.3163 - acc: 0.885 - ETA: 3s - loss: 0.3160 - acc: 0.885 - ETA: 3s - loss: 0.3153 - acc: 0.885 - ETA: 3s - loss: 0.3158 - acc: 0.885 - ETA: 3s - loss: 0.3163 - acc: 0.885 - ETA: 3s - loss: 0.3165 - acc: 0.885 - ETA: 3s - loss: 0.3168 - acc: 0.885 - ETA: 2s - loss: 0.3170 - acc: 0.885 - ETA: 2s - loss: 0.3167 - acc: 0.885 - ETA: 2s - loss: 0.3168 - acc: 0.884 - ETA: 2s - loss: 0.3175 - acc: 0.884 - ETA: 2s - loss: 0.3191 - acc: 0.884 - ETA: 2s - loss: 0.3194 - acc: 0.884 - ETA: 2s - loss: 0.3188 - acc: 0.884 - ETA: 2s - loss: 0.3197 - acc: 0.884 - ETA: 2s - loss: 0.3196 - acc: 0.884 - ETA: 2s - loss: 0.3199 - acc: 0.884 - ETA: 2s - loss: 0.3191 - acc: 0.884 - ETA: 2s - loss: 0.3192 - acc: 0.884 - ETA: 2s - loss: 0.3192 - acc: 0.884 - ETA: 2s - loss: 0.3199 - acc: 0.884 - ETA: 2s - loss: 0.3193 - acc: 0.884 - ETA: 2s - loss: 0.3195 - acc: 0.884 - ETA: 2s - loss: 0.3198 - acc: 0.884 - ETA: 2s - loss: 0.3204 - acc: 0.884 - ETA: 2s - loss: 0.3213 - acc: 0.883 - ETA: 1s - loss: 0.3211 - acc: 0.883 - ETA: 1s - loss: 0.3209 - acc: 0.883 - ETA: 1s - loss: 0.3207 - acc: 0.883 - ETA: 1s - loss: 0.3206 - acc: 0.883 - ETA: 1s - loss: 0.3202 - acc: 0.883 - ETA: 1s - loss: 0.3200 - acc: 0.884 - ETA: 1s - loss: 0.3197 - acc: 0.884 - ETA: 1s - loss: 0.3197 - acc: 0.884 - ETA: 1s - loss: 0.3198 - acc: 0.884 - ETA: 1s - loss: 0.3203 - acc: 0.884 - ETA: 1s - loss: 0.3204 - acc: 0.883 - ETA: 1s - loss: 0.3197 - acc: 0.884 - ETA: 1s - loss: 0.3196 - acc: 0.883 - ETA: 1s - loss: 0.3202 - acc: 0.883 - ETA: 1s - loss: 0.3199 - acc: 0.883 - ETA: 1s - loss: 0.3196 - acc: 0.883 - ETA: 1s - loss: 0.3196 - acc: 0.884 - ETA: 1s - loss: 0.3197 - acc: 0.883 - ETA: 0s - loss: 0.3200 - acc: 0.883 - ETA: 0s - loss: 0.3203 - acc: 0.883 - ETA: 0s - loss: 0.3198 - acc: 0.883 - ETA: 0s - loss: 0.3198 - acc: 0.884 - ETA: 0s - loss: 0.3197 - acc: 0.884 - ETA: 0s - loss: 0.3196 - acc: 0.884 - ETA: 0s - loss: 0.3193 - acc: 0.884 - ETA: 0s - loss: 0.3192 - acc: 0.884 - ETA: 0s - loss: 0.3190 - acc: 0.884 - ETA: 0s - loss: 0.3191 - acc: 0.884 - ETA: 0s - loss: 0.3190 - acc: 0.884 - ETA: 0s - loss: 0.3190 - acc: 0.884 - ETA: 0s - loss: 0.3189 - acc: 0.884 - ETA: 0s - loss: 0.3188 - acc: 0.884 - ETA: 0s - loss: 0.3188 - acc: 0.884 - ETA: 0s - loss: 0.3186 - acc: 0.884 - ETA: 0s - loss: 0.3187 - acc: 0.884 - ETA: 0s - loss: 0.3187 - acc: 0.884 - ETA: 0s - loss: 0.3188 - acc: 0.884 - ETA: 0s - loss: 0.3188 - acc: 0.884 - ETA: 0s - loss: 0.3191 - acc: 0.884 - ETA: 0s - loss: 0.3190 - acc: 0.884 - 8s 145us/step - loss: 0.3191 - acc: 0.8845 - val_loss: 0.3581 - val_acc: 0.8697\n",
      "Epoch 20/20\n"
     ]
    },
    {
     "data": {
      "application/vnd.jupyter.widget-view+json": {
       "model_id": "",
       "version_major": 2,
       "version_minor": 0
      },
      "text/plain": [
       "HBox(children=(IntProgress(value=0, description='Epoch 19', max=54000), HTML(value='')))"
      ]
     },
     "metadata": {},
     "output_type": "display_data"
    },
    {
     "name": "stdout",
     "output_type": "stream",
     "text": [
      "54000/54000 [==============================] - ETA: 1:22 - loss: 0.3391 - acc: 0.925 - ETA: 10s - loss: 0.2929 - acc: 0.887 - ETA: 7s - loss: 0.3005 - acc: 0.8897 - ETA: 6s - loss: 0.2950 - acc: 0.893 - ETA: 5s - loss: 0.2869 - acc: 0.896 - ETA: 5s - loss: 0.2939 - acc: 0.896 - ETA: 5s - loss: 0.2986 - acc: 0.890 - ETA: 5s - loss: 0.3036 - acc: 0.887 - ETA: 5s - loss: 0.3028 - acc: 0.888 - ETA: 4s - loss: 0.3009 - acc: 0.888 - ETA: 4s - loss: 0.3016 - acc: 0.890 - ETA: 4s - loss: 0.2991 - acc: 0.890 - ETA: 4s - loss: 0.2978 - acc: 0.890 - ETA: 4s - loss: 0.3003 - acc: 0.889 - ETA: 4s - loss: 0.3030 - acc: 0.889 - ETA: 4s - loss: 0.3033 - acc: 0.890 - ETA: 4s - loss: 0.3043 - acc: 0.890 - ETA: 4s - loss: 0.3052 - acc: 0.889 - ETA: 4s - loss: 0.3055 - acc: 0.889 - ETA: 4s - loss: 0.3053 - acc: 0.889 - ETA: 4s - loss: 0.3045 - acc: 0.890 - ETA: 4s - loss: 0.3079 - acc: 0.889 - ETA: 4s - loss: 0.3081 - acc: 0.888 - ETA: 4s - loss: 0.3073 - acc: 0.889 - ETA: 4s - loss: 0.3071 - acc: 0.889 - ETA: 4s - loss: 0.3065 - acc: 0.889 - ETA: 4s - loss: 0.3068 - acc: 0.890 - ETA: 4s - loss: 0.3063 - acc: 0.890 - ETA: 4s - loss: 0.3080 - acc: 0.889 - ETA: 4s - loss: 0.3080 - acc: 0.890 - ETA: 4s - loss: 0.3103 - acc: 0.889 - ETA: 4s - loss: 0.3094 - acc: 0.889 - ETA: 4s - loss: 0.3098 - acc: 0.889 - ETA: 4s - loss: 0.3101 - acc: 0.889 - ETA: 4s - loss: 0.3092 - acc: 0.889 - ETA: 4s - loss: 0.3103 - acc: 0.889 - ETA: 4s - loss: 0.3105 - acc: 0.889 - ETA: 4s - loss: 0.3103 - acc: 0.889 - ETA: 4s - loss: 0.3107 - acc: 0.889 - ETA: 4s - loss: 0.3102 - acc: 0.889 - ETA: 4s - loss: 0.3101 - acc: 0.889 - ETA: 4s - loss: 0.3106 - acc: 0.889 - ETA: 4s - loss: 0.3115 - acc: 0.889 - ETA: 4s - loss: 0.3114 - acc: 0.889 - ETA: 4s - loss: 0.3103 - acc: 0.889 - ETA: 4s - loss: 0.3099 - acc: 0.889 - ETA: 4s - loss: 0.3092 - acc: 0.890 - ETA: 4s - loss: 0.3086 - acc: 0.890 - ETA: 4s - loss: 0.3085 - acc: 0.890 - ETA: 3s - loss: 0.3089 - acc: 0.889 - ETA: 3s - loss: 0.3090 - acc: 0.890 - ETA: 3s - loss: 0.3089 - acc: 0.890 - ETA: 3s - loss: 0.3086 - acc: 0.890 - ETA: 3s - loss: 0.3083 - acc: 0.890 - ETA: 3s - loss: 0.3090 - acc: 0.890 - ETA: 3s - loss: 0.3095 - acc: 0.890 - ETA: 3s - loss: 0.3081 - acc: 0.890 - ETA: 3s - loss: 0.3069 - acc: 0.891 - ETA: 3s - loss: 0.3066 - acc: 0.891 - ETA: 3s - loss: 0.3058 - acc: 0.891 - ETA: 3s - loss: 0.3067 - acc: 0.891 - ETA: 3s - loss: 0.3065 - acc: 0.891 - ETA: 3s - loss: 0.3066 - acc: 0.890 - ETA: 3s - loss: 0.3065 - acc: 0.890 - ETA: 3s - loss: 0.3070 - acc: 0.890 - ETA: 3s - loss: 0.3071 - acc: 0.890 - ETA: 3s - loss: 0.3063 - acc: 0.891 - ETA: 3s - loss: 0.3064 - acc: 0.890 - ETA: 3s - loss: 0.3071 - acc: 0.890 - ETA: 3s - loss: 0.3076 - acc: 0.890 - ETA: 3s - loss: 0.3077 - acc: 0.890 - ETA: 3s - loss: 0.3075 - acc: 0.890 - ETA: 3s - loss: 0.3076 - acc: 0.890 - ETA: 3s - loss: 0.3080 - acc: 0.890 - ETA: 3s - loss: 0.3079 - acc: 0.890 - ETA: 3s - loss: 0.3094 - acc: 0.889 - ETA: 3s - loss: 0.3090 - acc: 0.890 - ETA: 3s - loss: 0.3087 - acc: 0.890 - ETA: 3s - loss: 0.3092 - acc: 0.890 - ETA: 3s - loss: 0.3084 - acc: 0.890 - ETA: 3s - loss: 0.3086 - acc: 0.890 - ETA: 2s - loss: 0.3087 - acc: 0.890 - ETA: 2s - loss: 0.3089 - acc: 0.890 - ETA: 2s - loss: 0.3096 - acc: 0.890 - ETA: 2s - loss: 0.3095 - acc: 0.890 - ETA: 2s - loss: 0.3102 - acc: 0.890 - ETA: 2s - loss: 0.3107 - acc: 0.890 - ETA: 2s - loss: 0.3111 - acc: 0.889 - ETA: 2s - loss: 0.3112 - acc: 0.889 - ETA: 2s - loss: 0.3116 - acc: 0.889 - ETA: 2s - loss: 0.3117 - acc: 0.889 - ETA: 2s - loss: 0.3121 - acc: 0.888 - ETA: 2s - loss: 0.3121 - acc: 0.888 - ETA: 2s - loss: 0.3123 - acc: 0.888 - ETA: 2s - loss: 0.3121 - acc: 0.888 - ETA: 2s - loss: 0.3127 - acc: 0.888 - ETA: 2s - loss: 0.3125 - acc: 0.888 - ETA: 2s - loss: 0.3122 - acc: 0.888 - ETA: 2s - loss: 0.3121 - acc: 0.888 - ETA: 2s - loss: 0.3121 - acc: 0.888 - ETA: 2s - loss: 0.3122 - acc: 0.888 - ETA: 2s - loss: 0.3125 - acc: 0.888 - ETA: 2s - loss: 0.3129 - acc: 0.888 - ETA: 2s - loss: 0.3128 - acc: 0.888 - ETA: 1s - loss: 0.3127 - acc: 0.888 - ETA: 1s - loss: 0.3127 - acc: 0.888 - ETA: 1s - loss: 0.3129 - acc: 0.888 - ETA: 1s - loss: 0.3129 - acc: 0.888 - ETA: 1s - loss: 0.3129 - acc: 0.887 - ETA: 1s - loss: 0.3136 - acc: 0.887 - ETA: 1s - loss: 0.3135 - acc: 0.887 - ETA: 1s - loss: 0.3135 - acc: 0.887 - ETA: 1s - loss: 0.3136 - acc: 0.887 - ETA: 1s - loss: 0.3136 - acc: 0.887 - ETA: 1s - loss: 0.3137 - acc: 0.887 - ETA: 1s - loss: 0.3140 - acc: 0.887 - ETA: 1s - loss: 0.3143 - acc: 0.887 - ETA: 1s - loss: 0.3140 - acc: 0.887 - ETA: 1s - loss: 0.3136 - acc: 0.887 - ETA: 1s - loss: 0.3138 - acc: 0.887 - ETA: 1s - loss: 0.3140 - acc: 0.887 - ETA: 1s - loss: 0.3137 - acc: 0.887 - ETA: 1s - loss: 0.3135 - acc: 0.887 - ETA: 1s - loss: 0.3139 - acc: 0.887 - ETA: 0s - loss: 0.3143 - acc: 0.887 - ETA: 0s - loss: 0.3142 - acc: 0.887 - ETA: 0s - loss: 0.3140 - acc: 0.887 - ETA: 0s - loss: 0.3143 - acc: 0.887 - ETA: 0s - loss: 0.3143 - acc: 0.887 - ETA: 0s - loss: 0.3145 - acc: 0.887 - ETA: 0s - loss: 0.3142 - acc: 0.887 - ETA: 0s - loss: 0.3140 - acc: 0.887 - ETA: 0s - loss: 0.3139 - acc: 0.887 - ETA: 0s - loss: 0.3138 - acc: 0.887 - ETA: 0s - loss: 0.3138 - acc: 0.887 - ETA: 0s - loss: 0.3142 - acc: 0.887 - ETA: 0s - loss: 0.3145 - acc: 0.887 - ETA: 0s - loss: 0.3145 - acc: 0.887 - ETA: 0s - loss: 0.3146 - acc: 0.887 - ETA: 0s - loss: 0.3147 - acc: 0.887 - ETA: 0s - loss: 0.3143 - acc: 0.887 - ETA: 0s - loss: 0.3142 - acc: 0.887 - ETA: 0s - loss: 0.3144 - acc: 0.887 - ETA: 0s - loss: 0.3146 - acc: 0.887 - 8s 148us/step - loss: 0.3146 - acc: 0.8873 - val_loss: 0.3535 - val_acc: 0.8732\n"
     ]
    },
    {
     "data": {
      "text/plain": [
       "<keras.callbacks.History at 0x1df55494ef0>"
      ]
     },
     "execution_count": 93,
     "metadata": {},
     "output_type": "execute_result"
    }
   ],
   "source": [
    "# TODO: Fit model to training data\n",
    "    # Reserve some fraction of training data as validation data\n",
    "    # Pick number of epochs\n",
    "    # Pick a batch_size\n",
    "    # Pass in relevant callbacks_list from above\n",
    "model.fit(X_train, y_train_categorical, epochs=20, batch_size=40, callbacks=callbacks_list, validation_split=0.1)"
   ]
  },
  {
   "cell_type": "markdown",
   "metadata": {},
   "source": [
    "### Step 4: Evaluate the Model"
   ]
  },
  {
   "cell_type": "code",
   "execution_count": 94,
   "metadata": {},
   "outputs": [
    {
     "name": "stdout",
     "output_type": "stream",
     "text": [
      "10000/10000 [==============================] - ETA:  - ETA:  - ETA:  - ETA:  - ETA:  - ETA:  - ETA:  - ETA:  - ETA:  - ETA:  - ETA:  - ETA:  - ETA:  - ETA:  - ETA:  - ETA:  - 1s 78us/step\n",
      "[0.3766553090274334, 0.8659]\n"
     ]
    }
   ],
   "source": [
    "# TODO: Evaluate model on test data\n",
    "\n",
    "# Use model.evaluate()\n",
    "# Also: open up the training logs in Tensorboard to check validation_loss for overfitting\n",
    "loss_and_metrics = model.evaluate(X_test, y_test_categorical, batch_size=16)\n",
    "\n",
    "\n",
    "print(loss_and_metrics)"
   ]
  },
  {
   "cell_type": "code",
   "execution_count": 95,
   "metadata": {},
   "outputs": [],
   "source": [
    "# Final predictions testing\n",
    "\n",
    "import numpy as np\n",
    "\n",
    "# Compare actual class to predicted class\n",
    "def visualize_test_sample(test_sample_num):\n",
    "    \n",
    "    # Display actual image & label\n",
    "    flattened_vector = X_test[test_sample_num] # retrieve flattened vector\n",
    "    image_2d = np.reshape(flattened_vector, (28, 28)) # reshape to 28 x 28 grayscale image array\n",
    "    plt.imshow(image_2d, cmap = plt.get_cmap('gray')) # feed image into matplotlib\n",
    "    print(\"Actual Label: \", y_test[test_sample_num]) # print actual label\n",
    "    print(\"Actual Description: \", to_description(y_test[test_sample_num])) # print description\n",
    "    plt.show()\n",
    "    \n",
    "    # Print predicted label\n",
    "    test_sample = np.expand_dims(X_test[test_sample_num], axis=0) # pick out a one-sample \"batch\" to feed into model\n",
    "    predicted_scores = model.predict(test_sample) # outputted probabilities vector\n",
    "    print(\"Outputted scores: \", predicted_scores) # print predicted scores\n",
    "\n",
    "    predicted_class = np.argmax(predicted_scores) # pick the class with highest probability --> final prediction\n",
    "    print(\"Predicted Label: \", predicted_class) # print predicted classification\n",
    "    print(\"Predicted Description: \", to_description(predicted_class)) # print predicted label description"
   ]
  },
  {
   "cell_type": "code",
   "execution_count": 97,
   "metadata": {},
   "outputs": [
    {
     "name": "stdout",
     "output_type": "stream",
     "text": [
      "Actual Label:  7\n",
      "Actual Description:  Sneaker\n"
     ]
    },
    {
     "data": {
      "image/png": "[encoded data removed]",
      "text/plain": [
       "<Figure size 432x288 with 1 Axes>"
      ]
     },
     "metadata": {
      "needs_background": "light"
     },
     "output_type": "display_data"
    },
    {
     "name": "stdout",
     "output_type": "stream",
     "text": [
      "Outputted scores:  [[5.0423805e-05 6.0028210e-06 1.8725018e-06 4.7742874e-06 1.8724150e-07\n",
      "  1.5529020e-02 1.6491977e-06 9.8281640e-01 1.2310767e-03 3.5867089e-04]]\n",
      "Predicted Label:  7\n",
      "Predicted Description:  Sneaker\n"
     ]
    }
   ],
   "source": [
    "visualize_test_sample(9\n",
    "                     )"
   ]
  },
  {
   "cell_type": "code",
   "execution_count": null,
   "metadata": {
    "collapsed": true
   },
   "outputs": [],
   "source": []
  }
 ],
 "metadata": {
  "kernelspec": {
   "display_name": "Python [conda env:caispp]",
   "language": "python",
   "name": "conda-env-caispp-py"
  },
  "language_info": {
   "codemirror_mode": {
    "name": "ipython",
    "version": 3
   },
   "file_extension": ".py",
   "mimetype": "text/x-python",
   "name": "python",
   "nbconvert_exporter": "python",
   "pygments_lexer": "ipython3",
   "version": "3.5.6"
  }
 },
 "nbformat": 4,
 "nbformat_minor": 2
}
